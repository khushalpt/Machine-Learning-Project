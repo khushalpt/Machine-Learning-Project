{
  "nbformat": 4,
  "nbformat_minor": 0,
  "metadata": {
    "colab": {
      "name": "1106937_ML_Project_cifar100.ipynb",
      "provenance": [],
      "collapsed_sections": []
    },
    "kernelspec": {
      "name": "python3",
      "display_name": "Python 3"
    },
    "accelerator": "GPU",
    "widgets": {
      "application/vnd.jupyter.widget-state+json": {
        "25801addb243411c847c38d0f76db7d7": {
          "model_module": "@jupyter-widgets/controls",
          "model_name": "HBoxModel",
          "state": {
            "_view_name": "HBoxView",
            "_dom_classes": [],
            "_model_name": "HBoxModel",
            "_view_module": "@jupyter-widgets/controls",
            "_model_module_version": "1.5.0",
            "_view_count": null,
            "_view_module_version": "1.5.0",
            "box_style": "",
            "layout": "IPY_MODEL_718b33cd367140b0afe701731ff0af62",
            "_model_module": "@jupyter-widgets/controls",
            "children": [
              "IPY_MODEL_fdb489c2bea94c639116f547454c7584",
              "IPY_MODEL_df4e51c970e24d9a9bf028054cfd1a2e"
            ]
          }
        },
        "718b33cd367140b0afe701731ff0af62": {
          "model_module": "@jupyter-widgets/base",
          "model_name": "LayoutModel",
          "state": {
            "_view_name": "LayoutView",
            "grid_template_rows": null,
            "right": null,
            "justify_content": null,
            "_view_module": "@jupyter-widgets/base",
            "overflow": null,
            "_model_module_version": "1.2.0",
            "_view_count": null,
            "flex_flow": null,
            "width": null,
            "min_width": null,
            "border": null,
            "align_items": null,
            "bottom": null,
            "_model_module": "@jupyter-widgets/base",
            "top": null,
            "grid_column": null,
            "overflow_y": null,
            "overflow_x": null,
            "grid_auto_flow": null,
            "grid_area": null,
            "grid_template_columns": null,
            "flex": null,
            "_model_name": "LayoutModel",
            "justify_items": null,
            "grid_row": null,
            "max_height": null,
            "align_content": null,
            "visibility": null,
            "align_self": null,
            "height": null,
            "min_height": null,
            "padding": null,
            "grid_auto_rows": null,
            "grid_gap": null,
            "max_width": null,
            "order": null,
            "_view_module_version": "1.2.0",
            "grid_template_areas": null,
            "object_position": null,
            "object_fit": null,
            "grid_auto_columns": null,
            "margin": null,
            "display": null,
            "left": null
          }
        },
        "fdb489c2bea94c639116f547454c7584": {
          "model_module": "@jupyter-widgets/controls",
          "model_name": "FloatProgressModel",
          "state": {
            "_view_name": "ProgressView",
            "style": "IPY_MODEL_1c02803b33ac4a54a2fa8fe7b428f783",
            "_dom_classes": [],
            "description": "Dl Completed...: 100%",
            "_model_name": "FloatProgressModel",
            "bar_style": "success",
            "max": 1,
            "_view_module": "@jupyter-widgets/controls",
            "_model_module_version": "1.5.0",
            "value": 1,
            "_view_count": null,
            "_view_module_version": "1.5.0",
            "orientation": "horizontal",
            "min": 0,
            "description_tooltip": null,
            "_model_module": "@jupyter-widgets/controls",
            "layout": "IPY_MODEL_ae7a925ca57d44de95b35f2d35ff1df4"
          }
        },
        "df4e51c970e24d9a9bf028054cfd1a2e": {
          "model_module": "@jupyter-widgets/controls",
          "model_name": "HTMLModel",
          "state": {
            "_view_name": "HTMLView",
            "style": "IPY_MODEL_e062c6e55622480788f1181c48b8b2ec",
            "_dom_classes": [],
            "description": "",
            "_model_name": "HTMLModel",
            "placeholder": "​",
            "_view_module": "@jupyter-widgets/controls",
            "_model_module_version": "1.5.0",
            "value": " 1/1 [00:05&lt;00:00,  5.81s/ url]",
            "_view_count": null,
            "_view_module_version": "1.5.0",
            "description_tooltip": null,
            "_model_module": "@jupyter-widgets/controls",
            "layout": "IPY_MODEL_f40d5046081841a8affecf983c20506c"
          }
        },
        "1c02803b33ac4a54a2fa8fe7b428f783": {
          "model_module": "@jupyter-widgets/controls",
          "model_name": "ProgressStyleModel",
          "state": {
            "_view_name": "StyleView",
            "_model_name": "ProgressStyleModel",
            "description_width": "initial",
            "_view_module": "@jupyter-widgets/base",
            "_model_module_version": "1.5.0",
            "_view_count": null,
            "_view_module_version": "1.2.0",
            "bar_color": null,
            "_model_module": "@jupyter-widgets/controls"
          }
        },
        "ae7a925ca57d44de95b35f2d35ff1df4": {
          "model_module": "@jupyter-widgets/base",
          "model_name": "LayoutModel",
          "state": {
            "_view_name": "LayoutView",
            "grid_template_rows": null,
            "right": null,
            "justify_content": null,
            "_view_module": "@jupyter-widgets/base",
            "overflow": null,
            "_model_module_version": "1.2.0",
            "_view_count": null,
            "flex_flow": null,
            "width": null,
            "min_width": null,
            "border": null,
            "align_items": null,
            "bottom": null,
            "_model_module": "@jupyter-widgets/base",
            "top": null,
            "grid_column": null,
            "overflow_y": null,
            "overflow_x": null,
            "grid_auto_flow": null,
            "grid_area": null,
            "grid_template_columns": null,
            "flex": null,
            "_model_name": "LayoutModel",
            "justify_items": null,
            "grid_row": null,
            "max_height": null,
            "align_content": null,
            "visibility": null,
            "align_self": null,
            "height": null,
            "min_height": null,
            "padding": null,
            "grid_auto_rows": null,
            "grid_gap": null,
            "max_width": null,
            "order": null,
            "_view_module_version": "1.2.0",
            "grid_template_areas": null,
            "object_position": null,
            "object_fit": null,
            "grid_auto_columns": null,
            "margin": null,
            "display": null,
            "left": null
          }
        },
        "e062c6e55622480788f1181c48b8b2ec": {
          "model_module": "@jupyter-widgets/controls",
          "model_name": "DescriptionStyleModel",
          "state": {
            "_view_name": "StyleView",
            "_model_name": "DescriptionStyleModel",
            "description_width": "",
            "_view_module": "@jupyter-widgets/base",
            "_model_module_version": "1.5.0",
            "_view_count": null,
            "_view_module_version": "1.2.0",
            "_model_module": "@jupyter-widgets/controls"
          }
        },
        "f40d5046081841a8affecf983c20506c": {
          "model_module": "@jupyter-widgets/base",
          "model_name": "LayoutModel",
          "state": {
            "_view_name": "LayoutView",
            "grid_template_rows": null,
            "right": null,
            "justify_content": null,
            "_view_module": "@jupyter-widgets/base",
            "overflow": null,
            "_model_module_version": "1.2.0",
            "_view_count": null,
            "flex_flow": null,
            "width": null,
            "min_width": null,
            "border": null,
            "align_items": null,
            "bottom": null,
            "_model_module": "@jupyter-widgets/base",
            "top": null,
            "grid_column": null,
            "overflow_y": null,
            "overflow_x": null,
            "grid_auto_flow": null,
            "grid_area": null,
            "grid_template_columns": null,
            "flex": null,
            "_model_name": "LayoutModel",
            "justify_items": null,
            "grid_row": null,
            "max_height": null,
            "align_content": null,
            "visibility": null,
            "align_self": null,
            "height": null,
            "min_height": null,
            "padding": null,
            "grid_auto_rows": null,
            "grid_gap": null,
            "max_width": null,
            "order": null,
            "_view_module_version": "1.2.0",
            "grid_template_areas": null,
            "object_position": null,
            "object_fit": null,
            "grid_auto_columns": null,
            "margin": null,
            "display": null,
            "left": null
          }
        },
        "451060ae4b80468392d4edd06febcce9": {
          "model_module": "@jupyter-widgets/controls",
          "model_name": "HBoxModel",
          "state": {
            "_view_name": "HBoxView",
            "_dom_classes": [],
            "_model_name": "HBoxModel",
            "_view_module": "@jupyter-widgets/controls",
            "_model_module_version": "1.5.0",
            "_view_count": null,
            "_view_module_version": "1.5.0",
            "box_style": "",
            "layout": "IPY_MODEL_eb01745fd8b649adb1ae235e60838dcb",
            "_model_module": "@jupyter-widgets/controls",
            "children": [
              "IPY_MODEL_50a8c48c09b34fb598baba473db5e5e0",
              "IPY_MODEL_8329471f710f423998e92f76070c621c"
            ]
          }
        },
        "eb01745fd8b649adb1ae235e60838dcb": {
          "model_module": "@jupyter-widgets/base",
          "model_name": "LayoutModel",
          "state": {
            "_view_name": "LayoutView",
            "grid_template_rows": null,
            "right": null,
            "justify_content": null,
            "_view_module": "@jupyter-widgets/base",
            "overflow": null,
            "_model_module_version": "1.2.0",
            "_view_count": null,
            "flex_flow": null,
            "width": null,
            "min_width": null,
            "border": null,
            "align_items": null,
            "bottom": null,
            "_model_module": "@jupyter-widgets/base",
            "top": null,
            "grid_column": null,
            "overflow_y": null,
            "overflow_x": null,
            "grid_auto_flow": null,
            "grid_area": null,
            "grid_template_columns": null,
            "flex": null,
            "_model_name": "LayoutModel",
            "justify_items": null,
            "grid_row": null,
            "max_height": null,
            "align_content": null,
            "visibility": null,
            "align_self": null,
            "height": null,
            "min_height": null,
            "padding": null,
            "grid_auto_rows": null,
            "grid_gap": null,
            "max_width": null,
            "order": null,
            "_view_module_version": "1.2.0",
            "grid_template_areas": null,
            "object_position": null,
            "object_fit": null,
            "grid_auto_columns": null,
            "margin": null,
            "display": null,
            "left": null
          }
        },
        "50a8c48c09b34fb598baba473db5e5e0": {
          "model_module": "@jupyter-widgets/controls",
          "model_name": "FloatProgressModel",
          "state": {
            "_view_name": "ProgressView",
            "style": "IPY_MODEL_e058ccc65bde49b692718dddfd0a2ae3",
            "_dom_classes": [],
            "description": "Dl Size...: 100%",
            "_model_name": "FloatProgressModel",
            "bar_style": "success",
            "max": 1,
            "_view_module": "@jupyter-widgets/controls",
            "_model_module_version": "1.5.0",
            "value": 1,
            "_view_count": null,
            "_view_module_version": "1.5.0",
            "orientation": "horizontal",
            "min": 0,
            "description_tooltip": null,
            "_model_module": "@jupyter-widgets/controls",
            "layout": "IPY_MODEL_149421402e7b42d08a56b10795a475f0"
          }
        },
        "8329471f710f423998e92f76070c621c": {
          "model_module": "@jupyter-widgets/controls",
          "model_name": "HTMLModel",
          "state": {
            "_view_name": "HTMLView",
            "style": "IPY_MODEL_03ccee0216ab4a1282bc832eaff097e5",
            "_dom_classes": [],
            "description": "",
            "_model_name": "HTMLModel",
            "placeholder": "​",
            "_view_module": "@jupyter-widgets/controls",
            "_model_module_version": "1.5.0",
            "value": " 160/160 [00:05&lt;00:00, 27.69 MiB/s]",
            "_view_count": null,
            "_view_module_version": "1.5.0",
            "description_tooltip": null,
            "_model_module": "@jupyter-widgets/controls",
            "layout": "IPY_MODEL_9bec5b5388ea489c8b0bc8b29c2bee29"
          }
        },
        "e058ccc65bde49b692718dddfd0a2ae3": {
          "model_module": "@jupyter-widgets/controls",
          "model_name": "ProgressStyleModel",
          "state": {
            "_view_name": "StyleView",
            "_model_name": "ProgressStyleModel",
            "description_width": "initial",
            "_view_module": "@jupyter-widgets/base",
            "_model_module_version": "1.5.0",
            "_view_count": null,
            "_view_module_version": "1.2.0",
            "bar_color": null,
            "_model_module": "@jupyter-widgets/controls"
          }
        },
        "149421402e7b42d08a56b10795a475f0": {
          "model_module": "@jupyter-widgets/base",
          "model_name": "LayoutModel",
          "state": {
            "_view_name": "LayoutView",
            "grid_template_rows": null,
            "right": null,
            "justify_content": null,
            "_view_module": "@jupyter-widgets/base",
            "overflow": null,
            "_model_module_version": "1.2.0",
            "_view_count": null,
            "flex_flow": null,
            "width": null,
            "min_width": null,
            "border": null,
            "align_items": null,
            "bottom": null,
            "_model_module": "@jupyter-widgets/base",
            "top": null,
            "grid_column": null,
            "overflow_y": null,
            "overflow_x": null,
            "grid_auto_flow": null,
            "grid_area": null,
            "grid_template_columns": null,
            "flex": null,
            "_model_name": "LayoutModel",
            "justify_items": null,
            "grid_row": null,
            "max_height": null,
            "align_content": null,
            "visibility": null,
            "align_self": null,
            "height": null,
            "min_height": null,
            "padding": null,
            "grid_auto_rows": null,
            "grid_gap": null,
            "max_width": null,
            "order": null,
            "_view_module_version": "1.2.0",
            "grid_template_areas": null,
            "object_position": null,
            "object_fit": null,
            "grid_auto_columns": null,
            "margin": null,
            "display": null,
            "left": null
          }
        },
        "03ccee0216ab4a1282bc832eaff097e5": {
          "model_module": "@jupyter-widgets/controls",
          "model_name": "DescriptionStyleModel",
          "state": {
            "_view_name": "StyleView",
            "_model_name": "DescriptionStyleModel",
            "description_width": "",
            "_view_module": "@jupyter-widgets/base",
            "_model_module_version": "1.5.0",
            "_view_count": null,
            "_view_module_version": "1.2.0",
            "_model_module": "@jupyter-widgets/controls"
          }
        },
        "9bec5b5388ea489c8b0bc8b29c2bee29": {
          "model_module": "@jupyter-widgets/base",
          "model_name": "LayoutModel",
          "state": {
            "_view_name": "LayoutView",
            "grid_template_rows": null,
            "right": null,
            "justify_content": null,
            "_view_module": "@jupyter-widgets/base",
            "overflow": null,
            "_model_module_version": "1.2.0",
            "_view_count": null,
            "flex_flow": null,
            "width": null,
            "min_width": null,
            "border": null,
            "align_items": null,
            "bottom": null,
            "_model_module": "@jupyter-widgets/base",
            "top": null,
            "grid_column": null,
            "overflow_y": null,
            "overflow_x": null,
            "grid_auto_flow": null,
            "grid_area": null,
            "grid_template_columns": null,
            "flex": null,
            "_model_name": "LayoutModel",
            "justify_items": null,
            "grid_row": null,
            "max_height": null,
            "align_content": null,
            "visibility": null,
            "align_self": null,
            "height": null,
            "min_height": null,
            "padding": null,
            "grid_auto_rows": null,
            "grid_gap": null,
            "max_width": null,
            "order": null,
            "_view_module_version": "1.2.0",
            "grid_template_areas": null,
            "object_position": null,
            "object_fit": null,
            "grid_auto_columns": null,
            "margin": null,
            "display": null,
            "left": null
          }
        },
        "35c0ad5d12fe47438c476563936d541a": {
          "model_module": "@jupyter-widgets/controls",
          "model_name": "HBoxModel",
          "state": {
            "_view_name": "HBoxView",
            "_dom_classes": [],
            "_model_name": "HBoxModel",
            "_view_module": "@jupyter-widgets/controls",
            "_model_module_version": "1.5.0",
            "_view_count": null,
            "_view_module_version": "1.5.0",
            "box_style": "",
            "layout": "IPY_MODEL_3745739e8549468ebc8f74670f7fe2bc",
            "_model_module": "@jupyter-widgets/controls",
            "children": [
              "IPY_MODEL_53acff4644be44c9ba7f47336e4c7908",
              "IPY_MODEL_9eba7fb96aeb4d7388918499f8f89d76"
            ]
          }
        },
        "3745739e8549468ebc8f74670f7fe2bc": {
          "model_module": "@jupyter-widgets/base",
          "model_name": "LayoutModel",
          "state": {
            "_view_name": "LayoutView",
            "grid_template_rows": null,
            "right": null,
            "justify_content": null,
            "_view_module": "@jupyter-widgets/base",
            "overflow": null,
            "_model_module_version": "1.2.0",
            "_view_count": null,
            "flex_flow": null,
            "width": null,
            "min_width": null,
            "border": null,
            "align_items": null,
            "bottom": null,
            "_model_module": "@jupyter-widgets/base",
            "top": null,
            "grid_column": null,
            "overflow_y": null,
            "overflow_x": null,
            "grid_auto_flow": null,
            "grid_area": null,
            "grid_template_columns": null,
            "flex": null,
            "_model_name": "LayoutModel",
            "justify_items": null,
            "grid_row": null,
            "max_height": null,
            "align_content": null,
            "visibility": null,
            "align_self": null,
            "height": null,
            "min_height": null,
            "padding": null,
            "grid_auto_rows": null,
            "grid_gap": null,
            "max_width": null,
            "order": null,
            "_view_module_version": "1.2.0",
            "grid_template_areas": null,
            "object_position": null,
            "object_fit": null,
            "grid_auto_columns": null,
            "margin": null,
            "display": null,
            "left": null
          }
        },
        "53acff4644be44c9ba7f47336e4c7908": {
          "model_module": "@jupyter-widgets/controls",
          "model_name": "FloatProgressModel",
          "state": {
            "_view_name": "ProgressView",
            "style": "IPY_MODEL_0f7b989d100c4ac799b1dea6411557bb",
            "_dom_classes": [],
            "description": "Extraction completed...: 100%",
            "_model_name": "FloatProgressModel",
            "bar_style": "success",
            "max": 1,
            "_view_module": "@jupyter-widgets/controls",
            "_model_module_version": "1.5.0",
            "value": 1,
            "_view_count": null,
            "_view_module_version": "1.5.0",
            "orientation": "horizontal",
            "min": 0,
            "description_tooltip": null,
            "_model_module": "@jupyter-widgets/controls",
            "layout": "IPY_MODEL_7d4290b04e71497299cd8ba8525ccdf4"
          }
        },
        "9eba7fb96aeb4d7388918499f8f89d76": {
          "model_module": "@jupyter-widgets/controls",
          "model_name": "HTMLModel",
          "state": {
            "_view_name": "HTMLView",
            "style": "IPY_MODEL_180581e25f0b48e5bc3dd207026665ae",
            "_dom_classes": [],
            "description": "",
            "_model_name": "HTMLModel",
            "placeholder": "​",
            "_view_module": "@jupyter-widgets/controls",
            "_model_module_version": "1.5.0",
            "value": " 1/1 [00:05&lt;00:00,  5.74s/ file]",
            "_view_count": null,
            "_view_module_version": "1.5.0",
            "description_tooltip": null,
            "_model_module": "@jupyter-widgets/controls",
            "layout": "IPY_MODEL_75a241e5c09d4987a78cb2aa4f52a6f4"
          }
        },
        "0f7b989d100c4ac799b1dea6411557bb": {
          "model_module": "@jupyter-widgets/controls",
          "model_name": "ProgressStyleModel",
          "state": {
            "_view_name": "StyleView",
            "_model_name": "ProgressStyleModel",
            "description_width": "initial",
            "_view_module": "@jupyter-widgets/base",
            "_model_module_version": "1.5.0",
            "_view_count": null,
            "_view_module_version": "1.2.0",
            "bar_color": null,
            "_model_module": "@jupyter-widgets/controls"
          }
        },
        "7d4290b04e71497299cd8ba8525ccdf4": {
          "model_module": "@jupyter-widgets/base",
          "model_name": "LayoutModel",
          "state": {
            "_view_name": "LayoutView",
            "grid_template_rows": null,
            "right": null,
            "justify_content": null,
            "_view_module": "@jupyter-widgets/base",
            "overflow": null,
            "_model_module_version": "1.2.0",
            "_view_count": null,
            "flex_flow": null,
            "width": null,
            "min_width": null,
            "border": null,
            "align_items": null,
            "bottom": null,
            "_model_module": "@jupyter-widgets/base",
            "top": null,
            "grid_column": null,
            "overflow_y": null,
            "overflow_x": null,
            "grid_auto_flow": null,
            "grid_area": null,
            "grid_template_columns": null,
            "flex": null,
            "_model_name": "LayoutModel",
            "justify_items": null,
            "grid_row": null,
            "max_height": null,
            "align_content": null,
            "visibility": null,
            "align_self": null,
            "height": null,
            "min_height": null,
            "padding": null,
            "grid_auto_rows": null,
            "grid_gap": null,
            "max_width": null,
            "order": null,
            "_view_module_version": "1.2.0",
            "grid_template_areas": null,
            "object_position": null,
            "object_fit": null,
            "grid_auto_columns": null,
            "margin": null,
            "display": null,
            "left": null
          }
        },
        "180581e25f0b48e5bc3dd207026665ae": {
          "model_module": "@jupyter-widgets/controls",
          "model_name": "DescriptionStyleModel",
          "state": {
            "_view_name": "StyleView",
            "_model_name": "DescriptionStyleModel",
            "description_width": "",
            "_view_module": "@jupyter-widgets/base",
            "_model_module_version": "1.5.0",
            "_view_count": null,
            "_view_module_version": "1.2.0",
            "_model_module": "@jupyter-widgets/controls"
          }
        },
        "75a241e5c09d4987a78cb2aa4f52a6f4": {
          "model_module": "@jupyter-widgets/base",
          "model_name": "LayoutModel",
          "state": {
            "_view_name": "LayoutView",
            "grid_template_rows": null,
            "right": null,
            "justify_content": null,
            "_view_module": "@jupyter-widgets/base",
            "overflow": null,
            "_model_module_version": "1.2.0",
            "_view_count": null,
            "flex_flow": null,
            "width": null,
            "min_width": null,
            "border": null,
            "align_items": null,
            "bottom": null,
            "_model_module": "@jupyter-widgets/base",
            "top": null,
            "grid_column": null,
            "overflow_y": null,
            "overflow_x": null,
            "grid_auto_flow": null,
            "grid_area": null,
            "grid_template_columns": null,
            "flex": null,
            "_model_name": "LayoutModel",
            "justify_items": null,
            "grid_row": null,
            "max_height": null,
            "align_content": null,
            "visibility": null,
            "align_self": null,
            "height": null,
            "min_height": null,
            "padding": null,
            "grid_auto_rows": null,
            "grid_gap": null,
            "max_width": null,
            "order": null,
            "_view_module_version": "1.2.0",
            "grid_template_areas": null,
            "object_position": null,
            "object_fit": null,
            "grid_auto_columns": null,
            "margin": null,
            "display": null,
            "left": null
          }
        },
        "41bac56a0e514109955b3a2c7e935f9c": {
          "model_module": "@jupyter-widgets/controls",
          "model_name": "HBoxModel",
          "state": {
            "_view_name": "HBoxView",
            "_dom_classes": [],
            "_model_name": "HBoxModel",
            "_view_module": "@jupyter-widgets/controls",
            "_model_module_version": "1.5.0",
            "_view_count": null,
            "_view_module_version": "1.5.0",
            "box_style": "",
            "layout": "IPY_MODEL_a8d6815dd78e4f02931ca4200647e8c0",
            "_model_module": "@jupyter-widgets/controls",
            "children": [
              "IPY_MODEL_d2cca009e30a44d38e640105e2bb646f",
              "IPY_MODEL_9ad5dca3ab3643e2b8e79b9c49eeeedf"
            ]
          }
        },
        "a8d6815dd78e4f02931ca4200647e8c0": {
          "model_module": "@jupyter-widgets/base",
          "model_name": "LayoutModel",
          "state": {
            "_view_name": "LayoutView",
            "grid_template_rows": null,
            "right": null,
            "justify_content": null,
            "_view_module": "@jupyter-widgets/base",
            "overflow": null,
            "_model_module_version": "1.2.0",
            "_view_count": null,
            "flex_flow": null,
            "width": null,
            "min_width": null,
            "border": null,
            "align_items": null,
            "bottom": null,
            "_model_module": "@jupyter-widgets/base",
            "top": null,
            "grid_column": null,
            "overflow_y": null,
            "overflow_x": null,
            "grid_auto_flow": null,
            "grid_area": null,
            "grid_template_columns": null,
            "flex": null,
            "_model_name": "LayoutModel",
            "justify_items": null,
            "grid_row": null,
            "max_height": null,
            "align_content": null,
            "visibility": null,
            "align_self": null,
            "height": null,
            "min_height": null,
            "padding": null,
            "grid_auto_rows": null,
            "grid_gap": null,
            "max_width": null,
            "order": null,
            "_view_module_version": "1.2.0",
            "grid_template_areas": null,
            "object_position": null,
            "object_fit": null,
            "grid_auto_columns": null,
            "margin": null,
            "display": null,
            "left": null
          }
        },
        "d2cca009e30a44d38e640105e2bb646f": {
          "model_module": "@jupyter-widgets/controls",
          "model_name": "FloatProgressModel",
          "state": {
            "_view_name": "ProgressView",
            "style": "IPY_MODEL_c4cb96577d2c45beb26b0dd1313ca0f8",
            "_dom_classes": [],
            "description": "",
            "_model_name": "FloatProgressModel",
            "bar_style": "info",
            "max": 1,
            "_view_module": "@jupyter-widgets/controls",
            "_model_module_version": "1.5.0",
            "value": 1,
            "_view_count": null,
            "_view_module_version": "1.5.0",
            "orientation": "horizontal",
            "min": 0,
            "description_tooltip": null,
            "_model_module": "@jupyter-widgets/controls",
            "layout": "IPY_MODEL_c6d2834553ff4a258c21fb99b2c44db9"
          }
        },
        "9ad5dca3ab3643e2b8e79b9c49eeeedf": {
          "model_module": "@jupyter-widgets/controls",
          "model_name": "HTMLModel",
          "state": {
            "_view_name": "HTMLView",
            "style": "IPY_MODEL_ce62f452bb764b7fb8ae34f03db7e1ca",
            "_dom_classes": [],
            "description": "",
            "_model_name": "HTMLModel",
            "placeholder": "​",
            "_view_module": "@jupyter-widgets/controls",
            "_model_module_version": "1.5.0",
            "value": " 50000/0 [00:29&lt;00:00, 1750.24 examples/s]",
            "_view_count": null,
            "_view_module_version": "1.5.0",
            "description_tooltip": null,
            "_model_module": "@jupyter-widgets/controls",
            "layout": "IPY_MODEL_60ff29a2b42c44cdb7e170f4f8bfb82d"
          }
        },
        "c4cb96577d2c45beb26b0dd1313ca0f8": {
          "model_module": "@jupyter-widgets/controls",
          "model_name": "ProgressStyleModel",
          "state": {
            "_view_name": "StyleView",
            "_model_name": "ProgressStyleModel",
            "description_width": "initial",
            "_view_module": "@jupyter-widgets/base",
            "_model_module_version": "1.5.0",
            "_view_count": null,
            "_view_module_version": "1.2.0",
            "bar_color": null,
            "_model_module": "@jupyter-widgets/controls"
          }
        },
        "c6d2834553ff4a258c21fb99b2c44db9": {
          "model_module": "@jupyter-widgets/base",
          "model_name": "LayoutModel",
          "state": {
            "_view_name": "LayoutView",
            "grid_template_rows": null,
            "right": null,
            "justify_content": null,
            "_view_module": "@jupyter-widgets/base",
            "overflow": null,
            "_model_module_version": "1.2.0",
            "_view_count": null,
            "flex_flow": null,
            "width": null,
            "min_width": null,
            "border": null,
            "align_items": null,
            "bottom": null,
            "_model_module": "@jupyter-widgets/base",
            "top": null,
            "grid_column": null,
            "overflow_y": null,
            "overflow_x": null,
            "grid_auto_flow": null,
            "grid_area": null,
            "grid_template_columns": null,
            "flex": null,
            "_model_name": "LayoutModel",
            "justify_items": null,
            "grid_row": null,
            "max_height": null,
            "align_content": null,
            "visibility": null,
            "align_self": null,
            "height": null,
            "min_height": null,
            "padding": null,
            "grid_auto_rows": null,
            "grid_gap": null,
            "max_width": null,
            "order": null,
            "_view_module_version": "1.2.0",
            "grid_template_areas": null,
            "object_position": null,
            "object_fit": null,
            "grid_auto_columns": null,
            "margin": null,
            "display": null,
            "left": null
          }
        },
        "ce62f452bb764b7fb8ae34f03db7e1ca": {
          "model_module": "@jupyter-widgets/controls",
          "model_name": "DescriptionStyleModel",
          "state": {
            "_view_name": "StyleView",
            "_model_name": "DescriptionStyleModel",
            "description_width": "",
            "_view_module": "@jupyter-widgets/base",
            "_model_module_version": "1.5.0",
            "_view_count": null,
            "_view_module_version": "1.2.0",
            "_model_module": "@jupyter-widgets/controls"
          }
        },
        "60ff29a2b42c44cdb7e170f4f8bfb82d": {
          "model_module": "@jupyter-widgets/base",
          "model_name": "LayoutModel",
          "state": {
            "_view_name": "LayoutView",
            "grid_template_rows": null,
            "right": null,
            "justify_content": null,
            "_view_module": "@jupyter-widgets/base",
            "overflow": null,
            "_model_module_version": "1.2.0",
            "_view_count": null,
            "flex_flow": null,
            "width": null,
            "min_width": null,
            "border": null,
            "align_items": null,
            "bottom": null,
            "_model_module": "@jupyter-widgets/base",
            "top": null,
            "grid_column": null,
            "overflow_y": null,
            "overflow_x": null,
            "grid_auto_flow": null,
            "grid_area": null,
            "grid_template_columns": null,
            "flex": null,
            "_model_name": "LayoutModel",
            "justify_items": null,
            "grid_row": null,
            "max_height": null,
            "align_content": null,
            "visibility": null,
            "align_self": null,
            "height": null,
            "min_height": null,
            "padding": null,
            "grid_auto_rows": null,
            "grid_gap": null,
            "max_width": null,
            "order": null,
            "_view_module_version": "1.2.0",
            "grid_template_areas": null,
            "object_position": null,
            "object_fit": null,
            "grid_auto_columns": null,
            "margin": null,
            "display": null,
            "left": null
          }
        },
        "4d99fa61a99d40329a427450b9261f18": {
          "model_module": "@jupyter-widgets/controls",
          "model_name": "HBoxModel",
          "state": {
            "_view_name": "HBoxView",
            "_dom_classes": [],
            "_model_name": "HBoxModel",
            "_view_module": "@jupyter-widgets/controls",
            "_model_module_version": "1.5.0",
            "_view_count": null,
            "_view_module_version": "1.5.0",
            "box_style": "",
            "layout": "IPY_MODEL_7a8dda05ef394f8fbf9d924b010f7786",
            "_model_module": "@jupyter-widgets/controls",
            "children": [
              "IPY_MODEL_5fc80d19ac244bfd8612bf7f2843c5bb",
              "IPY_MODEL_6dfbf4024196464995d40a4ee3bb7d80"
            ]
          }
        },
        "7a8dda05ef394f8fbf9d924b010f7786": {
          "model_module": "@jupyter-widgets/base",
          "model_name": "LayoutModel",
          "state": {
            "_view_name": "LayoutView",
            "grid_template_rows": null,
            "right": null,
            "justify_content": null,
            "_view_module": "@jupyter-widgets/base",
            "overflow": null,
            "_model_module_version": "1.2.0",
            "_view_count": null,
            "flex_flow": null,
            "width": null,
            "min_width": null,
            "border": null,
            "align_items": null,
            "bottom": null,
            "_model_module": "@jupyter-widgets/base",
            "top": null,
            "grid_column": null,
            "overflow_y": null,
            "overflow_x": null,
            "grid_auto_flow": null,
            "grid_area": null,
            "grid_template_columns": null,
            "flex": null,
            "_model_name": "LayoutModel",
            "justify_items": null,
            "grid_row": null,
            "max_height": null,
            "align_content": null,
            "visibility": null,
            "align_self": null,
            "height": null,
            "min_height": null,
            "padding": null,
            "grid_auto_rows": null,
            "grid_gap": null,
            "max_width": null,
            "order": null,
            "_view_module_version": "1.2.0",
            "grid_template_areas": null,
            "object_position": null,
            "object_fit": null,
            "grid_auto_columns": null,
            "margin": null,
            "display": null,
            "left": null
          }
        },
        "5fc80d19ac244bfd8612bf7f2843c5bb": {
          "model_module": "@jupyter-widgets/controls",
          "model_name": "FloatProgressModel",
          "state": {
            "_view_name": "ProgressView",
            "style": "IPY_MODEL_542ac120b8f64869b1dfba3db368a5c9",
            "_dom_classes": [],
            "description": " 94%",
            "_model_name": "FloatProgressModel",
            "bar_style": "danger",
            "max": 50000,
            "_view_module": "@jupyter-widgets/controls",
            "_model_module_version": "1.5.0",
            "value": 46946,
            "_view_count": null,
            "_view_module_version": "1.5.0",
            "orientation": "horizontal",
            "min": 0,
            "description_tooltip": null,
            "_model_module": "@jupyter-widgets/controls",
            "layout": "IPY_MODEL_b6bad3efc8b848c0af754bfa0b0d7ed2"
          }
        },
        "6dfbf4024196464995d40a4ee3bb7d80": {
          "model_module": "@jupyter-widgets/controls",
          "model_name": "HTMLModel",
          "state": {
            "_view_name": "HTMLView",
            "style": "IPY_MODEL_65453f9b03f649d982be575551c218ed",
            "_dom_classes": [],
            "description": "",
            "_model_name": "HTMLModel",
            "placeholder": "​",
            "_view_module": "@jupyter-widgets/controls",
            "_model_module_version": "1.5.0",
            "value": " 46946/50000 [00:00&lt;00:00, 78876.68 examples/s]",
            "_view_count": null,
            "_view_module_version": "1.5.0",
            "description_tooltip": null,
            "_model_module": "@jupyter-widgets/controls",
            "layout": "IPY_MODEL_64cd93e5364c4a4491089ef21c8db406"
          }
        },
        "542ac120b8f64869b1dfba3db368a5c9": {
          "model_module": "@jupyter-widgets/controls",
          "model_name": "ProgressStyleModel",
          "state": {
            "_view_name": "StyleView",
            "_model_name": "ProgressStyleModel",
            "description_width": "initial",
            "_view_module": "@jupyter-widgets/base",
            "_model_module_version": "1.5.0",
            "_view_count": null,
            "_view_module_version": "1.2.0",
            "bar_color": null,
            "_model_module": "@jupyter-widgets/controls"
          }
        },
        "b6bad3efc8b848c0af754bfa0b0d7ed2": {
          "model_module": "@jupyter-widgets/base",
          "model_name": "LayoutModel",
          "state": {
            "_view_name": "LayoutView",
            "grid_template_rows": null,
            "right": null,
            "justify_content": null,
            "_view_module": "@jupyter-widgets/base",
            "overflow": null,
            "_model_module_version": "1.2.0",
            "_view_count": null,
            "flex_flow": null,
            "width": null,
            "min_width": null,
            "border": null,
            "align_items": null,
            "bottom": null,
            "_model_module": "@jupyter-widgets/base",
            "top": null,
            "grid_column": null,
            "overflow_y": null,
            "overflow_x": null,
            "grid_auto_flow": null,
            "grid_area": null,
            "grid_template_columns": null,
            "flex": null,
            "_model_name": "LayoutModel",
            "justify_items": null,
            "grid_row": null,
            "max_height": null,
            "align_content": null,
            "visibility": null,
            "align_self": null,
            "height": null,
            "min_height": null,
            "padding": null,
            "grid_auto_rows": null,
            "grid_gap": null,
            "max_width": null,
            "order": null,
            "_view_module_version": "1.2.0",
            "grid_template_areas": null,
            "object_position": null,
            "object_fit": null,
            "grid_auto_columns": null,
            "margin": null,
            "display": null,
            "left": null
          }
        },
        "65453f9b03f649d982be575551c218ed": {
          "model_module": "@jupyter-widgets/controls",
          "model_name": "DescriptionStyleModel",
          "state": {
            "_view_name": "StyleView",
            "_model_name": "DescriptionStyleModel",
            "description_width": "",
            "_view_module": "@jupyter-widgets/base",
            "_model_module_version": "1.5.0",
            "_view_count": null,
            "_view_module_version": "1.2.0",
            "_model_module": "@jupyter-widgets/controls"
          }
        },
        "64cd93e5364c4a4491089ef21c8db406": {
          "model_module": "@jupyter-widgets/base",
          "model_name": "LayoutModel",
          "state": {
            "_view_name": "LayoutView",
            "grid_template_rows": null,
            "right": null,
            "justify_content": null,
            "_view_module": "@jupyter-widgets/base",
            "overflow": null,
            "_model_module_version": "1.2.0",
            "_view_count": null,
            "flex_flow": null,
            "width": null,
            "min_width": null,
            "border": null,
            "align_items": null,
            "bottom": null,
            "_model_module": "@jupyter-widgets/base",
            "top": null,
            "grid_column": null,
            "overflow_y": null,
            "overflow_x": null,
            "grid_auto_flow": null,
            "grid_area": null,
            "grid_template_columns": null,
            "flex": null,
            "_model_name": "LayoutModel",
            "justify_items": null,
            "grid_row": null,
            "max_height": null,
            "align_content": null,
            "visibility": null,
            "align_self": null,
            "height": null,
            "min_height": null,
            "padding": null,
            "grid_auto_rows": null,
            "grid_gap": null,
            "max_width": null,
            "order": null,
            "_view_module_version": "1.2.0",
            "grid_template_areas": null,
            "object_position": null,
            "object_fit": null,
            "grid_auto_columns": null,
            "margin": null,
            "display": null,
            "left": null
          }
        },
        "7c128be503f74232b2ae50eb00c448b7": {
          "model_module": "@jupyter-widgets/controls",
          "model_name": "HBoxModel",
          "state": {
            "_view_name": "HBoxView",
            "_dom_classes": [],
            "_model_name": "HBoxModel",
            "_view_module": "@jupyter-widgets/controls",
            "_model_module_version": "1.5.0",
            "_view_count": null,
            "_view_module_version": "1.5.0",
            "box_style": "",
            "layout": "IPY_MODEL_b165737953df4831940e1a0c16aaa219",
            "_model_module": "@jupyter-widgets/controls",
            "children": [
              "IPY_MODEL_d61d5e5d039a4a82805ed2aca9198de9",
              "IPY_MODEL_33aaf91fea724843894bd8232d8aee4d"
            ]
          }
        },
        "b165737953df4831940e1a0c16aaa219": {
          "model_module": "@jupyter-widgets/base",
          "model_name": "LayoutModel",
          "state": {
            "_view_name": "LayoutView",
            "grid_template_rows": null,
            "right": null,
            "justify_content": null,
            "_view_module": "@jupyter-widgets/base",
            "overflow": null,
            "_model_module_version": "1.2.0",
            "_view_count": null,
            "flex_flow": null,
            "width": null,
            "min_width": null,
            "border": null,
            "align_items": null,
            "bottom": null,
            "_model_module": "@jupyter-widgets/base",
            "top": null,
            "grid_column": null,
            "overflow_y": null,
            "overflow_x": null,
            "grid_auto_flow": null,
            "grid_area": null,
            "grid_template_columns": null,
            "flex": null,
            "_model_name": "LayoutModel",
            "justify_items": null,
            "grid_row": null,
            "max_height": null,
            "align_content": null,
            "visibility": null,
            "align_self": null,
            "height": null,
            "min_height": null,
            "padding": null,
            "grid_auto_rows": null,
            "grid_gap": null,
            "max_width": null,
            "order": null,
            "_view_module_version": "1.2.0",
            "grid_template_areas": null,
            "object_position": null,
            "object_fit": null,
            "grid_auto_columns": null,
            "margin": null,
            "display": null,
            "left": null
          }
        },
        "d61d5e5d039a4a82805ed2aca9198de9": {
          "model_module": "@jupyter-widgets/controls",
          "model_name": "FloatProgressModel",
          "state": {
            "_view_name": "ProgressView",
            "style": "IPY_MODEL_704314b739b74938a49e969f84ccfeaf",
            "_dom_classes": [],
            "description": "",
            "_model_name": "FloatProgressModel",
            "bar_style": "info",
            "max": 1,
            "_view_module": "@jupyter-widgets/controls",
            "_model_module_version": "1.5.0",
            "value": 1,
            "_view_count": null,
            "_view_module_version": "1.5.0",
            "orientation": "horizontal",
            "min": 0,
            "description_tooltip": null,
            "_model_module": "@jupyter-widgets/controls",
            "layout": "IPY_MODEL_dcacd039b8b5411fa7c8ac0b3abce2ac"
          }
        },
        "33aaf91fea724843894bd8232d8aee4d": {
          "model_module": "@jupyter-widgets/controls",
          "model_name": "HTMLModel",
          "state": {
            "_view_name": "HTMLView",
            "style": "IPY_MODEL_149649be3c894ebd9e76354daf9e7705",
            "_dom_classes": [],
            "description": "",
            "_model_name": "HTMLModel",
            "placeholder": "​",
            "_view_module": "@jupyter-widgets/controls",
            "_model_module_version": "1.5.0",
            "value": " 10000/0 [00:05&lt;00:00, 1710.31 examples/s]",
            "_view_count": null,
            "_view_module_version": "1.5.0",
            "description_tooltip": null,
            "_model_module": "@jupyter-widgets/controls",
            "layout": "IPY_MODEL_3cba3dd1acb348a08519a35859dfa4ee"
          }
        },
        "704314b739b74938a49e969f84ccfeaf": {
          "model_module": "@jupyter-widgets/controls",
          "model_name": "ProgressStyleModel",
          "state": {
            "_view_name": "StyleView",
            "_model_name": "ProgressStyleModel",
            "description_width": "initial",
            "_view_module": "@jupyter-widgets/base",
            "_model_module_version": "1.5.0",
            "_view_count": null,
            "_view_module_version": "1.2.0",
            "bar_color": null,
            "_model_module": "@jupyter-widgets/controls"
          }
        },
        "dcacd039b8b5411fa7c8ac0b3abce2ac": {
          "model_module": "@jupyter-widgets/base",
          "model_name": "LayoutModel",
          "state": {
            "_view_name": "LayoutView",
            "grid_template_rows": null,
            "right": null,
            "justify_content": null,
            "_view_module": "@jupyter-widgets/base",
            "overflow": null,
            "_model_module_version": "1.2.0",
            "_view_count": null,
            "flex_flow": null,
            "width": null,
            "min_width": null,
            "border": null,
            "align_items": null,
            "bottom": null,
            "_model_module": "@jupyter-widgets/base",
            "top": null,
            "grid_column": null,
            "overflow_y": null,
            "overflow_x": null,
            "grid_auto_flow": null,
            "grid_area": null,
            "grid_template_columns": null,
            "flex": null,
            "_model_name": "LayoutModel",
            "justify_items": null,
            "grid_row": null,
            "max_height": null,
            "align_content": null,
            "visibility": null,
            "align_self": null,
            "height": null,
            "min_height": null,
            "padding": null,
            "grid_auto_rows": null,
            "grid_gap": null,
            "max_width": null,
            "order": null,
            "_view_module_version": "1.2.0",
            "grid_template_areas": null,
            "object_position": null,
            "object_fit": null,
            "grid_auto_columns": null,
            "margin": null,
            "display": null,
            "left": null
          }
        },
        "149649be3c894ebd9e76354daf9e7705": {
          "model_module": "@jupyter-widgets/controls",
          "model_name": "DescriptionStyleModel",
          "state": {
            "_view_name": "StyleView",
            "_model_name": "DescriptionStyleModel",
            "description_width": "",
            "_view_module": "@jupyter-widgets/base",
            "_model_module_version": "1.5.0",
            "_view_count": null,
            "_view_module_version": "1.2.0",
            "_model_module": "@jupyter-widgets/controls"
          }
        },
        "3cba3dd1acb348a08519a35859dfa4ee": {
          "model_module": "@jupyter-widgets/base",
          "model_name": "LayoutModel",
          "state": {
            "_view_name": "LayoutView",
            "grid_template_rows": null,
            "right": null,
            "justify_content": null,
            "_view_module": "@jupyter-widgets/base",
            "overflow": null,
            "_model_module_version": "1.2.0",
            "_view_count": null,
            "flex_flow": null,
            "width": null,
            "min_width": null,
            "border": null,
            "align_items": null,
            "bottom": null,
            "_model_module": "@jupyter-widgets/base",
            "top": null,
            "grid_column": null,
            "overflow_y": null,
            "overflow_x": null,
            "grid_auto_flow": null,
            "grid_area": null,
            "grid_template_columns": null,
            "flex": null,
            "_model_name": "LayoutModel",
            "justify_items": null,
            "grid_row": null,
            "max_height": null,
            "align_content": null,
            "visibility": null,
            "align_self": null,
            "height": null,
            "min_height": null,
            "padding": null,
            "grid_auto_rows": null,
            "grid_gap": null,
            "max_width": null,
            "order": null,
            "_view_module_version": "1.2.0",
            "grid_template_areas": null,
            "object_position": null,
            "object_fit": null,
            "grid_auto_columns": null,
            "margin": null,
            "display": null,
            "left": null
          }
        },
        "32097586f60d4860b233ddfaaaa9190e": {
          "model_module": "@jupyter-widgets/controls",
          "model_name": "HBoxModel",
          "state": {
            "_view_name": "HBoxView",
            "_dom_classes": [],
            "_model_name": "HBoxModel",
            "_view_module": "@jupyter-widgets/controls",
            "_model_module_version": "1.5.0",
            "_view_count": null,
            "_view_module_version": "1.5.0",
            "box_style": "",
            "layout": "IPY_MODEL_54084a76411a462fb69f2b6716590be6",
            "_model_module": "@jupyter-widgets/controls",
            "children": [
              "IPY_MODEL_d75d6b5f60fb4d99957387185692bba6",
              "IPY_MODEL_ca96d85fa5694d519532786edd58e798"
            ]
          }
        },
        "54084a76411a462fb69f2b6716590be6": {
          "model_module": "@jupyter-widgets/base",
          "model_name": "LayoutModel",
          "state": {
            "_view_name": "LayoutView",
            "grid_template_rows": null,
            "right": null,
            "justify_content": null,
            "_view_module": "@jupyter-widgets/base",
            "overflow": null,
            "_model_module_version": "1.2.0",
            "_view_count": null,
            "flex_flow": null,
            "width": null,
            "min_width": null,
            "border": null,
            "align_items": null,
            "bottom": null,
            "_model_module": "@jupyter-widgets/base",
            "top": null,
            "grid_column": null,
            "overflow_y": null,
            "overflow_x": null,
            "grid_auto_flow": null,
            "grid_area": null,
            "grid_template_columns": null,
            "flex": null,
            "_model_name": "LayoutModel",
            "justify_items": null,
            "grid_row": null,
            "max_height": null,
            "align_content": null,
            "visibility": null,
            "align_self": null,
            "height": null,
            "min_height": null,
            "padding": null,
            "grid_auto_rows": null,
            "grid_gap": null,
            "max_width": null,
            "order": null,
            "_view_module_version": "1.2.0",
            "grid_template_areas": null,
            "object_position": null,
            "object_fit": null,
            "grid_auto_columns": null,
            "margin": null,
            "display": null,
            "left": null
          }
        },
        "d75d6b5f60fb4d99957387185692bba6": {
          "model_module": "@jupyter-widgets/controls",
          "model_name": "FloatProgressModel",
          "state": {
            "_view_name": "ProgressView",
            "style": "IPY_MODEL_c367cdf73aaa4dd6aac852f74016cba9",
            "_dom_classes": [],
            "description": "  0%",
            "_model_name": "FloatProgressModel",
            "bar_style": "danger",
            "max": 10000,
            "_view_module": "@jupyter-widgets/controls",
            "_model_module_version": "1.5.0",
            "value": 0,
            "_view_count": null,
            "_view_module_version": "1.5.0",
            "orientation": "horizontal",
            "min": 0,
            "description_tooltip": null,
            "_model_module": "@jupyter-widgets/controls",
            "layout": "IPY_MODEL_483922de7d5c4d789c5c9dc4050f5ff9"
          }
        },
        "ca96d85fa5694d519532786edd58e798": {
          "model_module": "@jupyter-widgets/controls",
          "model_name": "HTMLModel",
          "state": {
            "_view_name": "HTMLView",
            "style": "IPY_MODEL_1a887a98e80b47a298262ec118191a33",
            "_dom_classes": [],
            "description": "",
            "_model_name": "HTMLModel",
            "placeholder": "​",
            "_view_module": "@jupyter-widgets/controls",
            "_model_module_version": "1.5.0",
            "value": " 0/10000 [00:00&lt;?, ? examples/s]",
            "_view_count": null,
            "_view_module_version": "1.5.0",
            "description_tooltip": null,
            "_model_module": "@jupyter-widgets/controls",
            "layout": "IPY_MODEL_6f4a5fe12aa74b359b606dd0066822aa"
          }
        },
        "c367cdf73aaa4dd6aac852f74016cba9": {
          "model_module": "@jupyter-widgets/controls",
          "model_name": "ProgressStyleModel",
          "state": {
            "_view_name": "StyleView",
            "_model_name": "ProgressStyleModel",
            "description_width": "initial",
            "_view_module": "@jupyter-widgets/base",
            "_model_module_version": "1.5.0",
            "_view_count": null,
            "_view_module_version": "1.2.0",
            "bar_color": null,
            "_model_module": "@jupyter-widgets/controls"
          }
        },
        "483922de7d5c4d789c5c9dc4050f5ff9": {
          "model_module": "@jupyter-widgets/base",
          "model_name": "LayoutModel",
          "state": {
            "_view_name": "LayoutView",
            "grid_template_rows": null,
            "right": null,
            "justify_content": null,
            "_view_module": "@jupyter-widgets/base",
            "overflow": null,
            "_model_module_version": "1.2.0",
            "_view_count": null,
            "flex_flow": null,
            "width": null,
            "min_width": null,
            "border": null,
            "align_items": null,
            "bottom": null,
            "_model_module": "@jupyter-widgets/base",
            "top": null,
            "grid_column": null,
            "overflow_y": null,
            "overflow_x": null,
            "grid_auto_flow": null,
            "grid_area": null,
            "grid_template_columns": null,
            "flex": null,
            "_model_name": "LayoutModel",
            "justify_items": null,
            "grid_row": null,
            "max_height": null,
            "align_content": null,
            "visibility": null,
            "align_self": null,
            "height": null,
            "min_height": null,
            "padding": null,
            "grid_auto_rows": null,
            "grid_gap": null,
            "max_width": null,
            "order": null,
            "_view_module_version": "1.2.0",
            "grid_template_areas": null,
            "object_position": null,
            "object_fit": null,
            "grid_auto_columns": null,
            "margin": null,
            "display": null,
            "left": null
          }
        },
        "1a887a98e80b47a298262ec118191a33": {
          "model_module": "@jupyter-widgets/controls",
          "model_name": "DescriptionStyleModel",
          "state": {
            "_view_name": "StyleView",
            "_model_name": "DescriptionStyleModel",
            "description_width": "",
            "_view_module": "@jupyter-widgets/base",
            "_model_module_version": "1.5.0",
            "_view_count": null,
            "_view_module_version": "1.2.0",
            "_model_module": "@jupyter-widgets/controls"
          }
        },
        "6f4a5fe12aa74b359b606dd0066822aa": {
          "model_module": "@jupyter-widgets/base",
          "model_name": "LayoutModel",
          "state": {
            "_view_name": "LayoutView",
            "grid_template_rows": null,
            "right": null,
            "justify_content": null,
            "_view_module": "@jupyter-widgets/base",
            "overflow": null,
            "_model_module_version": "1.2.0",
            "_view_count": null,
            "flex_flow": null,
            "width": null,
            "min_width": null,
            "border": null,
            "align_items": null,
            "bottom": null,
            "_model_module": "@jupyter-widgets/base",
            "top": null,
            "grid_column": null,
            "overflow_y": null,
            "overflow_x": null,
            "grid_auto_flow": null,
            "grid_area": null,
            "grid_template_columns": null,
            "flex": null,
            "_model_name": "LayoutModel",
            "justify_items": null,
            "grid_row": null,
            "max_height": null,
            "align_content": null,
            "visibility": null,
            "align_self": null,
            "height": null,
            "min_height": null,
            "padding": null,
            "grid_auto_rows": null,
            "grid_gap": null,
            "max_width": null,
            "order": null,
            "_view_module_version": "1.2.0",
            "grid_template_areas": null,
            "object_position": null,
            "object_fit": null,
            "grid_auto_columns": null,
            "margin": null,
            "display": null,
            "left": null
          }
        }
      }
    }
  },
  "cells": [
    {
      "cell_type": "markdown",
      "metadata": {
        "id": "QB0zh1HIOQwa"
      },
      "source": [
        "**COMP-5011-FDE Machine Learning & Neural Network**\r\n",
        "\r\n",
        "**Project** \r\n",
        "\r\n",
        "**Name**: Khushal Paresh Thaker\r\n",
        "\r\n",
        "**Student ID**: 1106937\r\n",
        "\r\n",
        "\r\n",
        "---\r\n",
        "\r\n",
        "\r\n",
        "\r\n",
        "**Task**: Object-centric Small Image recognition task with medium datasets\r\n",
        "\r\n",
        "**Dataset**: CIFAR10, **CIFAR100** \r\n"
      ]
    },
    {
      "cell_type": "markdown",
      "metadata": {
        "id": "I68QOQDsOjtU"
      },
      "source": [
        "**Contents**\r\n",
        "\r\n",
        "\r\n",
        "1.   Library Import\r\n",
        "2.   BiT model Load\r\n",
        "3.   Dataset (Cifar100) Loading and necessary preprocessing\r\n",
        "4.   Cuda C based ELM Code\r\n",
        "5.   Training the Model\r\n",
        "6.   Testing the Model\r\n",
        "\r\n"
      ]
    },
    {
      "cell_type": "markdown",
      "metadata": {
        "id": "SaiA55ntOEdf"
      },
      "source": [
        "##1. Library Import"
      ]
    },
    {
      "cell_type": "code",
      "metadata": {
        "id": "TH-0w0JDPAwb"
      },
      "source": [
        "# Importing necessary libraries\r\n",
        "import tensorflow as tf\r\n",
        "import tensorflow_hub as hub\r\n",
        "import tensorflow_datasets as tfds\r\n",
        "import numpy as np"
      ],
      "execution_count": 1,
      "outputs": []
    },
    {
      "cell_type": "code",
      "metadata": {
        "id": "pq91WCldPQgB"
      },
      "source": [
        "# setting the constant values used in the rest of the code.\r\n",
        "NUM_CLASSES = 100\r\n",
        "BATCH_SIZE = 1000\r\n",
        "DATASET_NUM_TRAIN_EXAMPLES = 50000\r\n",
        "RESIZE_TO = 128"
      ],
      "execution_count": 2,
      "outputs": []
    },
    {
      "cell_type": "markdown",
      "metadata": {
        "id": "j6q7iJLbPSaH"
      },
      "source": [
        "## 2. BiT Model Load"
      ]
    },
    {
      "cell_type": "code",
      "metadata": {
        "id": "LoEMqkr7PWBm"
      },
      "source": [
        "# Using the state-of-the-art model - Big Transfer (BiT) for acheiving high accuracy.\r\n",
        "class FeatureNet(tf.keras.Model):\r\n",
        "  def __init__(self, num_classes, module):\r\n",
        "    super().__init__()\r\n",
        "\r\n",
        "    self.num_classes = num_classes\r\n",
        "    self.head = tf.keras.layers.Dense(num_classes, kernel_initializer='zeros', use_bias=False)\r\n",
        "    self.bit_model = module\r\n",
        "    self.bit_model.trainable = False #freeze the backbone network\r\n",
        "    \r\n",
        "  def call(self, images):\r\n",
        "    bit_embedding = self.bit_model(images)\r\n",
        "    return bit_embedding, self.head(bit_embedding)\r\n",
        "\r\n",
        "# We use the state-of-the-art model for transfer learning from Google: Big Transfer\r\n",
        "model_url = \"https://tfhub.dev/google/bit/m-r50x1/1\"\r\n",
        "module = hub.KerasLayer(model_url, trainable=False)\r\n",
        "model = FeatureNet(num_classes=NUM_CLASSES, module=module)"
      ],
      "execution_count": 3,
      "outputs": []
    },
    {
      "cell_type": "markdown",
      "metadata": {
        "id": "7OAM-DoAPYbj"
      },
      "source": [
        "## 3. Dataset (Cifar100) loading and necessary preprocessing"
      ]
    },
    {
      "cell_type": "code",
      "metadata": {
        "id": "syFP4nZPPcZR",
        "colab": {
          "base_uri": "https://localhost:8080/",
          "height": 819,
          "referenced_widgets": [
            "25801addb243411c847c38d0f76db7d7",
            "718b33cd367140b0afe701731ff0af62",
            "fdb489c2bea94c639116f547454c7584",
            "df4e51c970e24d9a9bf028054cfd1a2e",
            "1c02803b33ac4a54a2fa8fe7b428f783",
            "ae7a925ca57d44de95b35f2d35ff1df4",
            "e062c6e55622480788f1181c48b8b2ec",
            "f40d5046081841a8affecf983c20506c",
            "451060ae4b80468392d4edd06febcce9",
            "eb01745fd8b649adb1ae235e60838dcb",
            "50a8c48c09b34fb598baba473db5e5e0",
            "8329471f710f423998e92f76070c621c",
            "e058ccc65bde49b692718dddfd0a2ae3",
            "149421402e7b42d08a56b10795a475f0",
            "03ccee0216ab4a1282bc832eaff097e5",
            "9bec5b5388ea489c8b0bc8b29c2bee29",
            "35c0ad5d12fe47438c476563936d541a",
            "3745739e8549468ebc8f74670f7fe2bc",
            "53acff4644be44c9ba7f47336e4c7908",
            "9eba7fb96aeb4d7388918499f8f89d76",
            "0f7b989d100c4ac799b1dea6411557bb",
            "7d4290b04e71497299cd8ba8525ccdf4",
            "180581e25f0b48e5bc3dd207026665ae",
            "75a241e5c09d4987a78cb2aa4f52a6f4",
            "41bac56a0e514109955b3a2c7e935f9c",
            "a8d6815dd78e4f02931ca4200647e8c0",
            "d2cca009e30a44d38e640105e2bb646f",
            "9ad5dca3ab3643e2b8e79b9c49eeeedf",
            "c4cb96577d2c45beb26b0dd1313ca0f8",
            "c6d2834553ff4a258c21fb99b2c44db9",
            "ce62f452bb764b7fb8ae34f03db7e1ca",
            "60ff29a2b42c44cdb7e170f4f8bfb82d",
            "4d99fa61a99d40329a427450b9261f18",
            "7a8dda05ef394f8fbf9d924b010f7786",
            "5fc80d19ac244bfd8612bf7f2843c5bb",
            "6dfbf4024196464995d40a4ee3bb7d80",
            "542ac120b8f64869b1dfba3db368a5c9",
            "b6bad3efc8b848c0af754bfa0b0d7ed2",
            "65453f9b03f649d982be575551c218ed",
            "64cd93e5364c4a4491089ef21c8db406",
            "7c128be503f74232b2ae50eb00c448b7",
            "b165737953df4831940e1a0c16aaa219",
            "d61d5e5d039a4a82805ed2aca9198de9",
            "33aaf91fea724843894bd8232d8aee4d",
            "704314b739b74938a49e969f84ccfeaf",
            "dcacd039b8b5411fa7c8ac0b3abce2ac",
            "149649be3c894ebd9e76354daf9e7705",
            "3cba3dd1acb348a08519a35859dfa4ee",
            "32097586f60d4860b233ddfaaaa9190e",
            "54084a76411a462fb69f2b6716590be6",
            "d75d6b5f60fb4d99957387185692bba6",
            "ca96d85fa5694d519532786edd58e798",
            "c367cdf73aaa4dd6aac852f74016cba9",
            "483922de7d5c4d789c5c9dc4050f5ff9",
            "1a887a98e80b47a298262ec118191a33",
            "6f4a5fe12aa74b359b606dd0066822aa"
          ]
        },
        "outputId": "0d95b6b3-335b-47e8-b243-ae91a24f38b9"
      },
      "source": [
        "# loading the train and test set from cifar100 dataset\r\n",
        "(ds_train, ds_test), ds_info = tfds.load(\r\n",
        "    'cifar100',\r\n",
        "    split=['train', 'test'],\r\n",
        "    shuffle_files=True,\r\n",
        "    as_supervised=True,\r\n",
        "    with_info=True,\r\n",
        ")\r\n",
        "\r\n",
        "# printing information about the cifar100 dataset\r\n",
        "ds_info"
      ],
      "execution_count": 4,
      "outputs": [
        {
          "output_type": "stream",
          "text": [
            "\u001b[1mDownloading and preparing dataset cifar100/3.0.2 (download: 160.71 MiB, generated: 132.03 MiB, total: 292.74 MiB) to /root/tensorflow_datasets/cifar100/3.0.2...\u001b[0m\n"
          ],
          "name": "stdout"
        },
        {
          "output_type": "display_data",
          "data": {
            "application/vnd.jupyter.widget-view+json": {
              "model_id": "25801addb243411c847c38d0f76db7d7",
              "version_minor": 0,
              "version_major": 2
            },
            "text/plain": [
              "HBox(children=(FloatProgress(value=1.0, bar_style='info', description='Dl Completed...', max=1.0, style=Progre…"
            ]
          },
          "metadata": {
            "tags": []
          }
        },
        {
          "output_type": "display_data",
          "data": {
            "application/vnd.jupyter.widget-view+json": {
              "model_id": "451060ae4b80468392d4edd06febcce9",
              "version_minor": 0,
              "version_major": 2
            },
            "text/plain": [
              "HBox(children=(FloatProgress(value=1.0, bar_style='info', description='Dl Size...', max=1.0, style=ProgressSty…"
            ]
          },
          "metadata": {
            "tags": []
          }
        },
        {
          "output_type": "display_data",
          "data": {
            "application/vnd.jupyter.widget-view+json": {
              "model_id": "35c0ad5d12fe47438c476563936d541a",
              "version_minor": 0,
              "version_major": 2
            },
            "text/plain": [
              "HBox(children=(FloatProgress(value=1.0, bar_style='info', description='Extraction completed...', max=1.0, styl…"
            ]
          },
          "metadata": {
            "tags": []
          }
        },
        {
          "output_type": "stream",
          "text": [
            "\n",
            "\n",
            "\n",
            "\n",
            "\n",
            "\n"
          ],
          "name": "stdout"
        },
        {
          "output_type": "display_data",
          "data": {
            "application/vnd.jupyter.widget-view+json": {
              "model_id": "41bac56a0e514109955b3a2c7e935f9c",
              "version_minor": 0,
              "version_major": 2
            },
            "text/plain": [
              "HBox(children=(FloatProgress(value=1.0, bar_style='info', max=1.0), HTML(value='')))"
            ]
          },
          "metadata": {
            "tags": []
          }
        },
        {
          "output_type": "stream",
          "text": [
            "\rShuffling and writing examples to /root/tensorflow_datasets/cifar100/3.0.2.incomplete7YDEC5/cifar100-train.tfrecord\n"
          ],
          "name": "stdout"
        },
        {
          "output_type": "display_data",
          "data": {
            "application/vnd.jupyter.widget-view+json": {
              "model_id": "4d99fa61a99d40329a427450b9261f18",
              "version_minor": 0,
              "version_major": 2
            },
            "text/plain": [
              "HBox(children=(FloatProgress(value=0.0, max=50000.0), HTML(value='')))"
            ]
          },
          "metadata": {
            "tags": []
          }
        },
        {
          "output_type": "stream",
          "text": [
            "\r"
          ],
          "name": "stdout"
        },
        {
          "output_type": "display_data",
          "data": {
            "application/vnd.jupyter.widget-view+json": {
              "model_id": "7c128be503f74232b2ae50eb00c448b7",
              "version_minor": 0,
              "version_major": 2
            },
            "text/plain": [
              "HBox(children=(FloatProgress(value=1.0, bar_style='info', max=1.0), HTML(value='')))"
            ]
          },
          "metadata": {
            "tags": []
          }
        },
        {
          "output_type": "stream",
          "text": [
            "\rShuffling and writing examples to /root/tensorflow_datasets/cifar100/3.0.2.incomplete7YDEC5/cifar100-test.tfrecord\n"
          ],
          "name": "stdout"
        },
        {
          "output_type": "display_data",
          "data": {
            "application/vnd.jupyter.widget-view+json": {
              "model_id": "32097586f60d4860b233ddfaaaa9190e",
              "version_minor": 0,
              "version_major": 2
            },
            "text/plain": [
              "HBox(children=(FloatProgress(value=0.0, max=10000.0), HTML(value='')))"
            ]
          },
          "metadata": {
            "tags": []
          }
        },
        {
          "output_type": "stream",
          "text": [
            "\u001b[1mDataset cifar100 downloaded and prepared to /root/tensorflow_datasets/cifar100/3.0.2. Subsequent calls will reuse this data.\u001b[0m\n",
            "\r"
          ],
          "name": "stdout"
        },
        {
          "output_type": "execute_result",
          "data": {
            "text/plain": [
              "tfds.core.DatasetInfo(\n",
              "    name='cifar100',\n",
              "    version=3.0.2,\n",
              "    description='This dataset is just like the CIFAR-10, except it has 100 classes containing 600 images each. There are 500 training images and 100 testing images per class. The 100 classes in the CIFAR-100 are grouped into 20 superclasses. Each image comes with a \"fine\" label (the class to which it belongs) and a \"coarse\" label (the superclass to which it belongs).',\n",
              "    homepage='https://www.cs.toronto.edu/~kriz/cifar.html',\n",
              "    features=FeaturesDict({\n",
              "        'coarse_label': ClassLabel(shape=(), dtype=tf.int64, num_classes=20),\n",
              "        'id': Text(shape=(), dtype=tf.string),\n",
              "        'image': Image(shape=(32, 32, 3), dtype=tf.uint8),\n",
              "        'label': ClassLabel(shape=(), dtype=tf.int64, num_classes=100),\n",
              "    }),\n",
              "    total_num_examples=60000,\n",
              "    splits={\n",
              "        'test': 10000,\n",
              "        'train': 50000,\n",
              "    },\n",
              "    supervised_keys=('image', 'label'),\n",
              "    citation=\"\"\"@TECHREPORT{Krizhevsky09learningmultiple,\n",
              "        author = {Alex Krizhevsky},\n",
              "        title = {Learning multiple layers of features from tiny images},\n",
              "        institution = {},\n",
              "        year = {2009}\n",
              "    }\"\"\",\n",
              "    redistribution_info=,\n",
              ")"
            ]
          },
          "metadata": {
            "tags": []
          },
          "execution_count": 4
        }
      ]
    },
    {
      "cell_type": "code",
      "metadata": {
        "colab": {
          "base_uri": "https://localhost:8080/",
          "height": 235
        },
        "id": "j5FlQN_6M4nu",
        "outputId": "1bff5919-0023-4ff7-d5c4-a656956d7865"
      },
      "source": [
        "# using dataframe functionality to understand the dataset\r\n",
        "tfds.as_dataframe(ds_train.take(5), ds_info)"
      ],
      "execution_count": 5,
      "outputs": [
        {
          "output_type": "execute_result",
          "data": {
            "text/html": [
              "<style  type=\"text/css\" >\n",
              "</style><table id=\"T_8a406098_3f10_11eb_a580_0242ac1c0002\" ><thead>    <tr>        <th class=\"blank level0\" ></th>        <th class=\"col_heading level0 col0\" >image</th>        <th class=\"col_heading level0 col1\" >label</th>    </tr></thead><tbody>\n",
              "                <tr>\n",
              "                        <th id=\"T_8a406098_3f10_11eb_a580_0242ac1c0002level0_row0\" class=\"row_heading level0 row0\" >0</th>\n",
              "                        <td id=\"T_8a406098_3f10_11eb_a580_0242ac1c0002row0_col0\" class=\"data row0 col0\" ><img src=\"data:image/png;base64,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\" alt=\"Img\" /></td>\n",
              "                        <td id=\"T_8a406098_3f10_11eb_a580_0242ac1c0002row0_col1\" class=\"data row0 col1\" >23 (cloud)</td>\n",
              "            </tr>\n",
              "            <tr>\n",
              "                        <th id=\"T_8a406098_3f10_11eb_a580_0242ac1c0002level0_row1\" class=\"row_heading level0 row1\" >1</th>\n",
              "                        <td id=\"T_8a406098_3f10_11eb_a580_0242ac1c0002row1_col0\" class=\"data row1 col0\" ><img src=\"data:image/png;base64,iVBORw0KGgoAAAANSUhEUgAAACAAAAAgCAIAAAD8GO2jAAAJu0lEQVR4nAXBSW+c52EA4Hf99m1WznBoUpTlSnLS2uni2oiXFkiBXnJqb0F+VA9FgFyKntJDLk4PvRRJXDt2LMimRNkSaYmkuAxnX779e/c+D/zVr/+NsUpJUzVSKLPTaz24d281Xf3v77/6/JtnWjVKVkA3rFFSSoiaX/zyX3/08G29ycrlwgBoqFtrqojreiGCuGk45/zp029Onx397OMPDkcDghBVCmiDECAOhha2N9vyerw+eXVTM4kRKKva6ApIUub537x3/8HDuwpUKkS200EGKGApDtO1EGlGiGVZblHlZ69vBr1uJ/Smt7fEc32lhJIGGk0xpoj+8OLsy6+ezBYry8W84cTyIHCKbRYlyXt//76WOC9rg6njBA6xAjfxtFUVZ6yuKUIA8vVmZgy3betqfL2uJZFGKAQhAZQCy6LZZnH8+M/j8ZbYrgZMGYItyyYwdOOHd0YPusOIwY630yjDlBQAFqkw3AAAARG2p9L17PGjzymEVc4WAF4sU1JwrYgNtTFGKQJeXl6M5wtgudSOEcatFtoN7YPEuRNagSzim1e9/iAeBtZwUAqeFvXlMt0KQCwbktDzvNPnp7wpPvzoo9Onx3XNHIsSphGxqZYaIOG4FNmeccKAhBr5tuXux94/PBiF+aSavczS+aSsT85CSY+s7uDNOw+G/dHAT+psXTEDkZdt5fn59cEbuy6FaZa32t3RoE0oAkZJDCHBMLCcnf5uFC8o8fNNniAw8nyxvl7OTi+uL29LUQpQqVqYJbRW//fdxPGTt+4e/vhH9xvdcA20bLIs3+uH28VsuVpBYmEKiGMIExBAIxhPZb5YLBteZtsKcrC3NwiQOPn+uEhnq6Kep00lIbACYaDEQuRLBden49nrSfqzf/wAx/b3589ZnZsKrSuuEIyjQLGaOFawXae2ZWmBKqGKqoJA8oa9e/+dTuLPrp7ntUylN5UwRbAULHBIp9sHCiitt02zKrZfHh/7gffxP38yWcwooUAq7MDd/Z3R3q6RgnBADLDSbQWVsFzLDxKH0NFB78d398cXL71W1Bl2vnr0pOKKWkGLqFYYqKIZ9aKf/8vPG+r8+3/85ofLxWePj0Bsz8Y3geMgoDkvANKTxZIzhbKqwZbr2EFdiqKSluWxqj4c9LDhAqm33n24/2D/3XcfUMtII4CFbxaL29Xq4HBw/O0X5ydPdhIfsWadbr/95uvF9au2SwCXk5tN4HU0sDZFRbS2pIaYYtv3hRa8Zju+04+ThomaFU++fTx+fR57kTFNKrTn9TNgZJP9/os/NeXW2G4mHI1QEkEMWRCFSat7uXi1LXWb+HnJwjgmGCCAkDbaAOV6tCpUZON25Nysm5rx5XJVCzQ+uxaI+IlHgzDBOBXF1WTjORRBNN8WDPh9Apu6Qjb9+uhElelfPLxXsyqKE2MMkbzREFGsEdQSmFana/guQRIYzjWO+7vGXiGuKXEsL2iYjNuJa93LJnNR5VEQH7bjq+m2LsqUlxBqnpd3+tH+MJI0ag0OF8st2a6WNReeY5QQ2riJFw1Hb0HV8Kp4887BYK/z8vwU21bKEHXCxWxGDewO93fafWTYzqBrh92L6/nJk89LlgGEXN99Y394MEoqEBSi8YKAXF6cIuzajoUxxooQqGDgYqipBX/6yU+Luqh4wxQa+EmUdL8/Vulmc3gwurq6fvHidLqcDYcjDKBtmSCwASQE2ZI4Vrwb2BFfi7qoiRTl3u4hceKCVwIappXGCBgIFefF/Ojo2W8+/Z8fLsdJq7U7HEZhOL+dPn92PJ0tAIQWxYvZfHe4o4wu64ZSJ+q03dYAhW+Erq8Xt3s7CUk36wdve0GrBbdgma1X+SIzdNhpQc51lfk2oQSFUbzZpk1R9ns9LZVj271+BxHUVCWAerGarzZbA2Dke37kCt1sNtuz715w5GOoCNCSp3NqQytfxkwZxLHIRCNb7ej1zW2r1frg7/7aP30lFPr4w0+0lH/+8quPPvxwvJh8+t+fYgjqplguSw1JEAW26xCbCJ45IN3pOivhMIxIEtksvfIT2AkQdxCDcG/UtRS82+ou6lp47f5Of2+5rJiIA6di4GY6e/HD8+lsLFlFHJs1XClBfepHjhc5lkvcwHf8bqsXmun2bDIjyywrsmUvpAfdvo2JEIYpiqjbT6J7f3n/6GotWWWEXE5uf/tf/5k3aD6b/PEPV8Yom1KjpJSSEGy7GGLgOEG7vRt4weU08+8kFCoLKlID+/VkHkbj7s5OxUCWa4VFvxtJGkSdwfudgV0v5xfn56zhTVXmDQIcakMoVQZwzowxcRJHYWxRzyVBYLUJwEqxZb68WdxkZYmEVNhtv77Jj56elVK0WjuyhKxkJ6/Hn/7h6+uLl2926K6rsDGLTZ7VJcCYOrHSkHGmlAqCoNvtBU7kWa7vWJvVVIkaGPzo6PjouxNCXaI0iFodzJqCicBV/Za9Uc3jp09eTSbnt9Of3O3/01/d6drElyUrK00dNwibpuZ1g4CJwyjpxApxQ/yo3a+4olg1Takl2KZVpz/0vJhQTDabTS+IVwXLhMhvXz978nyxyU/Ozrd5zotUNXLk4U4raa/KknhlXfM6xwC4jhPHHrYMcGDU6fphZ7Pc2KFnEB0vb+PYD1xbVilh2ZKnygr6lze357/7IzEqsuz5cr7crCBAN4u11OD9d97mXmt3H98st2UpgDZeGIxG/SCyOTQ0TKgd1FVlBGMNLnkFsUBGs/Xa8gLy/jtvf/GnJ3k6FTIvZ2vPsmZis0q3FNtIQwWAlsoYAywLEOxQaGFo+eH+wZudTqBArZSJkz0ACYFNexBzAzmAWGKxWceRXdYpuXvv8OtHR5tsmhfbSKPI9jas7rW7xLKl1EzzbuJDo/MsO7u+QhAP2t24kwStsChqZVDcGxhNEFFJTGzVAAORsetViRlnFmoMJEBSxUGTVj51fdc1ELtRbAjSQPd68WY6aRE8nYynk5mqhBfHe70RjSm0DcaRH+34rWBbLhkrayUxhRBQyVTdZNgIw4DEmPidIQlbbWyN+p2iKsumkk0thDRGUNX87WjUT8KT6cWoG98/PAzbLYvSnJhNVfcHfUjwenulTO3ZVNa85EQben1921RZpxcQx+TllkjHevjeT1bXl3y9MghhYnsuoYQSAgLflhjpKD4MHiKEiqaCUGIouVYKoqKuFquZ1jIMPcbqKq9Cr1VlaTqfQ6S5JIYxznPy6LPPuBBEqW1RUi8cDoZxFHHOpRCI4IxXq2VmA9AJEyFk4NrUdkHNIKzqqghcH0HUlPV2uwAQNZXiDev2YwAUtUi6WdsE/j95XfGCVIy6MAAAAABJRU5ErkJggg==\" alt=\"Img\" /></td>\n",
              "                        <td id=\"T_8a406098_3f10_11eb_a580_0242ac1c0002row1_col1\" class=\"data row1 col1\" >66 (raccoon)</td>\n",
              "            </tr>\n",
              "            <tr>\n",
              "                        <th id=\"T_8a406098_3f10_11eb_a580_0242ac1c0002level0_row2\" class=\"row_heading level0 row2\" >2</th>\n",
              "                        <td id=\"T_8a406098_3f10_11eb_a580_0242ac1c0002row2_col0\" class=\"data row2 col0\" ><img src=\"data:image/png;base64,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\" alt=\"Img\" /></td>\n",
              "                        <td id=\"T_8a406098_3f10_11eb_a580_0242ac1c0002row2_col1\" class=\"data row2 col1\" >39 (keyboard)</td>\n",
              "            </tr>\n",
              "            <tr>\n",
              "                        <th id=\"T_8a406098_3f10_11eb_a580_0242ac1c0002level0_row3\" class=\"row_heading level0 row3\" >3</th>\n",
              "                        <td id=\"T_8a406098_3f10_11eb_a580_0242ac1c0002row3_col0\" class=\"data row3 col0\" ><img src=\"data:image/png;base64,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\" alt=\"Img\" /></td>\n",
              "                        <td id=\"T_8a406098_3f10_11eb_a580_0242ac1c0002row3_col1\" class=\"data row3 col1\" >40 (lamp)</td>\n",
              "            </tr>\n",
              "            <tr>\n",
              "                        <th id=\"T_8a406098_3f10_11eb_a580_0242ac1c0002level0_row4\" class=\"row_heading level0 row4\" >4</th>\n",
              "                        <td id=\"T_8a406098_3f10_11eb_a580_0242ac1c0002row4_col0\" class=\"data row4 col0\" ><img src=\"data:image/png;base64,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\" alt=\"Img\" /></td>\n",
              "                        <td id=\"T_8a406098_3f10_11eb_a580_0242ac1c0002row4_col1\" class=\"data row4 col1\" >7 (beetle)</td>\n",
              "            </tr>\n",
              "    </tbody></table>"
            ],
            "text/plain": [
              "                                               image  label\n",
              "0  [[[250, 250, 250], [248, 248, 248], [245, 245,...     23\n",
              "1  [[[151, 154, 145], [144, 147, 135], [141, 143,...     66\n",
              "2  [[[247, 247, 247], [244, 244, 244], [245, 245,...     39\n",
              "3  [[[2, 6, 2], [6, 8, 2], [11, 9, 1], [22, 15, 3...     40\n",
              "4  [[[160, 151, 143], [148, 136, 128], [155, 141,...      7"
            ]
          },
          "metadata": {
            "tags": []
          },
          "execution_count": 5
        }
      ]
    },
    {
      "cell_type": "markdown",
      "metadata": {
        "id": "cXthXiX0PeYx"
      },
      "source": [
        "Processing for the train and test sets. The preprocessing phase includes dividing the pixel values by 255 to make them in the [0,1] range. Besides images are resized from 32x32 to 128x128 which helped achieve higher accuracy."
      ]
    },
    {
      "cell_type": "code",
      "metadata": {
        "id": "1ryMBXOMPgS6"
      },
      "source": [
        "def cast_to_tuple(features):\r\n",
        "  return (features['image'], features['label'])\r\n",
        "  \r\n",
        "def trainSet_preprocess(features, label):\r\n",
        "  features = tf.image.random_flip_left_right(features)\r\n",
        "  features = tf.image.resize(features, [RESIZE_TO, RESIZE_TO])\r\n",
        "  features = tf.cast(features, tf.float32) / 255.0\r\n",
        "  return features, label\r\n",
        "\r\n",
        "def testSet_preprocess(features, label):\r\n",
        "  features = tf.image.resize(features, [RESIZE_TO, RESIZE_TO])\r\n",
        "  features = tf.cast(features, tf.float32) / 255.0\r\n",
        "  return features, label\r\n",
        "\r\n",
        "trainSet_processFlow = (ds_train\r\n",
        "                  .shuffle(DATASET_NUM_TRAIN_EXAMPLES)\r\n",
        "                  .map(trainSet_preprocess, num_parallel_calls=4)\r\n",
        "                  .batch(BATCH_SIZE)\r\n",
        "                  .prefetch(2))\r\n",
        "\r\n",
        "testSet_processFlow = (ds_test.map(testSet_preprocess, num_parallel_calls=1)\r\n",
        "                  .batch(BATCH_SIZE)\r\n",
        "                  .prefetch(2))"
      ],
      "execution_count": 6,
      "outputs": []
    },
    {
      "cell_type": "markdown",
      "metadata": {
        "id": "8Yn2aRQMPikl"
      },
      "source": [
        "## 4. Cuda C based ELM code"
      ]
    },
    {
      "cell_type": "markdown",
      "metadata": {
        "id": "ToG05V3oPkL8"
      },
      "source": [
        "We now extract all the training data features and labels and store them into files named features.txt and labels.txt, respectively. These two files will be opened by the CUDA-based ELM, then it will write the output into another file called weights.txt which we will read later in this notebook to perform the evaluation."
      ]
    },
    {
      "cell_type": "code",
      "metadata": {
        "id": "rGOAjSO6Plm6"
      },
      "source": [
        "!rm -f features.txt labels.txt\r\n",
        "f_f = open('features.txt', 'a')\r\n",
        "l_f = open('labels.txt', 'a')\r\n",
        "    \r\n",
        "for step, (x_batch_train, y_batch_train) in enumerate(trainSet_processFlow):\r\n",
        "    # extracting features\r\n",
        "    H, _ = model(x_batch_train, training=False)\r\n",
        "    argstr_feats = ''\r\n",
        "    argstr_labels = ''\r\n",
        "    t = tf.one_hot(y_batch_train, NUM_CLASSES)\r\n",
        "    # Write the features into file\r\n",
        "    for row in np.array(H):\r\n",
        "        for element in row:\r\n",
        "            argstr_feats += (format(element, '.12f') + \" \")\r\n",
        "        argstr_feats += '\\n'\r\n",
        "    f_f.write(argstr_feats)\r\n",
        "    # Write the labels into file\r\n",
        "    for row in np.array(t):\r\n",
        "        for element in row:\r\n",
        "            argstr_labels += (str(element) + \" \")\r\n",
        "        argstr_labels += '\\n'\r\n",
        "    l_f.write(argstr_labels)\r\n",
        "\r\n",
        "f_f.close()\r\n",
        "l_f.close()"
      ],
      "execution_count": 7,
      "outputs": []
    },
    {
      "cell_type": "markdown",
      "metadata": {
        "id": "GZiQvzpxPnrz"
      },
      "source": [
        "We now write the CUDA code for Extreme Machine Learning (ELM). We first read the training data features and labels."
      ]
    },
    {
      "cell_type": "code",
      "metadata": {
        "colab": {
          "base_uri": "https://localhost:8080/"
        },
        "id": "xVtiTDGnPpI0",
        "outputId": "a381c0fe-0d6b-40b9-8c40-23750be783d5"
      },
      "source": [
        "%%writefile elm.cu\r\n",
        "#include <string>\r\n",
        "#include <cuda_runtime.h>\r\n",
        "#include <cublas_v2.h>\r\n",
        "\r\n",
        "#include <iostream>\r\n",
        "#include <fstream>\r\n",
        "#include <string>\r\n",
        "#include <sstream>\r\n",
        "\r\n",
        "using namespace std;\r\n",
        "\r\n",
        "#define CUDA_CALL(res, str) { if (res != cudaSuccess) { printf(\"CUDA Error : %s : %s %d : ERR %s\\n\", str, __FILE__, __LINE__, cudaGetErrorName(res)); } }\r\n",
        "#define CUBLAS_CALL(res, str) { if (res != CUBLAS_STATUS_SUCCESS) { printf(\"CUBLAS Error : %s : %s %d : ERR %d\\n\", str, __FILE__, __LINE__, int(res)); } }\r\n",
        "\r\n",
        "\r\n",
        "float* d_ELM(float* H, float* t, int feat_rows, int feat_cols, int label_cols)\r\n",
        "{\r\n",
        "    cublasHandle_t cu_cublasHandle;\r\n",
        "    CUBLAS_CALL(cublasCreate(&cu_cublasHandle), \"Failed to initialize cuBLAS!\");\r\n",
        "    \r\n",
        "    // creating multistreams\r\n",
        "    cudaStream_t *streams = (cudaStream_t *) malloc(2*sizeof(cudaStream_t));\r\n",
        "    cudaStreamCreate(&streams[0]);\r\n",
        "    cudaStreamCreate(&streams[1]);\r\n",
        "    \r\n",
        "    size_t szH = feat_rows * feat_cols * sizeof(float);\r\n",
        "    size_t szHTH = feat_cols * feat_cols * sizeof(float);\r\n",
        "    size_t szH1 = feat_rows * feat_cols/2 * sizeof(float);\r\n",
        "    size_t szHTH1 = feat_cols * feat_cols/2 * sizeof(float);\r\n",
        "    \r\n",
        "    // Start of multiplication to obtain HtH \r\n",
        "    float* H1 = (float*) malloc(szH1);\r\n",
        "    float* H2 = (float*) malloc(szH1);\r\n",
        "    \r\n",
        "    // Split the features data into two matrices\r\n",
        "    for(int i = 0; i < feat_rows; i++) {\r\n",
        "        for (int j = 0; j < feat_cols; j++) {\r\n",
        "            if (j < feat_cols/2) H1[i*feat_cols/2+j] = H[i*feat_cols+j];\r\n",
        "            if (j >= feat_cols/2) H2[i*feat_cols/2+j-feat_cols/2] = H[i*feat_cols+j];\r\n",
        "        }\r\n",
        "    }\r\n",
        "    \r\n",
        "    // Allocate the variables for computing HTH \r\n",
        "    float* dHTH;\r\n",
        "    float* dH;\r\n",
        "    float* dH1;\r\n",
        "    float* dH2;\r\n",
        "    float* dHTH1;\r\n",
        "    float* dHTH2;\r\n",
        "    \r\n",
        "    CUDA_CALL(cudaMalloc(&dH, szH), \"Failed to allocate H!\");\r\n",
        "    CUDA_CALL(cudaMalloc(&dHTH, szHTH), \"Failed to allocate dHTH!\");\r\n",
        "    CUDA_CALL(cudaMalloc(&dH1, szH1), \"Failed to allocate dH1\");\r\n",
        "    CUDA_CALL(cudaMalloc(&dH2, szH1), \"Failed to allocate dH2\");\r\n",
        "    CUDA_CALL(cudaMalloc(&dHTH1, szHTH1), \"Failed to allocate dHTH1\");\r\n",
        "    CUDA_CALL(cudaMalloc(&dHTH2, szHTH1), \"Failed to allocate dHTH2\");\r\n",
        "    \r\n",
        "    CUDA_CALL(cudaMemcpy(dH, H, szH, cudaMemcpyHostToDevice), \"Failed to copy to dH!\");\r\n",
        "    CUDA_CALL(cudaMemcpy(dH1, H1, szH1, cudaMemcpyHostToDevice), \"Failed to copy to dH1!\");\r\n",
        "    CUDA_CALL(cudaMemcpy(dH2, H2, szH1, cudaMemcpyHostToDevice), \"Failed to copy to dH2!\");\r\n",
        "    \r\n",
        "    float alpha = 1.0;\r\n",
        "    float beta = 0.0;\r\n",
        "\r\n",
        "    // Multiplication with two CUDA streams. We split the H matrix into two halves.\r\n",
        "\r\n",
        "    cublasSetStream(cu_cublasHandle, streams[0]);\r\n",
        "    CUBLAS_CALL(cublasSgemm(cu_cublasHandle, CUBLAS_OP_N, CUBLAS_OP_T, feat_cols, feat_cols/2, feat_rows, &alpha, dH, feat_cols, dH1, feat_cols/2, &beta, dHTH1, feat_cols), \"Failed to call matrix mult\");\r\n",
        "    CUDA_CALL(cudaDeviceSynchronize(), \"Failed to synchronize after kernel call!\");\r\n",
        "    cublasSetStream(cu_cublasHandle, streams[1]);\r\n",
        "    CUBLAS_CALL(cublasSgemm(cu_cublasHandle, CUBLAS_OP_N, CUBLAS_OP_T, feat_cols, feat_cols/2, feat_rows, &alpha, dH, feat_cols, dH2, feat_cols/2, &beta, dHTH2, feat_cols), \"Failed to call matrix mult\");\r\n",
        "    CUDA_CALL(cudaDeviceSynchronize(), \"Failed to synchronize after kernel call!\");\r\n",
        "\r\n",
        "    float* HTH1 = (float*) malloc(szHTH1);\r\n",
        "    float* HTH2 = (float*) malloc(szHTH1);\r\n",
        "    CUDA_CALL(cudaMemcpy(HTH1, dHTH1, szHTH1, cudaMemcpyDeviceToHost), \"Failed to copy to res!\");\r\n",
        "    CUDA_CALL(cudaMemcpy(HTH2, dHTH2, szHTH1, cudaMemcpyDeviceToHost), \"Failed to copy to res!\");\r\n",
        "    float* HTH = (float*) malloc(szHTH);\r\n",
        "    for(int i = 0; i < feat_cols/2; i++) {\r\n",
        "        for (int j = 0; j < feat_cols; j++) { \r\n",
        "            HTH[i*feat_cols + j] = HTH1[i*feat_cols + j];\r\n",
        "            HTH[(i+feat_cols/2)*feat_cols + j] = HTH2[i*feat_cols + j];\r\n",
        "      }\r\n",
        "    }  \r\n",
        "    for(int i = 0; i < feat_cols; i++) {\r\n",
        "        for (int j = 0; j < feat_cols; j++) { \r\n",
        "            if (i == j) HTH[i*feat_cols + j] +=1;\r\n",
        "      }\r\n",
        "    } \r\n",
        "    CUDA_CALL(cudaMemcpy(dHTH, HTH, szHTH, cudaMemcpyHostToDevice), \"Failed to copy to HTH!\");\r\n",
        "    // End of multiplication to obtain HTH\r\n",
        "    \r\n",
        "    // Matrix Inversion using LU decomposition\r\n",
        "\r\n",
        "    float** adL;\r\n",
        "    float** adC;\r\n",
        "    float* dC;\r\n",
        "    int* dLUPivots;\r\n",
        "    int* dLUInfo;\r\n",
        "\r\n",
        "    size_t szA = feat_cols * feat_cols * sizeof(float);\r\n",
        "\r\n",
        "    CUDA_CALL(cudaMalloc(&adL, sizeof(float*)), \"Failed to allocate adL!\");\r\n",
        "    CUDA_CALL(cudaMalloc(&adC, sizeof(float*)), \"Failed to allocate adC!\");\r\n",
        "    CUDA_CALL(cudaMalloc(&dC, szA), \"Failed to allocate dC!\");\r\n",
        "    CUDA_CALL(cudaMalloc(&dLUPivots, feat_cols * sizeof(float)), \"Failed to allocate dLUPivots!\");\r\n",
        "    CUDA_CALL(cudaMalloc(&dLUInfo, sizeof(float)), \"Failed to allocate dLUInfo!\");\r\n",
        "\r\n",
        "    CUDA_CALL(cudaMemcpy(adL, &dHTH, sizeof(float*), cudaMemcpyHostToDevice), \"Failed to copy to adL!\");\r\n",
        "    CUDA_CALL(cudaMemcpy(adC, &dC, sizeof(float*), cudaMemcpyHostToDevice), \"Failed to copy to adC!\");\r\n",
        "\r\n",
        "    // We call the CUBLAS LU decomposition\r\n",
        "    CUBLAS_CALL(cublasSgetrfBatched(cu_cublasHandle, feat_cols, adL, feat_cols, dLUPivots, dLUInfo, 1), \"Failed to perform LU decomp operation!\");\r\n",
        "    CUDA_CALL(cudaDeviceSynchronize(), \"Failed to synchronize after kernel call!\");\r\n",
        "\r\n",
        "    CUBLAS_CALL(cublasSgetriBatched(cu_cublasHandle, feat_cols, (const float **)adL, feat_cols, dLUPivots, adC, feat_cols, dLUInfo, 1), \"Failed to perform Inverse operation!\");\r\n",
        "    CUDA_CALL(cudaDeviceSynchronize(), \"Failed to synchronize after kernel call!\");\r\n",
        "\r\n",
        "    CUDA_CALL(cudaFree(adL), \"Failed to free adL!\");\r\n",
        "    CUDA_CALL(cudaFree(adC), \"Failed to free adC!\");\r\n",
        "    CUDA_CALL(cudaFree(dLUPivots), \"Failed to free dLUPivots!\");\r\n",
        "    CUDA_CALL(cudaFree(dLUInfo), \"Failed to free dLUInfo!\");\r\n",
        "\r\n",
        "    // Multiplication of (HTH)^-1 and HT\r\n",
        "    float* dpHT;\r\n",
        "    size_t szpHT = feat_rows * feat_cols * sizeof(float);\r\n",
        "    CUDA_CALL(cudaMalloc(&dpHT, szpHT), \"Failed to allocate pHT!\");\r\n",
        "\r\n",
        "    CUBLAS_CALL(cublasSgemm(cu_cublasHandle, CUBLAS_OP_N, CUBLAS_OP_N, feat_cols, feat_rows, feat_cols, &alpha, dC, feat_cols, dH, feat_cols, &beta, dpHT, feat_cols), \"Failed to call matrix mult\");\r\n",
        "    CUDA_CALL(cudaDeviceSynchronize(), \"Failed to synchronize after kernel call!\");\r\n",
        "\r\n",
        "    float* dt;\r\n",
        "    size_t szt = feat_rows * label_cols * sizeof(float);\r\n",
        "    CUDA_CALL(cudaMalloc(&dt, szt), \"Failed to allocate t!\");\r\n",
        "    CUDA_CALL(cudaMemcpy(dt, t, szt, cudaMemcpyHostToDevice), \"Failed to copy to dt!\");\r\n",
        "\r\n",
        "    float* dW;\r\n",
        "    size_t szW = feat_rows * label_cols * sizeof(float);\r\n",
        "    CUDA_CALL(cudaMalloc(&dW, szW), \"Failed to allocate W!\");\r\n",
        "    \r\n",
        "    // Multiplication of (HTH)^-1*HT and t (labels)\r\n",
        "    CUBLAS_CALL(cublasSgemm(cu_cublasHandle, CUBLAS_OP_N, CUBLAS_OP_T, label_cols, feat_cols, feat_rows, &alpha, dt, label_cols, dpHT, feat_cols, &beta, dW, label_cols), \"Failed to call matrix mult\");\r\n",
        "    CUDA_CALL(cudaDeviceSynchronize(), \"Failed to synchronize after kernel call!\");\r\n",
        "\r\n",
        "    float* res = (float*) malloc(szW);\r\n",
        "    CUDA_CALL(cudaMemcpy(res, dW, szW, cudaMemcpyDeviceToHost), \"Failed to copy to res!\");\r\n",
        "\r\n",
        "    CUBLAS_CALL(cublasDestroy(cu_cublasHandle), \"Failed to destroy cuBLAS!\");\r\n",
        "    return res;\r\n",
        "}\r\n",
        "\r\n",
        "int main(int argc, char *argv[])\r\n",
        "{\r\n",
        "    // number of training examples, features size, number of classes\r\n",
        "    int feat_rows = 50000;\r\n",
        "    int feat_cols = 2048;\r\n",
        "    int label_cols = 100;\r\n",
        "\r\n",
        "    float* H = (float*) malloc(feat_rows * feat_cols * sizeof(float));\r\n",
        "    float* t = (float*) malloc(feat_rows * label_cols * sizeof(float));\r\n",
        "    \r\n",
        "    // load the features from file.\r\n",
        "    string line;\r\n",
        "    ifstream featfile(\"features.txt\");\r\n",
        "    if(featfile.is_open())\r\n",
        "    {\r\n",
        "        int row = 0;\r\n",
        "        char delim='\\n';\r\n",
        "        while (getline(featfile, line, delim)) {\r\n",
        "            string subs;\r\n",
        "            int col = 0;\r\n",
        "            string delimiter = \" \";\r\n",
        "            size_t pos = 0;\r\n",
        "            string token;\r\n",
        "            while ((pos = line.find(delimiter)) != string::npos) {\r\n",
        "                token = line.substr(0, pos);\r\n",
        "                H[row*feat_cols + col] = stof(token);\r\n",
        "                line.erase(0, pos + delimiter.length());\r\n",
        "                col++;\r\n",
        "            }\r\n",
        "            row++;\r\n",
        "        }\r\n",
        "        featfile.close();\r\n",
        "    }\r\n",
        "    \r\n",
        "    // load the labels from file\r\n",
        "    ifstream labelfile(\"labels.txt\");\r\n",
        "    if(labelfile.is_open())\r\n",
        "    {\r\n",
        "        int row = 0;\r\n",
        "        char delim='\\n';\r\n",
        "        while (getline(labelfile, line, delim)) {\r\n",
        "            string subs;\r\n",
        "            int col = 0;\r\n",
        "            string delimiter = \" \";\r\n",
        "            size_t pos = 0;\r\n",
        "            string token;\r\n",
        "            while ((pos = line.find(delimiter)) != string::npos) {\r\n",
        "                token = line.substr(0, pos);\r\n",
        "                t[row*label_cols + col] = stof(token);\r\n",
        "                line.erase(0, pos + delimiter.length());\r\n",
        "                col++;\r\n",
        "            }\r\n",
        "            row++;\r\n",
        "        }\r\n",
        "        labelfile.close();\r\n",
        "    }\r\n",
        "\r\n",
        "    // we run the ELM and get the weights\r\n",
        "    float* res = d_ELM(H, t, feat_rows, feat_cols, label_cols);\r\n",
        "    \r\n",
        "    // we store the weights obtained from ELM into a file\r\n",
        "    ofstream output;\r\n",
        "    output.open (\"weights.txt\");\r\n",
        "    for (int i=0; i<feat_cols; i++){\r\n",
        "        for (int j=0; j<label_cols; j++){\r\n",
        "            output << res[j+label_cols*i];\r\n",
        "            output << \" \";\r\n",
        "        }\r\n",
        "        output << endl;\r\n",
        "    }\r\n",
        "    output.close();\r\n",
        "    return 0;\r\n",
        "}\r\n"
      ],
      "execution_count": 8,
      "outputs": [
        {
          "output_type": "stream",
          "text": [
            "Writing elm.cu\n"
          ],
          "name": "stdout"
        }
      ]
    },
    {
      "cell_type": "markdown",
      "metadata": {
        "id": "0ikmgzaPPrOS"
      },
      "source": [
        "We now compile the CUDA code and make a binary called ```elm```."
      ]
    },
    {
      "cell_type": "code",
      "metadata": {
        "id": "vxoTiwmtPtAk"
      },
      "source": [
        "!nvcc -o elm ./elm.cu -lcublas"
      ],
      "execution_count": 9,
      "outputs": []
    },
    {
      "cell_type": "markdown",
      "metadata": {
        "id": "NojCrTFBPu0q"
      },
      "source": [
        "We now run the CUDA-based ELM but before doing that we release the GPU memory for previous feature extraction."
      ]
    },
    {
      "cell_type": "code",
      "metadata": {
        "id": "Fnx9N9SwPwfq"
      },
      "source": [
        "!./elm"
      ],
      "execution_count": 10,
      "outputs": []
    },
    {
      "cell_type": "markdown",
      "metadata": {
        "id": "6TnHRNPDPyPV"
      },
      "source": [
        "Load the weights generated by the CUDA-based ELM."
      ]
    },
    {
      "cell_type": "code",
      "metadata": {
        "id": "aweIbOfFP0HN"
      },
      "source": [
        "weights = np.zeros((2048, NUM_CLASSES), dtype=np.float)\r\n",
        "with open('weights.txt') as f:\r\n",
        "    for i, line in enumerate(f.readlines()):\r\n",
        "        for j, w in enumerate(line.split()):\r\n",
        "            weights[i,j] = float(w)"
      ],
      "execution_count": 11,
      "outputs": []
    },
    {
      "cell_type": "markdown",
      "metadata": {
        "id": "YM4CXYn7P19N"
      },
      "source": [
        "We now evaluate the trained model using the weights obtained from CUDA-based ELM. We measure the accuracy of training and testing sets."
      ]
    },
    {
      "cell_type": "code",
      "metadata": {
        "id": "Qp1jz14TP3p9"
      },
      "source": [
        "# training accuracy metric\r\n",
        "train_acc_metric1 = tf.keras.metrics.SparseCategoricalAccuracy()\r\n",
        "train_acc_metric2 = tf.keras.metrics.SparseCategoricalAccuracy()\r\n",
        "train_acc_metric3 = tf.keras.metrics.SparseCategoricalAccuracy()\r\n",
        "\r\n",
        "# testing accuracy metric\r\n",
        "test_acc_metric1 = tf.keras.metrics.SparseCategoricalAccuracy()\r\n",
        "test_acc_metric2 = tf.keras.metrics.SparseCategoricalAccuracy()\r\n",
        "test_acc_metric3 = tf.keras.metrics.SparseCategoricalAccuracy()\r\n"
      ],
      "execution_count": 12,
      "outputs": []
    },
    {
      "cell_type": "markdown",
      "metadata": {
        "id": "Ujlmb8ugP5zF"
      },
      "source": [
        "We set the weights of the last fully connected layer of our model with the weights obtained from CUDA-based ELM."
      ]
    },
    {
      "cell_type": "code",
      "metadata": {
        "id": "LJ29asOhP7er"
      },
      "source": [
        "model.head.set_weights([weights])"
      ],
      "execution_count": 13,
      "outputs": []
    },
    {
      "cell_type": "markdown",
      "metadata": {
        "id": "HV0LdB-aZoni"
      },
      "source": [
        "## 5. Training the model"
      ]
    },
    {
      "cell_type": "markdown",
      "metadata": {
        "id": "z2bLI6QCP9DG"
      },
      "source": [
        "We are now evaluating the training accuracy."
      ]
    },
    {
      "cell_type": "code",
      "metadata": {
        "colab": {
          "base_uri": "https://localhost:8080/"
        },
        "id": "08tDEf75-Jfy",
        "outputId": "6e05c4ec-24d5-4304-ecd1-a8b2a52a263d"
      },
      "source": [
        "# first run\r\n",
        "for x_batch_train, y_batch_train in trainSet_processFlow:\r\n",
        "    _, train_logits1 = model(x_batch_train, training=False)\r\n",
        "    train_acc_metric1.update_state(y_batch_train, train_logits1)\r\n",
        "train_acc1 = train_acc_metric1.result()\r\n",
        "train_acc_metric1.reset_states()\r\n",
        "print(\"Training accuracy for the first run: %.4f\" % (float(train_acc1),))"
      ],
      "execution_count": 22,
      "outputs": [
        {
          "output_type": "stream",
          "text": [
            "Training accuracy for the first run: 0.8014\n"
          ],
          "name": "stdout"
        }
      ]
    },
    {
      "cell_type": "code",
      "metadata": {
        "colab": {
          "base_uri": "https://localhost:8080/"
        },
        "id": "iaB_94HNP-Ur",
        "outputId": "42fa8b01-ac2e-4aa7-eb26-2fa021853a70"
      },
      "source": [
        "# second run\r\n",
        "for x_batch_train, y_batch_train in trainSet_processFlow:\r\n",
        "    _, train_logits2 = model(x_batch_train, training=False)\r\n",
        "    train_acc_metric2.update_state(y_batch_train, train_logits2)\r\n",
        "train_acc2 = train_acc_metric2.result()\r\n",
        "train_acc_metric2.reset_states()\r\n",
        "print(\"Training accuracy for the second run: %.4f\" % (float(train_acc2),))"
      ],
      "execution_count": 15,
      "outputs": [
        {
          "output_type": "stream",
          "text": [
            "Training accuracy: 0.8004\n"
          ],
          "name": "stdout"
        }
      ]
    },
    {
      "cell_type": "code",
      "metadata": {
        "colab": {
          "base_uri": "https://localhost:8080/"
        },
        "id": "300Tx0c_-MdR",
        "outputId": "4ee8db59-833b-489e-807b-10237926a686"
      },
      "source": [
        "# third run\r\n",
        "for x_batch_train, y_batch_train in trainSet_processFlow:\r\n",
        "    _, train_logits3 = model(x_batch_train, training=False)\r\n",
        "    train_acc_metric3.update_state(y_batch_train, train_logits3)\r\n",
        "train_acc3 = train_acc_metric3.result()\r\n",
        "train_acc_metric3.reset_states()\r\n",
        "print(\"Training accuracy for the third run: %.4f\" % (float(train_acc3),))"
      ],
      "execution_count": 16,
      "outputs": [
        {
          "output_type": "stream",
          "text": [
            "Training accuracy: 0.7996\n"
          ],
          "name": "stdout"
        }
      ]
    },
    {
      "cell_type": "code",
      "metadata": {
        "colab": {
          "base_uri": "https://localhost:8080/"
        },
        "id": "tHUCg8Us-PRN",
        "outputId": "4e835e00-18ff-489d-bba7-776e4e6f35c3"
      },
      "source": [
        "# Average of the training accuracies\r\n",
        "print(\"Average Testing Accuracy: %.4f\" %(float((train_acc1+train_acc2+train_acc3)/3)*100))"
      ],
      "execution_count": 17,
      "outputs": [
        {
          "output_type": "stream",
          "text": [
            "Average Testing Accuracy: 80.0553\n"
          ],
          "name": "stdout"
        }
      ]
    },
    {
      "cell_type": "markdown",
      "metadata": {
        "id": "ti2NnZNvQ5BQ"
      },
      "source": [
        "## 6. Testing the model"
      ]
    },
    {
      "cell_type": "markdown",
      "metadata": {
        "id": "fvE_0UL2QAgx"
      },
      "source": [
        "We are now evaluating the testing accuracy thrice and getting the average of it."
      ]
    },
    {
      "cell_type": "code",
      "metadata": {
        "colab": {
          "base_uri": "https://localhost:8080/"
        },
        "id": "IP_3-OjKQCA9",
        "outputId": "ee0d120f-27c6-40e4-9ed7-aede824b5431"
      },
      "source": [
        "# test run 1\r\n",
        "for x_batch_test, y_batch_test in testSet_processFlow:\r\n",
        "    _, test_logits1 = model(x_batch_test, training=False)\r\n",
        "    test_acc_metric1.update_state(y_batch_test, test_logits1)\r\n",
        "test_acc1 = test_acc_metric1.result()\r\n",
        "test_acc_metric1.reset_states()\r\n",
        "print(\"Testing accuracy for the first run: %.4f\" % (float(test_acc1),))"
      ],
      "execution_count": 18,
      "outputs": [
        {
          "output_type": "stream",
          "text": [
            "Testing accuracy for the first run: 0.7546\n"
          ],
          "name": "stdout"
        }
      ]
    },
    {
      "cell_type": "code",
      "metadata": {
        "colab": {
          "base_uri": "https://localhost:8080/"
        },
        "id": "MUkY5gHzQ2Oz",
        "outputId": "a6b2d15a-63f2-4132-c3f9-33419063f9e4"
      },
      "source": [
        "# test run 2\r\n",
        "for x_batch_test, y_batch_test in testSet_processFlow:\r\n",
        "    _, test_logits2 = model(x_batch_test, training=False)\r\n",
        "    test_acc_metric2.update_state(y_batch_test, test_logits2)\r\n",
        "test_acc2 = test_acc_metric2.result()\r\n",
        "test_acc_metric2.reset_states()\r\n",
        "print(\"Testing accuracy  for the second run: %.4f\" % (float(test_acc2),))"
      ],
      "execution_count": 19,
      "outputs": [
        {
          "output_type": "stream",
          "text": [
            "Testing accuracy  for the second run: 0.7546\n"
          ],
          "name": "stdout"
        }
      ]
    },
    {
      "cell_type": "code",
      "metadata": {
        "colab": {
          "base_uri": "https://localhost:8080/"
        },
        "id": "YxGOJCQGQ29N",
        "outputId": "910f3b91-8556-4717-bd75-d8481d32f691"
      },
      "source": [
        "# test run 3\r\n",
        "for x_batch_test, y_batch_test in testSet_processFlow:\r\n",
        "    _, test_logits3 = model(x_batch_test, training=False)\r\n",
        "    test_acc_metric3.update_state(y_batch_test, test_logits3)\r\n",
        "test_acc3 = test_acc_metric3.result()\r\n",
        "test_acc_metric3.reset_states()\r\n",
        "print(\"Testing accuracy  for the third run: %.4f\" % (float(test_acc3),))"
      ],
      "execution_count": 20,
      "outputs": [
        {
          "output_type": "stream",
          "text": [
            "Testing accuracy  for the third run: 0.7546\n"
          ],
          "name": "stdout"
        }
      ]
    },
    {
      "cell_type": "code",
      "metadata": {
        "colab": {
          "base_uri": "https://localhost:8080/"
        },
        "id": "DEvN7YQxRyjP",
        "outputId": "16882f44-32df-431b-c931-c1d0cdb409e6"
      },
      "source": [
        "# Average of the testing accuracies\r\n",
        "print(\"Average Testing Accuracy: %.4f\" %(float((test_acc1+test_acc2+test_acc3)/3)*100))"
      ],
      "execution_count": 21,
      "outputs": [
        {
          "output_type": "stream",
          "text": [
            "Average Testing Accuracy: 75.4600\n"
          ],
          "name": "stdout"
        }
      ]
    },
    {
      "cell_type": "code",
      "metadata": {
        "colab": {
          "base_uri": "https://localhost:8080/"
        },
        "id": "bJXlwKEfMCdI",
        "outputId": "a9891821-5226-4f52-b186-0f16aacc427b"
      },
      "source": [
        "print(\"Accuracies for Cifar100\")\r\n",
        "print(\"Training accuracy for the first run: %.4f\" % (float((train_acc1),)*100))\r\n",
        "print(\"Training accuracy for the second run: %.4f\" % (float((train_acc2),)*100))\r\n",
        "print(\"Training accuracy for the third run: %.4f\" % (float((train_acc3),)*100))\r\n",
        "print(\"Average Testing Accuracy: %.4f\" %(float((train_acc1+train_acc2+train_acc3)/3)*100))\r\n",
        "print(\"Testing accuracy for the first run: %.4f\" % (float((test_acc1),)*100))\r\n",
        "print(\"Testing accuracy  for the second run: %.4f\" % (float((test_acc2),)*100))\r\n",
        "print(\"Testing accuracy  for the third run: %.4f\" % (float((test_acc3),)*100))\r\n",
        "print(\"Average Testing Accuracy: %.4f\" %(float((test_acc1+test_acc2+test_acc3)/3)*100))"
      ],
      "execution_count": 23,
      "outputs": [
        {
          "output_type": "stream",
          "text": [
            "Accuracies for Cifar100\n",
            "Training accuracy for the first run: 80.1420\n",
            "Training accuracy for the second run: 80.0440\n",
            "Training accuracy for the third run: 79.9620\n",
            "Average Testing Accuracy: 80.0493\n",
            "Testing accuracy for the first run: 75.4600\n",
            "Testing accuracy  for the second run: 75.4600\n",
            "Testing accuracy  for the third run: 75.4600\n",
            "Average Testing Accuracy: 75.4600\n"
          ],
          "name": "stdout"
        }
      ]
    }
  ]
}