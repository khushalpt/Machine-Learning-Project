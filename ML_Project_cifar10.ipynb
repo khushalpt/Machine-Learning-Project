{
  "nbformat": 4,
  "nbformat_minor": 0,
  "metadata": {
    "colab": {
      "name": "1106937_ML_Project_cifar10.ipynb",
      "provenance": [],
      "collapsed_sections": []
    },
    "kernelspec": {
      "name": "python3",
      "display_name": "Python 3"
    },
    "accelerator": "GPU",
    "widgets": {
      "application/vnd.jupyter.widget-state+json": {
        "e0b2086440a54158896289d142b7b59f": {
          "model_module": "@jupyter-widgets/controls",
          "model_name": "HBoxModel",
          "state": {
            "_view_name": "HBoxView",
            "_dom_classes": [],
            "_model_name": "HBoxModel",
            "_view_module": "@jupyter-widgets/controls",
            "_model_module_version": "1.5.0",
            "_view_count": null,
            "_view_module_version": "1.5.0",
            "box_style": "",
            "layout": "IPY_MODEL_aebb70b5e84f412e8fd99fda9af3cf3e",
            "_model_module": "@jupyter-widgets/controls",
            "children": [
              "IPY_MODEL_66cf0d91a0d143039b47e3c808fcbdd7",
              "IPY_MODEL_8e12b19efa514e8cb7a5dde6190de625"
            ]
          }
        },
        "aebb70b5e84f412e8fd99fda9af3cf3e": {
          "model_module": "@jupyter-widgets/base",
          "model_name": "LayoutModel",
          "state": {
            "_view_name": "LayoutView",
            "grid_template_rows": null,
            "right": null,
            "justify_content": null,
            "_view_module": "@jupyter-widgets/base",
            "overflow": null,
            "_model_module_version": "1.2.0",
            "_view_count": null,
            "flex_flow": null,
            "width": null,
            "min_width": null,
            "border": null,
            "align_items": null,
            "bottom": null,
            "_model_module": "@jupyter-widgets/base",
            "top": null,
            "grid_column": null,
            "overflow_y": null,
            "overflow_x": null,
            "grid_auto_flow": null,
            "grid_area": null,
            "grid_template_columns": null,
            "flex": null,
            "_model_name": "LayoutModel",
            "justify_items": null,
            "grid_row": null,
            "max_height": null,
            "align_content": null,
            "visibility": null,
            "align_self": null,
            "height": null,
            "min_height": null,
            "padding": null,
            "grid_auto_rows": null,
            "grid_gap": null,
            "max_width": null,
            "order": null,
            "_view_module_version": "1.2.0",
            "grid_template_areas": null,
            "object_position": null,
            "object_fit": null,
            "grid_auto_columns": null,
            "margin": null,
            "display": null,
            "left": null
          }
        },
        "66cf0d91a0d143039b47e3c808fcbdd7": {
          "model_module": "@jupyter-widgets/controls",
          "model_name": "FloatProgressModel",
          "state": {
            "_view_name": "ProgressView",
            "style": "IPY_MODEL_569b8642209946b687504631ce98ab60",
            "_dom_classes": [],
            "description": "Dl Completed...: 100%",
            "_model_name": "FloatProgressModel",
            "bar_style": "success",
            "max": 1,
            "_view_module": "@jupyter-widgets/controls",
            "_model_module_version": "1.5.0",
            "value": 1,
            "_view_count": null,
            "_view_module_version": "1.5.0",
            "orientation": "horizontal",
            "min": 0,
            "description_tooltip": null,
            "_model_module": "@jupyter-widgets/controls",
            "layout": "IPY_MODEL_8005694cf28a43909c766d4f94a84839"
          }
        },
        "8e12b19efa514e8cb7a5dde6190de625": {
          "model_module": "@jupyter-widgets/controls",
          "model_name": "HTMLModel",
          "state": {
            "_view_name": "HTMLView",
            "style": "IPY_MODEL_75ede162d868438aa6ed2fa1d6a0fe79",
            "_dom_classes": [],
            "description": "",
            "_model_name": "HTMLModel",
            "placeholder": "​",
            "_view_module": "@jupyter-widgets/controls",
            "_model_module_version": "1.5.0",
            "value": " 1/1 [00:05&lt;00:00,  5.95s/ url]",
            "_view_count": null,
            "_view_module_version": "1.5.0",
            "description_tooltip": null,
            "_model_module": "@jupyter-widgets/controls",
            "layout": "IPY_MODEL_fb1b261eadf14e089771fcc45fbd6d58"
          }
        },
        "569b8642209946b687504631ce98ab60": {
          "model_module": "@jupyter-widgets/controls",
          "model_name": "ProgressStyleModel",
          "state": {
            "_view_name": "StyleView",
            "_model_name": "ProgressStyleModel",
            "description_width": "initial",
            "_view_module": "@jupyter-widgets/base",
            "_model_module_version": "1.5.0",
            "_view_count": null,
            "_view_module_version": "1.2.0",
            "bar_color": null,
            "_model_module": "@jupyter-widgets/controls"
          }
        },
        "8005694cf28a43909c766d4f94a84839": {
          "model_module": "@jupyter-widgets/base",
          "model_name": "LayoutModel",
          "state": {
            "_view_name": "LayoutView",
            "grid_template_rows": null,
            "right": null,
            "justify_content": null,
            "_view_module": "@jupyter-widgets/base",
            "overflow": null,
            "_model_module_version": "1.2.0",
            "_view_count": null,
            "flex_flow": null,
            "width": null,
            "min_width": null,
            "border": null,
            "align_items": null,
            "bottom": null,
            "_model_module": "@jupyter-widgets/base",
            "top": null,
            "grid_column": null,
            "overflow_y": null,
            "overflow_x": null,
            "grid_auto_flow": null,
            "grid_area": null,
            "grid_template_columns": null,
            "flex": null,
            "_model_name": "LayoutModel",
            "justify_items": null,
            "grid_row": null,
            "max_height": null,
            "align_content": null,
            "visibility": null,
            "align_self": null,
            "height": null,
            "min_height": null,
            "padding": null,
            "grid_auto_rows": null,
            "grid_gap": null,
            "max_width": null,
            "order": null,
            "_view_module_version": "1.2.0",
            "grid_template_areas": null,
            "object_position": null,
            "object_fit": null,
            "grid_auto_columns": null,
            "margin": null,
            "display": null,
            "left": null
          }
        },
        "75ede162d868438aa6ed2fa1d6a0fe79": {
          "model_module": "@jupyter-widgets/controls",
          "model_name": "DescriptionStyleModel",
          "state": {
            "_view_name": "StyleView",
            "_model_name": "DescriptionStyleModel",
            "description_width": "",
            "_view_module": "@jupyter-widgets/base",
            "_model_module_version": "1.5.0",
            "_view_count": null,
            "_view_module_version": "1.2.0",
            "_model_module": "@jupyter-widgets/controls"
          }
        },
        "fb1b261eadf14e089771fcc45fbd6d58": {
          "model_module": "@jupyter-widgets/base",
          "model_name": "LayoutModel",
          "state": {
            "_view_name": "LayoutView",
            "grid_template_rows": null,
            "right": null,
            "justify_content": null,
            "_view_module": "@jupyter-widgets/base",
            "overflow": null,
            "_model_module_version": "1.2.0",
            "_view_count": null,
            "flex_flow": null,
            "width": null,
            "min_width": null,
            "border": null,
            "align_items": null,
            "bottom": null,
            "_model_module": "@jupyter-widgets/base",
            "top": null,
            "grid_column": null,
            "overflow_y": null,
            "overflow_x": null,
            "grid_auto_flow": null,
            "grid_area": null,
            "grid_template_columns": null,
            "flex": null,
            "_model_name": "LayoutModel",
            "justify_items": null,
            "grid_row": null,
            "max_height": null,
            "align_content": null,
            "visibility": null,
            "align_self": null,
            "height": null,
            "min_height": null,
            "padding": null,
            "grid_auto_rows": null,
            "grid_gap": null,
            "max_width": null,
            "order": null,
            "_view_module_version": "1.2.0",
            "grid_template_areas": null,
            "object_position": null,
            "object_fit": null,
            "grid_auto_columns": null,
            "margin": null,
            "display": null,
            "left": null
          }
        },
        "ab77349245e64fcdb990d37a9d396153": {
          "model_module": "@jupyter-widgets/controls",
          "model_name": "HBoxModel",
          "state": {
            "_view_name": "HBoxView",
            "_dom_classes": [],
            "_model_name": "HBoxModel",
            "_view_module": "@jupyter-widgets/controls",
            "_model_module_version": "1.5.0",
            "_view_count": null,
            "_view_module_version": "1.5.0",
            "box_style": "",
            "layout": "IPY_MODEL_d0eb6b6c2274451bb2b4c732ead40738",
            "_model_module": "@jupyter-widgets/controls",
            "children": [
              "IPY_MODEL_eb387431743a42a2ae8dde3f85a2da4e",
              "IPY_MODEL_a17b07f52c5b473d805031676c7accdb"
            ]
          }
        },
        "d0eb6b6c2274451bb2b4c732ead40738": {
          "model_module": "@jupyter-widgets/base",
          "model_name": "LayoutModel",
          "state": {
            "_view_name": "LayoutView",
            "grid_template_rows": null,
            "right": null,
            "justify_content": null,
            "_view_module": "@jupyter-widgets/base",
            "overflow": null,
            "_model_module_version": "1.2.0",
            "_view_count": null,
            "flex_flow": null,
            "width": null,
            "min_width": null,
            "border": null,
            "align_items": null,
            "bottom": null,
            "_model_module": "@jupyter-widgets/base",
            "top": null,
            "grid_column": null,
            "overflow_y": null,
            "overflow_x": null,
            "grid_auto_flow": null,
            "grid_area": null,
            "grid_template_columns": null,
            "flex": null,
            "_model_name": "LayoutModel",
            "justify_items": null,
            "grid_row": null,
            "max_height": null,
            "align_content": null,
            "visibility": null,
            "align_self": null,
            "height": null,
            "min_height": null,
            "padding": null,
            "grid_auto_rows": null,
            "grid_gap": null,
            "max_width": null,
            "order": null,
            "_view_module_version": "1.2.0",
            "grid_template_areas": null,
            "object_position": null,
            "object_fit": null,
            "grid_auto_columns": null,
            "margin": null,
            "display": null,
            "left": null
          }
        },
        "eb387431743a42a2ae8dde3f85a2da4e": {
          "model_module": "@jupyter-widgets/controls",
          "model_name": "FloatProgressModel",
          "state": {
            "_view_name": "ProgressView",
            "style": "IPY_MODEL_34e4db3d10454fb7b219c0f9275c9079",
            "_dom_classes": [],
            "description": "Dl Size...: 100%",
            "_model_name": "FloatProgressModel",
            "bar_style": "success",
            "max": 1,
            "_view_module": "@jupyter-widgets/controls",
            "_model_module_version": "1.5.0",
            "value": 1,
            "_view_count": null,
            "_view_module_version": "1.5.0",
            "orientation": "horizontal",
            "min": 0,
            "description_tooltip": null,
            "_model_module": "@jupyter-widgets/controls",
            "layout": "IPY_MODEL_9c2f957e02324f3994b1283931873d3f"
          }
        },
        "a17b07f52c5b473d805031676c7accdb": {
          "model_module": "@jupyter-widgets/controls",
          "model_name": "HTMLModel",
          "state": {
            "_view_name": "HTMLView",
            "style": "IPY_MODEL_595bb2021d474bdc9973256068d75225",
            "_dom_classes": [],
            "description": "",
            "_model_name": "HTMLModel",
            "placeholder": "​",
            "_view_module": "@jupyter-widgets/controls",
            "_model_module_version": "1.5.0",
            "value": " 162/162 [00:05&lt;00:00, 27.42 MiB/s]",
            "_view_count": null,
            "_view_module_version": "1.5.0",
            "description_tooltip": null,
            "_model_module": "@jupyter-widgets/controls",
            "layout": "IPY_MODEL_23baea1854154edd9c503418c38a058b"
          }
        },
        "34e4db3d10454fb7b219c0f9275c9079": {
          "model_module": "@jupyter-widgets/controls",
          "model_name": "ProgressStyleModel",
          "state": {
            "_view_name": "StyleView",
            "_model_name": "ProgressStyleModel",
            "description_width": "initial",
            "_view_module": "@jupyter-widgets/base",
            "_model_module_version": "1.5.0",
            "_view_count": null,
            "_view_module_version": "1.2.0",
            "bar_color": null,
            "_model_module": "@jupyter-widgets/controls"
          }
        },
        "9c2f957e02324f3994b1283931873d3f": {
          "model_module": "@jupyter-widgets/base",
          "model_name": "LayoutModel",
          "state": {
            "_view_name": "LayoutView",
            "grid_template_rows": null,
            "right": null,
            "justify_content": null,
            "_view_module": "@jupyter-widgets/base",
            "overflow": null,
            "_model_module_version": "1.2.0",
            "_view_count": null,
            "flex_flow": null,
            "width": null,
            "min_width": null,
            "border": null,
            "align_items": null,
            "bottom": null,
            "_model_module": "@jupyter-widgets/base",
            "top": null,
            "grid_column": null,
            "overflow_y": null,
            "overflow_x": null,
            "grid_auto_flow": null,
            "grid_area": null,
            "grid_template_columns": null,
            "flex": null,
            "_model_name": "LayoutModel",
            "justify_items": null,
            "grid_row": null,
            "max_height": null,
            "align_content": null,
            "visibility": null,
            "align_self": null,
            "height": null,
            "min_height": null,
            "padding": null,
            "grid_auto_rows": null,
            "grid_gap": null,
            "max_width": null,
            "order": null,
            "_view_module_version": "1.2.0",
            "grid_template_areas": null,
            "object_position": null,
            "object_fit": null,
            "grid_auto_columns": null,
            "margin": null,
            "display": null,
            "left": null
          }
        },
        "595bb2021d474bdc9973256068d75225": {
          "model_module": "@jupyter-widgets/controls",
          "model_name": "DescriptionStyleModel",
          "state": {
            "_view_name": "StyleView",
            "_model_name": "DescriptionStyleModel",
            "description_width": "",
            "_view_module": "@jupyter-widgets/base",
            "_model_module_version": "1.5.0",
            "_view_count": null,
            "_view_module_version": "1.2.0",
            "_model_module": "@jupyter-widgets/controls"
          }
        },
        "23baea1854154edd9c503418c38a058b": {
          "model_module": "@jupyter-widgets/base",
          "model_name": "LayoutModel",
          "state": {
            "_view_name": "LayoutView",
            "grid_template_rows": null,
            "right": null,
            "justify_content": null,
            "_view_module": "@jupyter-widgets/base",
            "overflow": null,
            "_model_module_version": "1.2.0",
            "_view_count": null,
            "flex_flow": null,
            "width": null,
            "min_width": null,
            "border": null,
            "align_items": null,
            "bottom": null,
            "_model_module": "@jupyter-widgets/base",
            "top": null,
            "grid_column": null,
            "overflow_y": null,
            "overflow_x": null,
            "grid_auto_flow": null,
            "grid_area": null,
            "grid_template_columns": null,
            "flex": null,
            "_model_name": "LayoutModel",
            "justify_items": null,
            "grid_row": null,
            "max_height": null,
            "align_content": null,
            "visibility": null,
            "align_self": null,
            "height": null,
            "min_height": null,
            "padding": null,
            "grid_auto_rows": null,
            "grid_gap": null,
            "max_width": null,
            "order": null,
            "_view_module_version": "1.2.0",
            "grid_template_areas": null,
            "object_position": null,
            "object_fit": null,
            "grid_auto_columns": null,
            "margin": null,
            "display": null,
            "left": null
          }
        },
        "7009dae56630459e960e86a1208bc526": {
          "model_module": "@jupyter-widgets/controls",
          "model_name": "HBoxModel",
          "state": {
            "_view_name": "HBoxView",
            "_dom_classes": [],
            "_model_name": "HBoxModel",
            "_view_module": "@jupyter-widgets/controls",
            "_model_module_version": "1.5.0",
            "_view_count": null,
            "_view_module_version": "1.5.0",
            "box_style": "",
            "layout": "IPY_MODEL_5317a62edf0e4441ab2bb9dedff3f33f",
            "_model_module": "@jupyter-widgets/controls",
            "children": [
              "IPY_MODEL_3997e39f86e14d698954c4559cb3ce3d",
              "IPY_MODEL_d33f606d218c42519ad8e419a687aa99"
            ]
          }
        },
        "5317a62edf0e4441ab2bb9dedff3f33f": {
          "model_module": "@jupyter-widgets/base",
          "model_name": "LayoutModel",
          "state": {
            "_view_name": "LayoutView",
            "grid_template_rows": null,
            "right": null,
            "justify_content": null,
            "_view_module": "@jupyter-widgets/base",
            "overflow": null,
            "_model_module_version": "1.2.0",
            "_view_count": null,
            "flex_flow": null,
            "width": null,
            "min_width": null,
            "border": null,
            "align_items": null,
            "bottom": null,
            "_model_module": "@jupyter-widgets/base",
            "top": null,
            "grid_column": null,
            "overflow_y": null,
            "overflow_x": null,
            "grid_auto_flow": null,
            "grid_area": null,
            "grid_template_columns": null,
            "flex": null,
            "_model_name": "LayoutModel",
            "justify_items": null,
            "grid_row": null,
            "max_height": null,
            "align_content": null,
            "visibility": null,
            "align_self": null,
            "height": null,
            "min_height": null,
            "padding": null,
            "grid_auto_rows": null,
            "grid_gap": null,
            "max_width": null,
            "order": null,
            "_view_module_version": "1.2.0",
            "grid_template_areas": null,
            "object_position": null,
            "object_fit": null,
            "grid_auto_columns": null,
            "margin": null,
            "display": null,
            "left": null
          }
        },
        "3997e39f86e14d698954c4559cb3ce3d": {
          "model_module": "@jupyter-widgets/controls",
          "model_name": "FloatProgressModel",
          "state": {
            "_view_name": "ProgressView",
            "style": "IPY_MODEL_aba544042dff4f0aa691c29454ff7514",
            "_dom_classes": [],
            "description": "Extraction completed...: 100%",
            "_model_name": "FloatProgressModel",
            "bar_style": "success",
            "max": 1,
            "_view_module": "@jupyter-widgets/controls",
            "_model_module_version": "1.5.0",
            "value": 1,
            "_view_count": null,
            "_view_module_version": "1.5.0",
            "orientation": "horizontal",
            "min": 0,
            "description_tooltip": null,
            "_model_module": "@jupyter-widgets/controls",
            "layout": "IPY_MODEL_797b246e97fa4275baf9940fd75cfb99"
          }
        },
        "d33f606d218c42519ad8e419a687aa99": {
          "model_module": "@jupyter-widgets/controls",
          "model_name": "HTMLModel",
          "state": {
            "_view_name": "HTMLView",
            "style": "IPY_MODEL_23965a05446144109851a4256a8b5bb6",
            "_dom_classes": [],
            "description": "",
            "_model_name": "HTMLModel",
            "placeholder": "​",
            "_view_module": "@jupyter-widgets/controls",
            "_model_module_version": "1.5.0",
            "value": " 1/1 [00:05&lt;00:00,  5.88s/ file]",
            "_view_count": null,
            "_view_module_version": "1.5.0",
            "description_tooltip": null,
            "_model_module": "@jupyter-widgets/controls",
            "layout": "IPY_MODEL_13c2fed8e2384760b610922e7c0a3d2b"
          }
        },
        "aba544042dff4f0aa691c29454ff7514": {
          "model_module": "@jupyter-widgets/controls",
          "model_name": "ProgressStyleModel",
          "state": {
            "_view_name": "StyleView",
            "_model_name": "ProgressStyleModel",
            "description_width": "initial",
            "_view_module": "@jupyter-widgets/base",
            "_model_module_version": "1.5.0",
            "_view_count": null,
            "_view_module_version": "1.2.0",
            "bar_color": null,
            "_model_module": "@jupyter-widgets/controls"
          }
        },
        "797b246e97fa4275baf9940fd75cfb99": {
          "model_module": "@jupyter-widgets/base",
          "model_name": "LayoutModel",
          "state": {
            "_view_name": "LayoutView",
            "grid_template_rows": null,
            "right": null,
            "justify_content": null,
            "_view_module": "@jupyter-widgets/base",
            "overflow": null,
            "_model_module_version": "1.2.0",
            "_view_count": null,
            "flex_flow": null,
            "width": null,
            "min_width": null,
            "border": null,
            "align_items": null,
            "bottom": null,
            "_model_module": "@jupyter-widgets/base",
            "top": null,
            "grid_column": null,
            "overflow_y": null,
            "overflow_x": null,
            "grid_auto_flow": null,
            "grid_area": null,
            "grid_template_columns": null,
            "flex": null,
            "_model_name": "LayoutModel",
            "justify_items": null,
            "grid_row": null,
            "max_height": null,
            "align_content": null,
            "visibility": null,
            "align_self": null,
            "height": null,
            "min_height": null,
            "padding": null,
            "grid_auto_rows": null,
            "grid_gap": null,
            "max_width": null,
            "order": null,
            "_view_module_version": "1.2.0",
            "grid_template_areas": null,
            "object_position": null,
            "object_fit": null,
            "grid_auto_columns": null,
            "margin": null,
            "display": null,
            "left": null
          }
        },
        "23965a05446144109851a4256a8b5bb6": {
          "model_module": "@jupyter-widgets/controls",
          "model_name": "DescriptionStyleModel",
          "state": {
            "_view_name": "StyleView",
            "_model_name": "DescriptionStyleModel",
            "description_width": "",
            "_view_module": "@jupyter-widgets/base",
            "_model_module_version": "1.5.0",
            "_view_count": null,
            "_view_module_version": "1.2.0",
            "_model_module": "@jupyter-widgets/controls"
          }
        },
        "13c2fed8e2384760b610922e7c0a3d2b": {
          "model_module": "@jupyter-widgets/base",
          "model_name": "LayoutModel",
          "state": {
            "_view_name": "LayoutView",
            "grid_template_rows": null,
            "right": null,
            "justify_content": null,
            "_view_module": "@jupyter-widgets/base",
            "overflow": null,
            "_model_module_version": "1.2.0",
            "_view_count": null,
            "flex_flow": null,
            "width": null,
            "min_width": null,
            "border": null,
            "align_items": null,
            "bottom": null,
            "_model_module": "@jupyter-widgets/base",
            "top": null,
            "grid_column": null,
            "overflow_y": null,
            "overflow_x": null,
            "grid_auto_flow": null,
            "grid_area": null,
            "grid_template_columns": null,
            "flex": null,
            "_model_name": "LayoutModel",
            "justify_items": null,
            "grid_row": null,
            "max_height": null,
            "align_content": null,
            "visibility": null,
            "align_self": null,
            "height": null,
            "min_height": null,
            "padding": null,
            "grid_auto_rows": null,
            "grid_gap": null,
            "max_width": null,
            "order": null,
            "_view_module_version": "1.2.0",
            "grid_template_areas": null,
            "object_position": null,
            "object_fit": null,
            "grid_auto_columns": null,
            "margin": null,
            "display": null,
            "left": null
          }
        },
        "30cf8a8757434f35a51e1e559a2f86e0": {
          "model_module": "@jupyter-widgets/controls",
          "model_name": "HBoxModel",
          "state": {
            "_view_name": "HBoxView",
            "_dom_classes": [],
            "_model_name": "HBoxModel",
            "_view_module": "@jupyter-widgets/controls",
            "_model_module_version": "1.5.0",
            "_view_count": null,
            "_view_module_version": "1.5.0",
            "box_style": "",
            "layout": "IPY_MODEL_2d38db5a6c25444c879fcaab202f2ac5",
            "_model_module": "@jupyter-widgets/controls",
            "children": [
              "IPY_MODEL_d0aaab6a135e4ba581495890531a84dc",
              "IPY_MODEL_3b4b3208aa9848758ca92e9df841974d"
            ]
          }
        },
        "2d38db5a6c25444c879fcaab202f2ac5": {
          "model_module": "@jupyter-widgets/base",
          "model_name": "LayoutModel",
          "state": {
            "_view_name": "LayoutView",
            "grid_template_rows": null,
            "right": null,
            "justify_content": null,
            "_view_module": "@jupyter-widgets/base",
            "overflow": null,
            "_model_module_version": "1.2.0",
            "_view_count": null,
            "flex_flow": null,
            "width": null,
            "min_width": null,
            "border": null,
            "align_items": null,
            "bottom": null,
            "_model_module": "@jupyter-widgets/base",
            "top": null,
            "grid_column": null,
            "overflow_y": null,
            "overflow_x": null,
            "grid_auto_flow": null,
            "grid_area": null,
            "grid_template_columns": null,
            "flex": null,
            "_model_name": "LayoutModel",
            "justify_items": null,
            "grid_row": null,
            "max_height": null,
            "align_content": null,
            "visibility": null,
            "align_self": null,
            "height": null,
            "min_height": null,
            "padding": null,
            "grid_auto_rows": null,
            "grid_gap": null,
            "max_width": null,
            "order": null,
            "_view_module_version": "1.2.0",
            "grid_template_areas": null,
            "object_position": null,
            "object_fit": null,
            "grid_auto_columns": null,
            "margin": null,
            "display": null,
            "left": null
          }
        },
        "d0aaab6a135e4ba581495890531a84dc": {
          "model_module": "@jupyter-widgets/controls",
          "model_name": "FloatProgressModel",
          "state": {
            "_view_name": "ProgressView",
            "style": "IPY_MODEL_bd069a405e8e44f2b3d4017cd35ef955",
            "_dom_classes": [],
            "description": "",
            "_model_name": "FloatProgressModel",
            "bar_style": "info",
            "max": 1,
            "_view_module": "@jupyter-widgets/controls",
            "_model_module_version": "1.5.0",
            "value": 1,
            "_view_count": null,
            "_view_module_version": "1.5.0",
            "orientation": "horizontal",
            "min": 0,
            "description_tooltip": null,
            "_model_module": "@jupyter-widgets/controls",
            "layout": "IPY_MODEL_66e85676131647ceb2b21494ae6c9374"
          }
        },
        "3b4b3208aa9848758ca92e9df841974d": {
          "model_module": "@jupyter-widgets/controls",
          "model_name": "HTMLModel",
          "state": {
            "_view_name": "HTMLView",
            "style": "IPY_MODEL_7c67a5dd62c64489b9654b45c3d08ff5",
            "_dom_classes": [],
            "description": "",
            "_model_name": "HTMLModel",
            "placeholder": "​",
            "_view_module": "@jupyter-widgets/controls",
            "_model_module_version": "1.5.0",
            "value": " 50000/0 [00:29&lt;00:00, 1721.93 examples/s]",
            "_view_count": null,
            "_view_module_version": "1.5.0",
            "description_tooltip": null,
            "_model_module": "@jupyter-widgets/controls",
            "layout": "IPY_MODEL_c113a24f69604e1db6943cb77f6e7bf1"
          }
        },
        "bd069a405e8e44f2b3d4017cd35ef955": {
          "model_module": "@jupyter-widgets/controls",
          "model_name": "ProgressStyleModel",
          "state": {
            "_view_name": "StyleView",
            "_model_name": "ProgressStyleModel",
            "description_width": "initial",
            "_view_module": "@jupyter-widgets/base",
            "_model_module_version": "1.5.0",
            "_view_count": null,
            "_view_module_version": "1.2.0",
            "bar_color": null,
            "_model_module": "@jupyter-widgets/controls"
          }
        },
        "66e85676131647ceb2b21494ae6c9374": {
          "model_module": "@jupyter-widgets/base",
          "model_name": "LayoutModel",
          "state": {
            "_view_name": "LayoutView",
            "grid_template_rows": null,
            "right": null,
            "justify_content": null,
            "_view_module": "@jupyter-widgets/base",
            "overflow": null,
            "_model_module_version": "1.2.0",
            "_view_count": null,
            "flex_flow": null,
            "width": null,
            "min_width": null,
            "border": null,
            "align_items": null,
            "bottom": null,
            "_model_module": "@jupyter-widgets/base",
            "top": null,
            "grid_column": null,
            "overflow_y": null,
            "overflow_x": null,
            "grid_auto_flow": null,
            "grid_area": null,
            "grid_template_columns": null,
            "flex": null,
            "_model_name": "LayoutModel",
            "justify_items": null,
            "grid_row": null,
            "max_height": null,
            "align_content": null,
            "visibility": null,
            "align_self": null,
            "height": null,
            "min_height": null,
            "padding": null,
            "grid_auto_rows": null,
            "grid_gap": null,
            "max_width": null,
            "order": null,
            "_view_module_version": "1.2.0",
            "grid_template_areas": null,
            "object_position": null,
            "object_fit": null,
            "grid_auto_columns": null,
            "margin": null,
            "display": null,
            "left": null
          }
        },
        "7c67a5dd62c64489b9654b45c3d08ff5": {
          "model_module": "@jupyter-widgets/controls",
          "model_name": "DescriptionStyleModel",
          "state": {
            "_view_name": "StyleView",
            "_model_name": "DescriptionStyleModel",
            "description_width": "",
            "_view_module": "@jupyter-widgets/base",
            "_model_module_version": "1.5.0",
            "_view_count": null,
            "_view_module_version": "1.2.0",
            "_model_module": "@jupyter-widgets/controls"
          }
        },
        "c113a24f69604e1db6943cb77f6e7bf1": {
          "model_module": "@jupyter-widgets/base",
          "model_name": "LayoutModel",
          "state": {
            "_view_name": "LayoutView",
            "grid_template_rows": null,
            "right": null,
            "justify_content": null,
            "_view_module": "@jupyter-widgets/base",
            "overflow": null,
            "_model_module_version": "1.2.0",
            "_view_count": null,
            "flex_flow": null,
            "width": null,
            "min_width": null,
            "border": null,
            "align_items": null,
            "bottom": null,
            "_model_module": "@jupyter-widgets/base",
            "top": null,
            "grid_column": null,
            "overflow_y": null,
            "overflow_x": null,
            "grid_auto_flow": null,
            "grid_area": null,
            "grid_template_columns": null,
            "flex": null,
            "_model_name": "LayoutModel",
            "justify_items": null,
            "grid_row": null,
            "max_height": null,
            "align_content": null,
            "visibility": null,
            "align_self": null,
            "height": null,
            "min_height": null,
            "padding": null,
            "grid_auto_rows": null,
            "grid_gap": null,
            "max_width": null,
            "order": null,
            "_view_module_version": "1.2.0",
            "grid_template_areas": null,
            "object_position": null,
            "object_fit": null,
            "grid_auto_columns": null,
            "margin": null,
            "display": null,
            "left": null
          }
        },
        "31a90e542db1438f8a96f83fc52a7b29": {
          "model_module": "@jupyter-widgets/controls",
          "model_name": "HBoxModel",
          "state": {
            "_view_name": "HBoxView",
            "_dom_classes": [],
            "_model_name": "HBoxModel",
            "_view_module": "@jupyter-widgets/controls",
            "_model_module_version": "1.5.0",
            "_view_count": null,
            "_view_module_version": "1.5.0",
            "box_style": "",
            "layout": "IPY_MODEL_65e387269a6a4cbbaabb192df3f0e979",
            "_model_module": "@jupyter-widgets/controls",
            "children": [
              "IPY_MODEL_0283dc32b122419585736c4570718fb3",
              "IPY_MODEL_90dd9b6f8d8e46cc8b980787cca4dde5"
            ]
          }
        },
        "65e387269a6a4cbbaabb192df3f0e979": {
          "model_module": "@jupyter-widgets/base",
          "model_name": "LayoutModel",
          "state": {
            "_view_name": "LayoutView",
            "grid_template_rows": null,
            "right": null,
            "justify_content": null,
            "_view_module": "@jupyter-widgets/base",
            "overflow": null,
            "_model_module_version": "1.2.0",
            "_view_count": null,
            "flex_flow": null,
            "width": null,
            "min_width": null,
            "border": null,
            "align_items": null,
            "bottom": null,
            "_model_module": "@jupyter-widgets/base",
            "top": null,
            "grid_column": null,
            "overflow_y": null,
            "overflow_x": null,
            "grid_auto_flow": null,
            "grid_area": null,
            "grid_template_columns": null,
            "flex": null,
            "_model_name": "LayoutModel",
            "justify_items": null,
            "grid_row": null,
            "max_height": null,
            "align_content": null,
            "visibility": null,
            "align_self": null,
            "height": null,
            "min_height": null,
            "padding": null,
            "grid_auto_rows": null,
            "grid_gap": null,
            "max_width": null,
            "order": null,
            "_view_module_version": "1.2.0",
            "grid_template_areas": null,
            "object_position": null,
            "object_fit": null,
            "grid_auto_columns": null,
            "margin": null,
            "display": null,
            "left": null
          }
        },
        "0283dc32b122419585736c4570718fb3": {
          "model_module": "@jupyter-widgets/controls",
          "model_name": "FloatProgressModel",
          "state": {
            "_view_name": "ProgressView",
            "style": "IPY_MODEL_660357bf3a2145f7a8ca0d4fbbd93f55",
            "_dom_classes": [],
            "description": " 90%",
            "_model_name": "FloatProgressModel",
            "bar_style": "danger",
            "max": 50000,
            "_view_module": "@jupyter-widgets/controls",
            "_model_module_version": "1.5.0",
            "value": 45242,
            "_view_count": null,
            "_view_module_version": "1.5.0",
            "orientation": "horizontal",
            "min": 0,
            "description_tooltip": null,
            "_model_module": "@jupyter-widgets/controls",
            "layout": "IPY_MODEL_5e5a75e1a1334c46bdc83c1ac8a6f50f"
          }
        },
        "90dd9b6f8d8e46cc8b980787cca4dde5": {
          "model_module": "@jupyter-widgets/controls",
          "model_name": "HTMLModel",
          "state": {
            "_view_name": "HTMLView",
            "style": "IPY_MODEL_34ecbb525a0b4291b2d6ab5a9d618a3c",
            "_dom_classes": [],
            "description": "",
            "_model_name": "HTMLModel",
            "placeholder": "​",
            "_view_module": "@jupyter-widgets/controls",
            "_model_module_version": "1.5.0",
            "value": " 45242/50000 [00:00&lt;00:00, 74037.57 examples/s]",
            "_view_count": null,
            "_view_module_version": "1.5.0",
            "description_tooltip": null,
            "_model_module": "@jupyter-widgets/controls",
            "layout": "IPY_MODEL_2b743a1dfe2d4dadb9b05ca67ff71870"
          }
        },
        "660357bf3a2145f7a8ca0d4fbbd93f55": {
          "model_module": "@jupyter-widgets/controls",
          "model_name": "ProgressStyleModel",
          "state": {
            "_view_name": "StyleView",
            "_model_name": "ProgressStyleModel",
            "description_width": "initial",
            "_view_module": "@jupyter-widgets/base",
            "_model_module_version": "1.5.0",
            "_view_count": null,
            "_view_module_version": "1.2.0",
            "bar_color": null,
            "_model_module": "@jupyter-widgets/controls"
          }
        },
        "5e5a75e1a1334c46bdc83c1ac8a6f50f": {
          "model_module": "@jupyter-widgets/base",
          "model_name": "LayoutModel",
          "state": {
            "_view_name": "LayoutView",
            "grid_template_rows": null,
            "right": null,
            "justify_content": null,
            "_view_module": "@jupyter-widgets/base",
            "overflow": null,
            "_model_module_version": "1.2.0",
            "_view_count": null,
            "flex_flow": null,
            "width": null,
            "min_width": null,
            "border": null,
            "align_items": null,
            "bottom": null,
            "_model_module": "@jupyter-widgets/base",
            "top": null,
            "grid_column": null,
            "overflow_y": null,
            "overflow_x": null,
            "grid_auto_flow": null,
            "grid_area": null,
            "grid_template_columns": null,
            "flex": null,
            "_model_name": "LayoutModel",
            "justify_items": null,
            "grid_row": null,
            "max_height": null,
            "align_content": null,
            "visibility": null,
            "align_self": null,
            "height": null,
            "min_height": null,
            "padding": null,
            "grid_auto_rows": null,
            "grid_gap": null,
            "max_width": null,
            "order": null,
            "_view_module_version": "1.2.0",
            "grid_template_areas": null,
            "object_position": null,
            "object_fit": null,
            "grid_auto_columns": null,
            "margin": null,
            "display": null,
            "left": null
          }
        },
        "34ecbb525a0b4291b2d6ab5a9d618a3c": {
          "model_module": "@jupyter-widgets/controls",
          "model_name": "DescriptionStyleModel",
          "state": {
            "_view_name": "StyleView",
            "_model_name": "DescriptionStyleModel",
            "description_width": "",
            "_view_module": "@jupyter-widgets/base",
            "_model_module_version": "1.5.0",
            "_view_count": null,
            "_view_module_version": "1.2.0",
            "_model_module": "@jupyter-widgets/controls"
          }
        },
        "2b743a1dfe2d4dadb9b05ca67ff71870": {
          "model_module": "@jupyter-widgets/base",
          "model_name": "LayoutModel",
          "state": {
            "_view_name": "LayoutView",
            "grid_template_rows": null,
            "right": null,
            "justify_content": null,
            "_view_module": "@jupyter-widgets/base",
            "overflow": null,
            "_model_module_version": "1.2.0",
            "_view_count": null,
            "flex_flow": null,
            "width": null,
            "min_width": null,
            "border": null,
            "align_items": null,
            "bottom": null,
            "_model_module": "@jupyter-widgets/base",
            "top": null,
            "grid_column": null,
            "overflow_y": null,
            "overflow_x": null,
            "grid_auto_flow": null,
            "grid_area": null,
            "grid_template_columns": null,
            "flex": null,
            "_model_name": "LayoutModel",
            "justify_items": null,
            "grid_row": null,
            "max_height": null,
            "align_content": null,
            "visibility": null,
            "align_self": null,
            "height": null,
            "min_height": null,
            "padding": null,
            "grid_auto_rows": null,
            "grid_gap": null,
            "max_width": null,
            "order": null,
            "_view_module_version": "1.2.0",
            "grid_template_areas": null,
            "object_position": null,
            "object_fit": null,
            "grid_auto_columns": null,
            "margin": null,
            "display": null,
            "left": null
          }
        },
        "864aa49bfed94c0287787e3d1134dd93": {
          "model_module": "@jupyter-widgets/controls",
          "model_name": "HBoxModel",
          "state": {
            "_view_name": "HBoxView",
            "_dom_classes": [],
            "_model_name": "HBoxModel",
            "_view_module": "@jupyter-widgets/controls",
            "_model_module_version": "1.5.0",
            "_view_count": null,
            "_view_module_version": "1.5.0",
            "box_style": "",
            "layout": "IPY_MODEL_0846d68beabf4867bb1eda7e0a5f6e63",
            "_model_module": "@jupyter-widgets/controls",
            "children": [
              "IPY_MODEL_77e50945fafd4388a061054bda251686",
              "IPY_MODEL_96a15f2360bb47fe8b03eb4308e12f2e"
            ]
          }
        },
        "0846d68beabf4867bb1eda7e0a5f6e63": {
          "model_module": "@jupyter-widgets/base",
          "model_name": "LayoutModel",
          "state": {
            "_view_name": "LayoutView",
            "grid_template_rows": null,
            "right": null,
            "justify_content": null,
            "_view_module": "@jupyter-widgets/base",
            "overflow": null,
            "_model_module_version": "1.2.0",
            "_view_count": null,
            "flex_flow": null,
            "width": null,
            "min_width": null,
            "border": null,
            "align_items": null,
            "bottom": null,
            "_model_module": "@jupyter-widgets/base",
            "top": null,
            "grid_column": null,
            "overflow_y": null,
            "overflow_x": null,
            "grid_auto_flow": null,
            "grid_area": null,
            "grid_template_columns": null,
            "flex": null,
            "_model_name": "LayoutModel",
            "justify_items": null,
            "grid_row": null,
            "max_height": null,
            "align_content": null,
            "visibility": null,
            "align_self": null,
            "height": null,
            "min_height": null,
            "padding": null,
            "grid_auto_rows": null,
            "grid_gap": null,
            "max_width": null,
            "order": null,
            "_view_module_version": "1.2.0",
            "grid_template_areas": null,
            "object_position": null,
            "object_fit": null,
            "grid_auto_columns": null,
            "margin": null,
            "display": null,
            "left": null
          }
        },
        "77e50945fafd4388a061054bda251686": {
          "model_module": "@jupyter-widgets/controls",
          "model_name": "FloatProgressModel",
          "state": {
            "_view_name": "ProgressView",
            "style": "IPY_MODEL_8695ec0c90864986bf12dd1401e28ce8",
            "_dom_classes": [],
            "description": "",
            "_model_name": "FloatProgressModel",
            "bar_style": "info",
            "max": 1,
            "_view_module": "@jupyter-widgets/controls",
            "_model_module_version": "1.5.0",
            "value": 1,
            "_view_count": null,
            "_view_module_version": "1.5.0",
            "orientation": "horizontal",
            "min": 0,
            "description_tooltip": null,
            "_model_module": "@jupyter-widgets/controls",
            "layout": "IPY_MODEL_39bb33bf3e0b4e9aaa26ddd3b58fe17a"
          }
        },
        "96a15f2360bb47fe8b03eb4308e12f2e": {
          "model_module": "@jupyter-widgets/controls",
          "model_name": "HTMLModel",
          "state": {
            "_view_name": "HTMLView",
            "style": "IPY_MODEL_1d365fff4a6c4e91a2e179f76a07bb5d",
            "_dom_classes": [],
            "description": "",
            "_model_name": "HTMLModel",
            "placeholder": "​",
            "_view_module": "@jupyter-widgets/controls",
            "_model_module_version": "1.5.0",
            "value": " 10000/0 [00:05&lt;00:00, 1663.46 examples/s]",
            "_view_count": null,
            "_view_module_version": "1.5.0",
            "description_tooltip": null,
            "_model_module": "@jupyter-widgets/controls",
            "layout": "IPY_MODEL_9ea7f4d654f5424cacbc11d98935f580"
          }
        },
        "8695ec0c90864986bf12dd1401e28ce8": {
          "model_module": "@jupyter-widgets/controls",
          "model_name": "ProgressStyleModel",
          "state": {
            "_view_name": "StyleView",
            "_model_name": "ProgressStyleModel",
            "description_width": "initial",
            "_view_module": "@jupyter-widgets/base",
            "_model_module_version": "1.5.0",
            "_view_count": null,
            "_view_module_version": "1.2.0",
            "bar_color": null,
            "_model_module": "@jupyter-widgets/controls"
          }
        },
        "39bb33bf3e0b4e9aaa26ddd3b58fe17a": {
          "model_module": "@jupyter-widgets/base",
          "model_name": "LayoutModel",
          "state": {
            "_view_name": "LayoutView",
            "grid_template_rows": null,
            "right": null,
            "justify_content": null,
            "_view_module": "@jupyter-widgets/base",
            "overflow": null,
            "_model_module_version": "1.2.0",
            "_view_count": null,
            "flex_flow": null,
            "width": null,
            "min_width": null,
            "border": null,
            "align_items": null,
            "bottom": null,
            "_model_module": "@jupyter-widgets/base",
            "top": null,
            "grid_column": null,
            "overflow_y": null,
            "overflow_x": null,
            "grid_auto_flow": null,
            "grid_area": null,
            "grid_template_columns": null,
            "flex": null,
            "_model_name": "LayoutModel",
            "justify_items": null,
            "grid_row": null,
            "max_height": null,
            "align_content": null,
            "visibility": null,
            "align_self": null,
            "height": null,
            "min_height": null,
            "padding": null,
            "grid_auto_rows": null,
            "grid_gap": null,
            "max_width": null,
            "order": null,
            "_view_module_version": "1.2.0",
            "grid_template_areas": null,
            "object_position": null,
            "object_fit": null,
            "grid_auto_columns": null,
            "margin": null,
            "display": null,
            "left": null
          }
        },
        "1d365fff4a6c4e91a2e179f76a07bb5d": {
          "model_module": "@jupyter-widgets/controls",
          "model_name": "DescriptionStyleModel",
          "state": {
            "_view_name": "StyleView",
            "_model_name": "DescriptionStyleModel",
            "description_width": "",
            "_view_module": "@jupyter-widgets/base",
            "_model_module_version": "1.5.0",
            "_view_count": null,
            "_view_module_version": "1.2.0",
            "_model_module": "@jupyter-widgets/controls"
          }
        },
        "9ea7f4d654f5424cacbc11d98935f580": {
          "model_module": "@jupyter-widgets/base",
          "model_name": "LayoutModel",
          "state": {
            "_view_name": "LayoutView",
            "grid_template_rows": null,
            "right": null,
            "justify_content": null,
            "_view_module": "@jupyter-widgets/base",
            "overflow": null,
            "_model_module_version": "1.2.0",
            "_view_count": null,
            "flex_flow": null,
            "width": null,
            "min_width": null,
            "border": null,
            "align_items": null,
            "bottom": null,
            "_model_module": "@jupyter-widgets/base",
            "top": null,
            "grid_column": null,
            "overflow_y": null,
            "overflow_x": null,
            "grid_auto_flow": null,
            "grid_area": null,
            "grid_template_columns": null,
            "flex": null,
            "_model_name": "LayoutModel",
            "justify_items": null,
            "grid_row": null,
            "max_height": null,
            "align_content": null,
            "visibility": null,
            "align_self": null,
            "height": null,
            "min_height": null,
            "padding": null,
            "grid_auto_rows": null,
            "grid_gap": null,
            "max_width": null,
            "order": null,
            "_view_module_version": "1.2.0",
            "grid_template_areas": null,
            "object_position": null,
            "object_fit": null,
            "grid_auto_columns": null,
            "margin": null,
            "display": null,
            "left": null
          }
        },
        "7ecc5005b2f24bb3a4f9e8080c0b3fa0": {
          "model_module": "@jupyter-widgets/controls",
          "model_name": "HBoxModel",
          "state": {
            "_view_name": "HBoxView",
            "_dom_classes": [],
            "_model_name": "HBoxModel",
            "_view_module": "@jupyter-widgets/controls",
            "_model_module_version": "1.5.0",
            "_view_count": null,
            "_view_module_version": "1.5.0",
            "box_style": "",
            "layout": "IPY_MODEL_81f93cc6a57042279edfa38c7e0203d5",
            "_model_module": "@jupyter-widgets/controls",
            "children": [
              "IPY_MODEL_7ac4624aa8e5484aa56c00b2f7618318",
              "IPY_MODEL_d2eb3cdf1d4947d6a6c97d6c29d4b77a"
            ]
          }
        },
        "81f93cc6a57042279edfa38c7e0203d5": {
          "model_module": "@jupyter-widgets/base",
          "model_name": "LayoutModel",
          "state": {
            "_view_name": "LayoutView",
            "grid_template_rows": null,
            "right": null,
            "justify_content": null,
            "_view_module": "@jupyter-widgets/base",
            "overflow": null,
            "_model_module_version": "1.2.0",
            "_view_count": null,
            "flex_flow": null,
            "width": null,
            "min_width": null,
            "border": null,
            "align_items": null,
            "bottom": null,
            "_model_module": "@jupyter-widgets/base",
            "top": null,
            "grid_column": null,
            "overflow_y": null,
            "overflow_x": null,
            "grid_auto_flow": null,
            "grid_area": null,
            "grid_template_columns": null,
            "flex": null,
            "_model_name": "LayoutModel",
            "justify_items": null,
            "grid_row": null,
            "max_height": null,
            "align_content": null,
            "visibility": null,
            "align_self": null,
            "height": null,
            "min_height": null,
            "padding": null,
            "grid_auto_rows": null,
            "grid_gap": null,
            "max_width": null,
            "order": null,
            "_view_module_version": "1.2.0",
            "grid_template_areas": null,
            "object_position": null,
            "object_fit": null,
            "grid_auto_columns": null,
            "margin": null,
            "display": null,
            "left": null
          }
        },
        "7ac4624aa8e5484aa56c00b2f7618318": {
          "model_module": "@jupyter-widgets/controls",
          "model_name": "FloatProgressModel",
          "state": {
            "_view_name": "ProgressView",
            "style": "IPY_MODEL_e04813d73637411ca8adee2fdffb9aa5",
            "_dom_classes": [],
            "description": "  0%",
            "_model_name": "FloatProgressModel",
            "bar_style": "danger",
            "max": 10000,
            "_view_module": "@jupyter-widgets/controls",
            "_model_module_version": "1.5.0",
            "value": 0,
            "_view_count": null,
            "_view_module_version": "1.5.0",
            "orientation": "horizontal",
            "min": 0,
            "description_tooltip": null,
            "_model_module": "@jupyter-widgets/controls",
            "layout": "IPY_MODEL_9e20c9f7565247e28e0eb3d47972350b"
          }
        },
        "d2eb3cdf1d4947d6a6c97d6c29d4b77a": {
          "model_module": "@jupyter-widgets/controls",
          "model_name": "HTMLModel",
          "state": {
            "_view_name": "HTMLView",
            "style": "IPY_MODEL_5c8a45a769fb4b0eb4c455cd3d587a6c",
            "_dom_classes": [],
            "description": "",
            "_model_name": "HTMLModel",
            "placeholder": "​",
            "_view_module": "@jupyter-widgets/controls",
            "_model_module_version": "1.5.0",
            "value": " 0/10000 [00:00&lt;?, ? examples/s]",
            "_view_count": null,
            "_view_module_version": "1.5.0",
            "description_tooltip": null,
            "_model_module": "@jupyter-widgets/controls",
            "layout": "IPY_MODEL_bbc32bc377904d49b7a7fb3f38a3b8a3"
          }
        },
        "e04813d73637411ca8adee2fdffb9aa5": {
          "model_module": "@jupyter-widgets/controls",
          "model_name": "ProgressStyleModel",
          "state": {
            "_view_name": "StyleView",
            "_model_name": "ProgressStyleModel",
            "description_width": "initial",
            "_view_module": "@jupyter-widgets/base",
            "_model_module_version": "1.5.0",
            "_view_count": null,
            "_view_module_version": "1.2.0",
            "bar_color": null,
            "_model_module": "@jupyter-widgets/controls"
          }
        },
        "9e20c9f7565247e28e0eb3d47972350b": {
          "model_module": "@jupyter-widgets/base",
          "model_name": "LayoutModel",
          "state": {
            "_view_name": "LayoutView",
            "grid_template_rows": null,
            "right": null,
            "justify_content": null,
            "_view_module": "@jupyter-widgets/base",
            "overflow": null,
            "_model_module_version": "1.2.0",
            "_view_count": null,
            "flex_flow": null,
            "width": null,
            "min_width": null,
            "border": null,
            "align_items": null,
            "bottom": null,
            "_model_module": "@jupyter-widgets/base",
            "top": null,
            "grid_column": null,
            "overflow_y": null,
            "overflow_x": null,
            "grid_auto_flow": null,
            "grid_area": null,
            "grid_template_columns": null,
            "flex": null,
            "_model_name": "LayoutModel",
            "justify_items": null,
            "grid_row": null,
            "max_height": null,
            "align_content": null,
            "visibility": null,
            "align_self": null,
            "height": null,
            "min_height": null,
            "padding": null,
            "grid_auto_rows": null,
            "grid_gap": null,
            "max_width": null,
            "order": null,
            "_view_module_version": "1.2.0",
            "grid_template_areas": null,
            "object_position": null,
            "object_fit": null,
            "grid_auto_columns": null,
            "margin": null,
            "display": null,
            "left": null
          }
        },
        "5c8a45a769fb4b0eb4c455cd3d587a6c": {
          "model_module": "@jupyter-widgets/controls",
          "model_name": "DescriptionStyleModel",
          "state": {
            "_view_name": "StyleView",
            "_model_name": "DescriptionStyleModel",
            "description_width": "",
            "_view_module": "@jupyter-widgets/base",
            "_model_module_version": "1.5.0",
            "_view_count": null,
            "_view_module_version": "1.2.0",
            "_model_module": "@jupyter-widgets/controls"
          }
        },
        "bbc32bc377904d49b7a7fb3f38a3b8a3": {
          "model_module": "@jupyter-widgets/base",
          "model_name": "LayoutModel",
          "state": {
            "_view_name": "LayoutView",
            "grid_template_rows": null,
            "right": null,
            "justify_content": null,
            "_view_module": "@jupyter-widgets/base",
            "overflow": null,
            "_model_module_version": "1.2.0",
            "_view_count": null,
            "flex_flow": null,
            "width": null,
            "min_width": null,
            "border": null,
            "align_items": null,
            "bottom": null,
            "_model_module": "@jupyter-widgets/base",
            "top": null,
            "grid_column": null,
            "overflow_y": null,
            "overflow_x": null,
            "grid_auto_flow": null,
            "grid_area": null,
            "grid_template_columns": null,
            "flex": null,
            "_model_name": "LayoutModel",
            "justify_items": null,
            "grid_row": null,
            "max_height": null,
            "align_content": null,
            "visibility": null,
            "align_self": null,
            "height": null,
            "min_height": null,
            "padding": null,
            "grid_auto_rows": null,
            "grid_gap": null,
            "max_width": null,
            "order": null,
            "_view_module_version": "1.2.0",
            "grid_template_areas": null,
            "object_position": null,
            "object_fit": null,
            "grid_auto_columns": null,
            "margin": null,
            "display": null,
            "left": null
          }
        }
      }
    }
  },
  "cells": [
    {
      "cell_type": "markdown",
      "metadata": {
        "id": "Qe8RMPTeh-9Y"
      },
      "source": [
        "**COMP-5011-FDE Machine Learning & Neural Network**\r\n",
        "\r\n",
        "**Project** \r\n",
        "\r\n",
        "**Name**: Khushal Paresh Thaker\r\n",
        "\r\n",
        "**Student ID**: 1106937\r\n",
        "\r\n",
        "\r\n",
        "---\r\n",
        "\r\n",
        "\r\n",
        "\r\n",
        "**Task**: Object-centric Small Image recognition task with medium datasets\r\n",
        "\r\n",
        "**Dataset**: **CIFAR10**, CIFAR100 \r\n"
      ]
    },
    {
      "cell_type": "markdown",
      "metadata": {
        "id": "RTFg2yEwiGdi"
      },
      "source": [
        "**Contents**\r\n",
        "\r\n",
        "\r\n",
        "1.   Library Import\r\n",
        "2.   BiT model Load\r\n",
        "3.   Dataset (Cifar10) Loading and necessary preprocessing\r\n",
        "4.   Cuda C based ELM Code\r\n",
        "5.   Training the Model\r\n",
        "6.   Testing the Model\r\n",
        "\r\n"
      ]
    },
    {
      "cell_type": "markdown",
      "metadata": {
        "id": "SOWW0lf_iKW_"
      },
      "source": [
        "##1. Library Import"
      ]
    },
    {
      "cell_type": "code",
      "metadata": {
        "id": "QK6lkAV1NTTp"
      },
      "source": [
        "# Importing necessary libraries\r\n",
        "import tensorflow as tf\r\n",
        "import tensorflow_hub as hub\r\n",
        "import tensorflow_datasets as tfds\r\n",
        "import numpy as np"
      ],
      "execution_count": 1,
      "outputs": []
    },
    {
      "cell_type": "code",
      "metadata": {
        "id": "ikU1jFDvNdln"
      },
      "source": [
        "# setting the constant values used in the rest of the code.\r\n",
        "NUM_CLASSES = 10\r\n",
        "BATCH_SIZE = 1000\r\n",
        "DATASET_NUM_TRAIN_EXAMPLES = 50000\r\n",
        "RESIZE_TO = 128"
      ],
      "execution_count": 2,
      "outputs": []
    },
    {
      "cell_type": "markdown",
      "metadata": {
        "id": "_W2g8RUiNkG4"
      },
      "source": [
        "## 2. BiT Model Load"
      ]
    },
    {
      "cell_type": "code",
      "metadata": {
        "id": "IGMwblMjNnhq"
      },
      "source": [
        "# Using the state-of-the-art model - Big Transfer (BiT) for acheiving high accuracy.\r\n",
        "class FeatureNet(tf.keras.Model):\r\n",
        "  def __init__(self, num_classes, module):\r\n",
        "    super().__init__()\r\n",
        "\r\n",
        "    self.num_classes = num_classes\r\n",
        "    self.head = tf.keras.layers.Dense(num_classes, kernel_initializer='zeros', use_bias=False)\r\n",
        "    self.bit_model = module\r\n",
        "    self.bit_model.trainable = False #freeze the backbone network\r\n",
        "    \r\n",
        "  def call(self, images):\r\n",
        "    bit_embedding = self.bit_model(images)\r\n",
        "    return bit_embedding, self.head(bit_embedding)\r\n",
        "\r\n",
        "# We use the state-of-the-art model for transfer learning from Google: Big Transfer\r\n",
        "model_url = \"https://tfhub.dev/google/bit/m-r50x1/1\"\r\n",
        "module = hub.KerasLayer(model_url, trainable=False)\r\n",
        "model = FeatureNet(num_classes=NUM_CLASSES, module=module)"
      ],
      "execution_count": 3,
      "outputs": []
    },
    {
      "cell_type": "markdown",
      "metadata": {
        "id": "PPYVXSQpNrci"
      },
      "source": [
        "## 3. Dataset (Cifar10) loading and necessary preprocessing"
      ]
    },
    {
      "cell_type": "code",
      "metadata": {
        "id": "yZB3V4-CNvKf",
        "colab": {
          "base_uri": "https://localhost:8080/",
          "height": 781,
          "referenced_widgets": [
            "e0b2086440a54158896289d142b7b59f",
            "aebb70b5e84f412e8fd99fda9af3cf3e",
            "66cf0d91a0d143039b47e3c808fcbdd7",
            "8e12b19efa514e8cb7a5dde6190de625",
            "569b8642209946b687504631ce98ab60",
            "8005694cf28a43909c766d4f94a84839",
            "75ede162d868438aa6ed2fa1d6a0fe79",
            "fb1b261eadf14e089771fcc45fbd6d58",
            "ab77349245e64fcdb990d37a9d396153",
            "d0eb6b6c2274451bb2b4c732ead40738",
            "eb387431743a42a2ae8dde3f85a2da4e",
            "a17b07f52c5b473d805031676c7accdb",
            "34e4db3d10454fb7b219c0f9275c9079",
            "9c2f957e02324f3994b1283931873d3f",
            "595bb2021d474bdc9973256068d75225",
            "23baea1854154edd9c503418c38a058b",
            "7009dae56630459e960e86a1208bc526",
            "5317a62edf0e4441ab2bb9dedff3f33f",
            "3997e39f86e14d698954c4559cb3ce3d",
            "d33f606d218c42519ad8e419a687aa99",
            "aba544042dff4f0aa691c29454ff7514",
            "797b246e97fa4275baf9940fd75cfb99",
            "23965a05446144109851a4256a8b5bb6",
            "13c2fed8e2384760b610922e7c0a3d2b",
            "30cf8a8757434f35a51e1e559a2f86e0",
            "2d38db5a6c25444c879fcaab202f2ac5",
            "d0aaab6a135e4ba581495890531a84dc",
            "3b4b3208aa9848758ca92e9df841974d",
            "bd069a405e8e44f2b3d4017cd35ef955",
            "66e85676131647ceb2b21494ae6c9374",
            "7c67a5dd62c64489b9654b45c3d08ff5",
            "c113a24f69604e1db6943cb77f6e7bf1",
            "31a90e542db1438f8a96f83fc52a7b29",
            "65e387269a6a4cbbaabb192df3f0e979",
            "0283dc32b122419585736c4570718fb3",
            "90dd9b6f8d8e46cc8b980787cca4dde5",
            "660357bf3a2145f7a8ca0d4fbbd93f55",
            "5e5a75e1a1334c46bdc83c1ac8a6f50f",
            "34ecbb525a0b4291b2d6ab5a9d618a3c",
            "2b743a1dfe2d4dadb9b05ca67ff71870",
            "864aa49bfed94c0287787e3d1134dd93",
            "0846d68beabf4867bb1eda7e0a5f6e63",
            "77e50945fafd4388a061054bda251686",
            "96a15f2360bb47fe8b03eb4308e12f2e",
            "8695ec0c90864986bf12dd1401e28ce8",
            "39bb33bf3e0b4e9aaa26ddd3b58fe17a",
            "1d365fff4a6c4e91a2e179f76a07bb5d",
            "9ea7f4d654f5424cacbc11d98935f580",
            "7ecc5005b2f24bb3a4f9e8080c0b3fa0",
            "81f93cc6a57042279edfa38c7e0203d5",
            "7ac4624aa8e5484aa56c00b2f7618318",
            "d2eb3cdf1d4947d6a6c97d6c29d4b77a",
            "e04813d73637411ca8adee2fdffb9aa5",
            "9e20c9f7565247e28e0eb3d47972350b",
            "5c8a45a769fb4b0eb4c455cd3d587a6c",
            "bbc32bc377904d49b7a7fb3f38a3b8a3"
          ]
        },
        "outputId": "af0580e2-f7ca-4fd2-d8e0-95a717f654c8"
      },
      "source": [
        "# loading the train and test set from cifar100 dataset\r\n",
        "(ds_train, ds_test), ds_info = tfds.load(\r\n",
        "    'cifar10',\r\n",
        "    split=['train', 'test'],\r\n",
        "    shuffle_files=True,\r\n",
        "    as_supervised=True,\r\n",
        "    with_info=True,\r\n",
        ")\r\n",
        "\r\n",
        "# printing information about the cifar10 dataset\r\n",
        "ds_info"
      ],
      "execution_count": 4,
      "outputs": [
        {
          "output_type": "stream",
          "text": [
            "\u001b[1mDownloading and preparing dataset cifar10/3.0.2 (download: 162.17 MiB, generated: 132.40 MiB, total: 294.58 MiB) to /root/tensorflow_datasets/cifar10/3.0.2...\u001b[0m\n"
          ],
          "name": "stdout"
        },
        {
          "output_type": "display_data",
          "data": {
            "application/vnd.jupyter.widget-view+json": {
              "model_id": "e0b2086440a54158896289d142b7b59f",
              "version_minor": 0,
              "version_major": 2
            },
            "text/plain": [
              "HBox(children=(FloatProgress(value=1.0, bar_style='info', description='Dl Completed...', max=1.0, style=Progre…"
            ]
          },
          "metadata": {
            "tags": []
          }
        },
        {
          "output_type": "display_data",
          "data": {
            "application/vnd.jupyter.widget-view+json": {
              "model_id": "ab77349245e64fcdb990d37a9d396153",
              "version_minor": 0,
              "version_major": 2
            },
            "text/plain": [
              "HBox(children=(FloatProgress(value=1.0, bar_style='info', description='Dl Size...', max=1.0, style=ProgressSty…"
            ]
          },
          "metadata": {
            "tags": []
          }
        },
        {
          "output_type": "display_data",
          "data": {
            "application/vnd.jupyter.widget-view+json": {
              "model_id": "7009dae56630459e960e86a1208bc526",
              "version_minor": 0,
              "version_major": 2
            },
            "text/plain": [
              "HBox(children=(FloatProgress(value=1.0, bar_style='info', description='Extraction completed...', max=1.0, styl…"
            ]
          },
          "metadata": {
            "tags": []
          }
        },
        {
          "output_type": "stream",
          "text": [
            "\n",
            "\n",
            "\n",
            "\n",
            "\n",
            "\n"
          ],
          "name": "stdout"
        },
        {
          "output_type": "display_data",
          "data": {
            "application/vnd.jupyter.widget-view+json": {
              "model_id": "30cf8a8757434f35a51e1e559a2f86e0",
              "version_minor": 0,
              "version_major": 2
            },
            "text/plain": [
              "HBox(children=(FloatProgress(value=1.0, bar_style='info', max=1.0), HTML(value='')))"
            ]
          },
          "metadata": {
            "tags": []
          }
        },
        {
          "output_type": "stream",
          "text": [
            "\rShuffling and writing examples to /root/tensorflow_datasets/cifar10/3.0.2.incompleteSL5KJE/cifar10-train.tfrecord\n"
          ],
          "name": "stdout"
        },
        {
          "output_type": "display_data",
          "data": {
            "application/vnd.jupyter.widget-view+json": {
              "model_id": "31a90e542db1438f8a96f83fc52a7b29",
              "version_minor": 0,
              "version_major": 2
            },
            "text/plain": [
              "HBox(children=(FloatProgress(value=0.0, max=50000.0), HTML(value='')))"
            ]
          },
          "metadata": {
            "tags": []
          }
        },
        {
          "output_type": "stream",
          "text": [
            "\r"
          ],
          "name": "stdout"
        },
        {
          "output_type": "display_data",
          "data": {
            "application/vnd.jupyter.widget-view+json": {
              "model_id": "864aa49bfed94c0287787e3d1134dd93",
              "version_minor": 0,
              "version_major": 2
            },
            "text/plain": [
              "HBox(children=(FloatProgress(value=1.0, bar_style='info', max=1.0), HTML(value='')))"
            ]
          },
          "metadata": {
            "tags": []
          }
        },
        {
          "output_type": "stream",
          "text": [
            "\rShuffling and writing examples to /root/tensorflow_datasets/cifar10/3.0.2.incompleteSL5KJE/cifar10-test.tfrecord\n"
          ],
          "name": "stdout"
        },
        {
          "output_type": "display_data",
          "data": {
            "application/vnd.jupyter.widget-view+json": {
              "model_id": "7ecc5005b2f24bb3a4f9e8080c0b3fa0",
              "version_minor": 0,
              "version_major": 2
            },
            "text/plain": [
              "HBox(children=(FloatProgress(value=0.0, max=10000.0), HTML(value='')))"
            ]
          },
          "metadata": {
            "tags": []
          }
        },
        {
          "output_type": "stream",
          "text": [
            "\u001b[1mDataset cifar10 downloaded and prepared to /root/tensorflow_datasets/cifar10/3.0.2. Subsequent calls will reuse this data.\u001b[0m\n",
            "\r"
          ],
          "name": "stdout"
        },
        {
          "output_type": "execute_result",
          "data": {
            "text/plain": [
              "tfds.core.DatasetInfo(\n",
              "    name='cifar10',\n",
              "    version=3.0.2,\n",
              "    description='The CIFAR-10 dataset consists of 60000 32x32 colour images in 10 classes, with 6000 images per class. There are 50000 training images and 10000 test images.',\n",
              "    homepage='https://www.cs.toronto.edu/~kriz/cifar.html',\n",
              "    features=FeaturesDict({\n",
              "        'id': Text(shape=(), dtype=tf.string),\n",
              "        'image': Image(shape=(32, 32, 3), dtype=tf.uint8),\n",
              "        'label': ClassLabel(shape=(), dtype=tf.int64, num_classes=10),\n",
              "    }),\n",
              "    total_num_examples=60000,\n",
              "    splits={\n",
              "        'test': 10000,\n",
              "        'train': 50000,\n",
              "    },\n",
              "    supervised_keys=('image', 'label'),\n",
              "    citation=\"\"\"@TECHREPORT{Krizhevsky09learningmultiple,\n",
              "        author = {Alex Krizhevsky},\n",
              "        title = {Learning multiple layers of features from tiny images},\n",
              "        institution = {},\n",
              "        year = {2009}\n",
              "    }\"\"\",\n",
              "    redistribution_info=,\n",
              ")"
            ]
          },
          "metadata": {
            "tags": []
          },
          "execution_count": 4
        }
      ]
    },
    {
      "cell_type": "code",
      "metadata": {
        "colab": {
          "base_uri": "https://localhost:8080/",
          "height": 235
        },
        "id": "4HjCv8RcipFS",
        "outputId": "d81fefe2-df70-4b9a-a084-17092cea5645"
      },
      "source": [
        "# using dataframe functionality to understand the dataset\r\n",
        "tfds.as_dataframe(ds_train.take(5), ds_info)"
      ],
      "execution_count": 5,
      "outputs": [
        {
          "output_type": "execute_result",
          "data": {
            "text/html": [
              "<style  type=\"text/css\" >\n",
              "</style><table id=\"T_8aef088c_3f10_11eb_b22a_0242ac1c0002\" ><thead>    <tr>        <th class=\"blank level0\" ></th>        <th class=\"col_heading level0 col0\" >image</th>        <th class=\"col_heading level0 col1\" >label</th>    </tr></thead><tbody>\n",
              "                <tr>\n",
              "                        <th id=\"T_8aef088c_3f10_11eb_b22a_0242ac1c0002level0_row0\" class=\"row_heading level0 row0\" >0</th>\n",
              "                        <td id=\"T_8aef088c_3f10_11eb_b22a_0242ac1c0002row0_col0\" class=\"data row0 col0\" ><img src=\"data:image/png;base64,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\" alt=\"Img\" /></td>\n",
              "                        <td id=\"T_8aef088c_3f10_11eb_b22a_0242ac1c0002row0_col1\" class=\"data row0 col1\" >7 (horse)</td>\n",
              "            </tr>\n",
              "            <tr>\n",
              "                        <th id=\"T_8aef088c_3f10_11eb_b22a_0242ac1c0002level0_row1\" class=\"row_heading level0 row1\" >1</th>\n",
              "                        <td id=\"T_8aef088c_3f10_11eb_b22a_0242ac1c0002row1_col0\" class=\"data row1 col0\" ><img src=\"data:image/png;base64,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\" alt=\"Img\" /></td>\n",
              "                        <td id=\"T_8aef088c_3f10_11eb_b22a_0242ac1c0002row1_col1\" class=\"data row1 col1\" >8 (ship)</td>\n",
              "            </tr>\n",
              "            <tr>\n",
              "                        <th id=\"T_8aef088c_3f10_11eb_b22a_0242ac1c0002level0_row2\" class=\"row_heading level0 row2\" >2</th>\n",
              "                        <td id=\"T_8aef088c_3f10_11eb_b22a_0242ac1c0002row2_col0\" class=\"data row2 col0\" ><img src=\"data:image/png;base64,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\" alt=\"Img\" /></td>\n",
              "                        <td id=\"T_8aef088c_3f10_11eb_b22a_0242ac1c0002row2_col1\" class=\"data row2 col1\" >4 (deer)</td>\n",
              "            </tr>\n",
              "            <tr>\n",
              "                        <th id=\"T_8aef088c_3f10_11eb_b22a_0242ac1c0002level0_row3\" class=\"row_heading level0 row3\" >3</th>\n",
              "                        <td id=\"T_8aef088c_3f10_11eb_b22a_0242ac1c0002row3_col0\" class=\"data row3 col0\" ><img src=\"data:image/png;base64,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\" alt=\"Img\" /></td>\n",
              "                        <td id=\"T_8aef088c_3f10_11eb_b22a_0242ac1c0002row3_col1\" class=\"data row3 col1\" >4 (deer)</td>\n",
              "            </tr>\n",
              "            <tr>\n",
              "                        <th id=\"T_8aef088c_3f10_11eb_b22a_0242ac1c0002level0_row4\" class=\"row_heading level0 row4\" >4</th>\n",
              "                        <td id=\"T_8aef088c_3f10_11eb_b22a_0242ac1c0002row4_col0\" class=\"data row4 col0\" ><img src=\"data:image/png;base64,iVBORw0KGgoAAAANSUhEUgAAACAAAAAgCAIAAAD8GO2jAAAId0lEQVR4nD2WW49c13GF67Yv59bdc+FQJEayFJmkhCQ2BAGRLSQwEARB/nYeYss2qEi2/ECLkhiJssjhcIY93afPOftSlYcBXH+gCqu+Wqvw7O56WZYY48npcUrLOB5ijKthtdvta62llGmaAbDvG+fZOWmaJufsPDknJyfHh8P0+vIakb13xJRTKaVM01SrEjozlJRSCCHGyMzOubZtvPel5HEcERERmYlZRMR7Z1bneVatudhmM6SUiFBVRWS3G1OqRLg5GhAtpWpGOVXx3q/Xa1U9HA5mambLstSiRAQAtdZSKiIZgIgg8n4/inAIvtT65s02xoCIqorAprbkJS0pNqHWJaVaShHv/TRNpRQWYiYRMbNS8u34qirCpVSttVYNQbx3zNJ1bQgu5zLPMyB4782KTankOk1LExsiqjUBgOSczayUGskDAzPnnFWNmRFRRPp+2O32SCTCiNi2nYjUWsyk1oKIXdfVYmY159k5p4VUhYjBzMwohEgkIg6AcqqmWLKWUmspWqsg903bxDj0PQIs80xkBiW2cX+Yxt3eERPhNB2s1tiEEIMB7HcjAOZcSsmEyM55VWvbrm0HM4qxMwUkZuQ2NEGC9yGGRsT3/SCOxJGIcz544tb5eZqtqpAE39RSAGrKU06FiMxU5nmOMXrvmaXWSkREhMwsXlUBSZybU4IDECNXZEZmAF2CSDeszWCaZqtWs43zcqvYPM/jOJoZ3aLSdV0IQVUBYLPZqFZmMUDnXKoJCAip1qq1IgAY5rnsrrfLfowhzrkYYC51Tun2bvb7/W63OxwOpZQQgsQYT05OXr16VUohImb2PjAdHBOBElTHtQvivIig92KqIHjQQoiAVKoBkiEjGbOVUlJKAGBmqhpCEACY59l7b2YAsN1uU0pMGAia6Akz6RSptiGIQ0TtGj67e/70/37cTcucy3g4GFJRI4Pbcs6ZmZnVWmutMk3T9fV1jLFt26urK0RkZkd41Mc7p+u+EwJYx9Y5cZ5KXlYN9xEJagUcp3lJWVkAkAibZpimaZ5nIgJA7/10mKRr+1JUKxQoVZFYWsSzk9Xb944BimcDq21HBFDy/ODd+0d3jj7/4i/r6A3kx1eXasRAnrnkqgqqqIpmwIwpZQaS8/O3X7x4sd/vnUjb9mmZVn18+/7xW6eDc1w11zL3jTShE+Y7d4+T6Sf/8k83+/r4q2ff/HBA8VqqMOdUbrZ7RCTgYkUNai7OBxnHEQByzk4CVh0aeeft09UgzLXrGmYv0g69Q/B3775VLNXdGLzrh+755U39PMfQ3G5VRLRiKcXAgg9qhZxbUpKLiwvnnKrmnD3Z6aqJzoSB0LrW930rgjFGtVCxAY5N25PxtNQnT74H4L8D413Umm+bMbOpEliuVVR1WRZmNitnJ0fHA+/fXEVcHffHfdsdrVZqlaXfnJwbew7usFv++NkffveHx18/vwixBzAzyzmrAgC1bTtN07IssQlaijCLc67WikSEuYmwan0IfQzOsxfyZjRPUzeoD244OauMf/3myyffPXu922a06EVzuiUSgAiJCEMIpeRSS8kZCSWXjAjCgsgk1A/t0HVNjMKITLvdPs1TUoibfXXx2++++/1vf+sdvvfu+eVfvs5LzktRwxCiOK8FUkqqamagRkQxRjEzEQcAAFKUxYem4XffOb+8vNpOI2pu2MVmcKH9/PMvv/riy/Fm997P3jk+u2PkH3/5Vy3GTkQ8k+S63OoxjjMLM1M39AQGtVRC6tohJx33h9g2m+PTotIPJ7Httrs3iPjZZ7//05/+XGp9+PD9Dz94/+zO+tNfffThw3eCUyEouc5TrrWq6nq99j7knGqtuRRBs6Hv2qYlEkHOpRa1775/vt3l9alv2iG8ZY8fP375ZgYKm6F/694dpHJxcaEu/tunH3WRv/72b6+3MxJ57w+Hw3a7RcRbtyAi6Vp/dnocYwSDgJlZxjG/ePn85cubfVrO7/fvnW/O7t7d58v9lIVFTdVq23gOgST+6ycfh9D99+/+N6XqvUPEv2e7956Z5fz8bLPpm6bZrFaYZ8hTSrxkqGA//HjhnN09XT169Gif6PrrZ+PhsLsZh2ZzdnKSAXIyjv7jj/754nr7xVdPzISIVBXAmBkApmmSBw/eNbMY4/FmBTnON94wXr95tVoPP728fvr0+6NePng4PHr48GY35WXZ7adrR3jUDZsjyynXJISf/vrjw7I8ffrcDIgIENfroe8755xoxpxzG3G/u0nLfHJ0V9Xdv3/uOAchhPpmO15ebZt2+OU/Prq8vBx309XugMEXmIMPLuLN9Zs7Q/Nfv/nV//jPnz1/cb0/+DjEdhDvui5IyUXYgfJS5pzqenNE5Esal3E/dM752LYNkdxs3zRN03etFktaXRyWVImzeO66hpnuna7+899//cNPr558+/3fXlyhkWf2Psh602mlYdjkNG3T5dXVJTOnNHrPIbgQXd/3tzESQgghANDVzX5OBUsKkZ2LqxWralrmNugH799772dvPfv+p2+/+Wl3yPvdSKenx0hQSqmlboY1aC1pamJwLoQYu64nonEcr66uXr9+ndLio1PE3f4Q20Y1I5qZmqlzFB0EqSfr8MsP3/2P33zy8/fuH/Zbadt2s9Hdbj80oW/DPM9X19vLi1dlSc7zvXtnx8cb74SIaq3jOLL3hjSOs9w9urq8GFa9CFcFUEYIZlbTogbs6Be/eBC6QCkVYuiHeHTcxEjzNL16eblM1ZS0kqkcDun2BSYiYi41MzMyx7Z5/8E/sCCSheCRRMEBOTViEsUsrj56/77UmqPn4BvHSgB92whQRVithr5vjjYDM8Tgp3lWU1WbUplTCdGxsGlNSxYn3rFaVmQCrVUB0CFpmR3J/wNEzzFWi8CNpgAAAABJRU5ErkJggg==\" alt=\"Img\" /></td>\n",
              "                        <td id=\"T_8aef088c_3f10_11eb_b22a_0242ac1c0002row4_col1\" class=\"data row4 col1\" >6 (frog)</td>\n",
              "            </tr>\n",
              "    </tbody></table>"
            ],
            "text/plain": [
              "                                               image  label\n",
              "0  [[[143, 96, 70], [141, 96, 72], [135, 93, 72],...      7\n",
              "1  [[[203, 214, 234], [191, 207, 226], [178, 200,...      8\n",
              "2  [[[106, 103, 104], [103, 97, 99], [102, 93, 96...      4\n",
              "3  [[[53, 53, 60], [63, 62, 66], [74, 72, 75], [8...      4\n",
              "4  [[[22, 23, 15], [15, 16, 8], [23, 24, 16], [42...      6"
            ]
          },
          "metadata": {
            "tags": []
          },
          "execution_count": 5
        }
      ]
    },
    {
      "cell_type": "markdown",
      "metadata": {
        "id": "gF85tVSFNyjm"
      },
      "source": [
        "Processing for the train and test sets. The preprocessing phase includes dividing the pixel values by 255 to make them in the [0,1] range. Besides images are resized from 32x32 to 128x128 which helped achieve higher accuracy."
      ]
    },
    {
      "cell_type": "code",
      "metadata": {
        "id": "yt_jpXf5N09b"
      },
      "source": [
        "def cast_to_tuple(features):\r\n",
        "  return (features['image'], features['label'])\r\n",
        "  \r\n",
        "def trainSet_preprocess(features, label):\r\n",
        "  features = tf.image.random_flip_left_right(features)\r\n",
        "  features = tf.image.resize(features, [RESIZE_TO, RESIZE_TO])\r\n",
        "  features = tf.cast(features, tf.float32) / 255.0\r\n",
        "  return features, label\r\n",
        "\r\n",
        "def testSet_preprocess(features, label):\r\n",
        "  features = tf.image.resize(features, [RESIZE_TO, RESIZE_TO])\r\n",
        "  features = tf.cast(features, tf.float32) / 255.0\r\n",
        "  return features, label\r\n",
        "\r\n",
        "trainSet_processFlow = (ds_train\r\n",
        "                  .shuffle(DATASET_NUM_TRAIN_EXAMPLES)\r\n",
        "                  .map(trainSet_preprocess, num_parallel_calls=4)\r\n",
        "                  .batch(BATCH_SIZE)\r\n",
        "                  .prefetch(2))\r\n",
        "\r\n",
        "testSet_processFlow = (ds_test.map(testSet_preprocess, num_parallel_calls=1)\r\n",
        "                  .batch(BATCH_SIZE)\r\n",
        "                  .prefetch(2))"
      ],
      "execution_count": 6,
      "outputs": []
    },
    {
      "cell_type": "markdown",
      "metadata": {
        "id": "25FSAtw1N0U0"
      },
      "source": [
        "## 4. Cuda C based ELM code"
      ]
    },
    {
      "cell_type": "markdown",
      "metadata": {
        "id": "3NWf4kp8N5dE"
      },
      "source": [
        "We now extract all the training data features and labels and store them into files named features.txt and labels.txt, respectively. These two files will be opened by the CUDA-based ELM, then it will write the output into another file called weights.txt which we will read later in this notebook to perform the evaluation."
      ]
    },
    {
      "cell_type": "code",
      "metadata": {
        "id": "XQogYI_iN79M"
      },
      "source": [
        "!rm -f features.txt labels.txt\r\n",
        "f_f = open('features.txt', 'a')\r\n",
        "l_f = open('labels.txt', 'a')\r\n",
        "    \r\n",
        "for step, (x_batch_train, y_batch_train) in enumerate(trainSet_processFlow):\r\n",
        "    # extracting features\r\n",
        "    H, _ = model(x_batch_train, training=False)\r\n",
        "    argstr_feats = ''\r\n",
        "    argstr_labels = ''\r\n",
        "    t = tf.one_hot(y_batch_train, NUM_CLASSES)\r\n",
        "    # Write the features into file\r\n",
        "    for row in np.array(H):\r\n",
        "        for element in row:\r\n",
        "            argstr_feats += (format(element, '.12f') + \" \")\r\n",
        "        argstr_feats += '\\n'\r\n",
        "    f_f.write(argstr_feats)\r\n",
        "    # Write the labels into file\r\n",
        "    for row in np.array(t):\r\n",
        "        for element in row:\r\n",
        "            argstr_labels += (str(element) + \" \")\r\n",
        "        argstr_labels += '\\n'\r\n",
        "    l_f.write(argstr_labels)\r\n",
        "\r\n",
        "f_f.close()\r\n",
        "l_f.close()"
      ],
      "execution_count": 7,
      "outputs": []
    },
    {
      "cell_type": "markdown",
      "metadata": {
        "id": "zGDJlmipN_PO"
      },
      "source": [
        "We now write the CUDA code for Extreme Machine Learning (ELM). We first read the training data features and labels."
      ]
    },
    {
      "cell_type": "code",
      "metadata": {
        "colab": {
          "base_uri": "https://localhost:8080/"
        },
        "id": "5URFU2ebOAwF",
        "outputId": "e7c3224b-b79c-49db-a54f-3ee1a27fd702"
      },
      "source": [
        "%%writefile elm.cu\r\n",
        "#include <string>\r\n",
        "#include <cuda_runtime.h>\r\n",
        "#include <cublas_v2.h>\r\n",
        "\r\n",
        "#include <iostream>\r\n",
        "#include <fstream>\r\n",
        "#include <string>\r\n",
        "#include <sstream>\r\n",
        "\r\n",
        "using namespace std;\r\n",
        "\r\n",
        "#define CUDA_CALL(res, str) { if (res != cudaSuccess) { printf(\"CUDA Error : %s : %s %d : ERR %s\\n\", str, __FILE__, __LINE__, cudaGetErrorName(res)); } }\r\n",
        "#define CUBLAS_CALL(res, str) { if (res != CUBLAS_STATUS_SUCCESS) { printf(\"CUBLAS Error : %s : %s %d : ERR %d\\n\", str, __FILE__, __LINE__, int(res)); } }\r\n",
        "\r\n",
        "\r\n",
        "float* d_ELM(float* H, float* t, int feat_rows, int feat_cols, int label_cols)\r\n",
        "{\r\n",
        "    cublasHandle_t cu_cublasHandle;\r\n",
        "    CUBLAS_CALL(cublasCreate(&cu_cublasHandle), \"Failed to initialize cuBLAS!\");\r\n",
        "    \r\n",
        "    // creating multistreams\r\n",
        "    cudaStream_t *streams = (cudaStream_t *) malloc(2*sizeof(cudaStream_t));\r\n",
        "    cudaStreamCreate(&streams[0]);\r\n",
        "    cudaStreamCreate(&streams[1]);\r\n",
        "    \r\n",
        "    size_t szH = feat_rows * feat_cols * sizeof(float);\r\n",
        "    size_t szHTH = feat_cols * feat_cols * sizeof(float);\r\n",
        "    size_t szH1 = feat_rows * feat_cols/2 * sizeof(float);\r\n",
        "    size_t szHTH1 = feat_cols * feat_cols/2 * sizeof(float);\r\n",
        "    \r\n",
        "    // Start of multiplication to obtain HtH \r\n",
        "    float* H1 = (float*) malloc(szH1);\r\n",
        "    float* H2 = (float*) malloc(szH1);\r\n",
        "    \r\n",
        "    // Split the features data into two matrices\r\n",
        "    for(int i = 0; i < feat_rows; i++) {\r\n",
        "        for (int j = 0; j < feat_cols; j++) {\r\n",
        "            if (j < feat_cols/2) H1[i*feat_cols/2+j] = H[i*feat_cols+j];\r\n",
        "            if (j >= feat_cols/2) H2[i*feat_cols/2+j-feat_cols/2] = H[i*feat_cols+j];\r\n",
        "        }\r\n",
        "    }\r\n",
        "    \r\n",
        "    // Allocate the variables for computing HTH \r\n",
        "    float* dHTH;\r\n",
        "    float* dH;\r\n",
        "    float* dH1;\r\n",
        "    float* dH2;\r\n",
        "    float* dHTH1;\r\n",
        "    float* dHTH2;\r\n",
        "    \r\n",
        "    CUDA_CALL(cudaMalloc(&dH, szH), \"Failed to allocate H!\");\r\n",
        "    CUDA_CALL(cudaMalloc(&dHTH, szHTH), \"Failed to allocate dHTH!\");\r\n",
        "    CUDA_CALL(cudaMalloc(&dH1, szH1), \"Failed to allocate dH1\");\r\n",
        "    CUDA_CALL(cudaMalloc(&dH2, szH1), \"Failed to allocate dH2\");\r\n",
        "    CUDA_CALL(cudaMalloc(&dHTH1, szHTH1), \"Failed to allocate dHTH1\");\r\n",
        "    CUDA_CALL(cudaMalloc(&dHTH2, szHTH1), \"Failed to allocate dHTH2\");\r\n",
        "    \r\n",
        "    CUDA_CALL(cudaMemcpy(dH, H, szH, cudaMemcpyHostToDevice), \"Failed to copy to dH!\");\r\n",
        "    CUDA_CALL(cudaMemcpy(dH1, H1, szH1, cudaMemcpyHostToDevice), \"Failed to copy to dH1!\");\r\n",
        "    CUDA_CALL(cudaMemcpy(dH2, H2, szH1, cudaMemcpyHostToDevice), \"Failed to copy to dH2!\");\r\n",
        "    \r\n",
        "    float alpha = 1.0;\r\n",
        "    float beta = 0.0;\r\n",
        "\r\n",
        "    // Multiplication with two CUDA streams. We split the H matrix into two halves.\r\n",
        "\r\n",
        "    cublasSetStream(cu_cublasHandle, streams[0]);\r\n",
        "    CUBLAS_CALL(cublasSgemm(cu_cublasHandle, CUBLAS_OP_N, CUBLAS_OP_T, feat_cols, feat_cols/2, feat_rows, &alpha, dH, feat_cols, dH1, feat_cols/2, &beta, dHTH1, feat_cols), \"Failed to call matrix mult\");\r\n",
        "    CUDA_CALL(cudaDeviceSynchronize(), \"Failed to synchronize after kernel call!\");\r\n",
        "    cublasSetStream(cu_cublasHandle, streams[1]);\r\n",
        "    CUBLAS_CALL(cublasSgemm(cu_cublasHandle, CUBLAS_OP_N, CUBLAS_OP_T, feat_cols, feat_cols/2, feat_rows, &alpha, dH, feat_cols, dH2, feat_cols/2, &beta, dHTH2, feat_cols), \"Failed to call matrix mult\");\r\n",
        "    CUDA_CALL(cudaDeviceSynchronize(), \"Failed to synchronize after kernel call!\");\r\n",
        "\r\n",
        "    float* HTH1 = (float*) malloc(szHTH1);\r\n",
        "    float* HTH2 = (float*) malloc(szHTH1);\r\n",
        "    CUDA_CALL(cudaMemcpy(HTH1, dHTH1, szHTH1, cudaMemcpyDeviceToHost), \"Failed to copy to res!\");\r\n",
        "    CUDA_CALL(cudaMemcpy(HTH2, dHTH2, szHTH1, cudaMemcpyDeviceToHost), \"Failed to copy to res!\");\r\n",
        "    float* HTH = (float*) malloc(szHTH);\r\n",
        "    for(int i = 0; i < feat_cols/2; i++) {\r\n",
        "        for (int j = 0; j < feat_cols; j++) { \r\n",
        "            HTH[i*feat_cols + j] = HTH1[i*feat_cols + j];\r\n",
        "            HTH[(i+feat_cols/2)*feat_cols + j] = HTH2[i*feat_cols + j];\r\n",
        "      }\r\n",
        "    }  \r\n",
        "    for(int i = 0; i < feat_cols; i++) {\r\n",
        "        for (int j = 0; j < feat_cols; j++) { \r\n",
        "            if (i == j) HTH[i*feat_cols + j] +=1;\r\n",
        "      }\r\n",
        "    } \r\n",
        "    CUDA_CALL(cudaMemcpy(dHTH, HTH, szHTH, cudaMemcpyHostToDevice), \"Failed to copy to HTH!\");\r\n",
        "    // End of multiplication to obtain HTH\r\n",
        "    \r\n",
        "    // Matrix Inversion using LU decomposition\r\n",
        "\r\n",
        "    float** adL;\r\n",
        "    float** adC;\r\n",
        "    float* dC;\r\n",
        "    int* dLUPivots;\r\n",
        "    int* dLUInfo;\r\n",
        "\r\n",
        "    size_t szA = feat_cols * feat_cols * sizeof(float);\r\n",
        "\r\n",
        "    CUDA_CALL(cudaMalloc(&adL, sizeof(float*)), \"Failed to allocate adL!\");\r\n",
        "    CUDA_CALL(cudaMalloc(&adC, sizeof(float*)), \"Failed to allocate adC!\");\r\n",
        "    CUDA_CALL(cudaMalloc(&dC, szA), \"Failed to allocate dC!\");\r\n",
        "    CUDA_CALL(cudaMalloc(&dLUPivots, feat_cols * sizeof(float)), \"Failed to allocate dLUPivots!\");\r\n",
        "    CUDA_CALL(cudaMalloc(&dLUInfo, sizeof(float)), \"Failed to allocate dLUInfo!\");\r\n",
        "\r\n",
        "    CUDA_CALL(cudaMemcpy(adL, &dHTH, sizeof(float*), cudaMemcpyHostToDevice), \"Failed to copy to adL!\");\r\n",
        "    CUDA_CALL(cudaMemcpy(adC, &dC, sizeof(float*), cudaMemcpyHostToDevice), \"Failed to copy to adC!\");\r\n",
        "\r\n",
        "    // We call the CUBLAS LU decomposition\r\n",
        "    CUBLAS_CALL(cublasSgetrfBatched(cu_cublasHandle, feat_cols, adL, feat_cols, dLUPivots, dLUInfo, 1), \"Failed to perform LU decomp operation!\");\r\n",
        "    CUDA_CALL(cudaDeviceSynchronize(), \"Failed to synchronize after kernel call!\");\r\n",
        "\r\n",
        "    CUBLAS_CALL(cublasSgetriBatched(cu_cublasHandle, feat_cols, (const float **)adL, feat_cols, dLUPivots, adC, feat_cols, dLUInfo, 1), \"Failed to perform Inverse operation!\");\r\n",
        "    CUDA_CALL(cudaDeviceSynchronize(), \"Failed to synchronize after kernel call!\");\r\n",
        "\r\n",
        "    CUDA_CALL(cudaFree(adL), \"Failed to free adL!\");\r\n",
        "    CUDA_CALL(cudaFree(adC), \"Failed to free adC!\");\r\n",
        "    CUDA_CALL(cudaFree(dLUPivots), \"Failed to free dLUPivots!\");\r\n",
        "    CUDA_CALL(cudaFree(dLUInfo), \"Failed to free dLUInfo!\");\r\n",
        "\r\n",
        "    // Multiplication of (HTH)^-1 and HT\r\n",
        "    float* dpHT;\r\n",
        "    size_t szpHT = feat_rows * feat_cols * sizeof(float);\r\n",
        "    CUDA_CALL(cudaMalloc(&dpHT, szpHT), \"Failed to allocate pHT!\");\r\n",
        "\r\n",
        "    CUBLAS_CALL(cublasSgemm(cu_cublasHandle, CUBLAS_OP_N, CUBLAS_OP_N, feat_cols, feat_rows, feat_cols, &alpha, dC, feat_cols, dH, feat_cols, &beta, dpHT, feat_cols), \"Failed to call matrix mult\");\r\n",
        "    CUDA_CALL(cudaDeviceSynchronize(), \"Failed to synchronize after kernel call!\");\r\n",
        "\r\n",
        "    float* dt;\r\n",
        "    size_t szt = feat_rows * label_cols * sizeof(float);\r\n",
        "    CUDA_CALL(cudaMalloc(&dt, szt), \"Failed to allocate t!\");\r\n",
        "    CUDA_CALL(cudaMemcpy(dt, t, szt, cudaMemcpyHostToDevice), \"Failed to copy to dt!\");\r\n",
        "\r\n",
        "    float* dW;\r\n",
        "    size_t szW = feat_rows * label_cols * sizeof(float);\r\n",
        "    CUDA_CALL(cudaMalloc(&dW, szW), \"Failed to allocate W!\");\r\n",
        "    \r\n",
        "    // Multiplication of (HTH)^-1*HT and t (labels)\r\n",
        "    CUBLAS_CALL(cublasSgemm(cu_cublasHandle, CUBLAS_OP_N, CUBLAS_OP_T, label_cols, feat_cols, feat_rows, &alpha, dt, label_cols, dpHT, feat_cols, &beta, dW, label_cols), \"Failed to call matrix mult\");\r\n",
        "    CUDA_CALL(cudaDeviceSynchronize(), \"Failed to synchronize after kernel call!\");\r\n",
        "\r\n",
        "    float* res = (float*) malloc(szW);\r\n",
        "    CUDA_CALL(cudaMemcpy(res, dW, szW, cudaMemcpyDeviceToHost), \"Failed to copy to res!\");\r\n",
        "\r\n",
        "    CUBLAS_CALL(cublasDestroy(cu_cublasHandle), \"Failed to destroy cuBLAS!\");\r\n",
        "    return res;\r\n",
        "}\r\n",
        "\r\n",
        "int main(int argc, char *argv[])\r\n",
        "{\r\n",
        "    // number of training examples, features size, number of classes\r\n",
        "    int feat_rows = 50000;\r\n",
        "    int feat_cols = 2048;\r\n",
        "    int label_cols = 10;\r\n",
        "\r\n",
        "    float* H = (float*) malloc(feat_rows * feat_cols * sizeof(float));\r\n",
        "    float* t = (float*) malloc(feat_rows * label_cols * sizeof(float));\r\n",
        "    \r\n",
        "    // load the features from file.\r\n",
        "    string line;\r\n",
        "    ifstream featfile(\"features.txt\");\r\n",
        "    if(featfile.is_open())\r\n",
        "    {\r\n",
        "        int row = 0;\r\n",
        "        char delim='\\n';\r\n",
        "        while (getline(featfile, line, delim)) {\r\n",
        "            string subs;\r\n",
        "            int col = 0;\r\n",
        "            string delimiter = \" \";\r\n",
        "            size_t pos = 0;\r\n",
        "            string token;\r\n",
        "            while ((pos = line.find(delimiter)) != string::npos) {\r\n",
        "                token = line.substr(0, pos);\r\n",
        "                H[row*feat_cols + col] = stof(token);\r\n",
        "                line.erase(0, pos + delimiter.length());\r\n",
        "                col++;\r\n",
        "            }\r\n",
        "            row++;\r\n",
        "        }\r\n",
        "        featfile.close();\r\n",
        "    }\r\n",
        "    \r\n",
        "    // load the labels from file\r\n",
        "    ifstream labelfile(\"labels.txt\");\r\n",
        "    if(labelfile.is_open())\r\n",
        "    {\r\n",
        "        int row = 0;\r\n",
        "        char delim='\\n';\r\n",
        "        while (getline(labelfile, line, delim)) {\r\n",
        "            string subs;\r\n",
        "            int col = 0;\r\n",
        "            string delimiter = \" \";\r\n",
        "            size_t pos = 0;\r\n",
        "            string token;\r\n",
        "            while ((pos = line.find(delimiter)) != string::npos) {\r\n",
        "                token = line.substr(0, pos);\r\n",
        "                t[row*label_cols + col] = stof(token);\r\n",
        "                line.erase(0, pos + delimiter.length());\r\n",
        "                col++;\r\n",
        "            }\r\n",
        "            row++;\r\n",
        "        }\r\n",
        "        labelfile.close();\r\n",
        "    }\r\n",
        "\r\n",
        "    // we run the ELM and get the weights\r\n",
        "    float* res = d_ELM(H, t, feat_rows, feat_cols, label_cols);\r\n",
        "    \r\n",
        "    // we store the weights obtained from ELM into a file\r\n",
        "    ofstream output;\r\n",
        "    output.open (\"weights.txt\");\r\n",
        "    for (int i=0; i<feat_cols; i++){\r\n",
        "        for (int j=0; j<label_cols; j++){\r\n",
        "            output << res[j+label_cols*i];\r\n",
        "            output << \" \";\r\n",
        "        }\r\n",
        "        output << endl;\r\n",
        "    }\r\n",
        "    output.close();\r\n",
        "    return 0;\r\n",
        "}\r\n"
      ],
      "execution_count": 8,
      "outputs": [
        {
          "output_type": "stream",
          "text": [
            "Writing elm.cu\n"
          ],
          "name": "stdout"
        }
      ]
    },
    {
      "cell_type": "markdown",
      "metadata": {
        "id": "lglu1QvrOC6q"
      },
      "source": [
        "We now compile the CUDA code and make a binary called ```elm```."
      ]
    },
    {
      "cell_type": "code",
      "metadata": {
        "id": "6VphtmZ_OF1K"
      },
      "source": [
        "!nvcc -o elm ./elm.cu -lcublas"
      ],
      "execution_count": 9,
      "outputs": []
    },
    {
      "cell_type": "markdown",
      "metadata": {
        "id": "lzEIIhxEOH-c"
      },
      "source": [
        "We now run the CUDA-based ELM but before doing that we release the GPU memory for previous feature extraction."
      ]
    },
    {
      "cell_type": "code",
      "metadata": {
        "id": "hraG_Mp-OKQG"
      },
      "source": [
        "!./elm"
      ],
      "execution_count": 10,
      "outputs": []
    },
    {
      "cell_type": "markdown",
      "metadata": {
        "id": "8aD5NTuUOOTf"
      },
      "source": [
        "Load the weights generated by the CUDA-based ELM."
      ]
    },
    {
      "cell_type": "code",
      "metadata": {
        "id": "NEBgofrfONrn"
      },
      "source": [
        "weights = np.zeros((2048, NUM_CLASSES), dtype=np.float)\r\n",
        "with open('weights.txt') as f:\r\n",
        "    for i, line in enumerate(f.readlines()):\r\n",
        "        for j, w in enumerate(line.split()):\r\n",
        "            weights[i,j] = float(w)"
      ],
      "execution_count": 11,
      "outputs": []
    },
    {
      "cell_type": "markdown",
      "metadata": {
        "id": "efrsrop6ORv9"
      },
      "source": [
        "We now evaluate the trained model using the weights obtained from CUDA-based ELM. We measure the accuracy of training and testing sets."
      ]
    },
    {
      "cell_type": "code",
      "metadata": {
        "id": "2M3537iEOTu_"
      },
      "source": [
        "# training accuracy metric\r\n",
        "train_acc_metric1 = tf.keras.metrics.SparseCategoricalAccuracy()\r\n",
        "train_acc_metric2 = tf.keras.metrics.SparseCategoricalAccuracy()\r\n",
        "train_acc_metric3 = tf.keras.metrics.SparseCategoricalAccuracy()\r\n",
        "\r\n",
        "# testing accuracy metric\r\n",
        "test_acc_metric1 = tf.keras.metrics.SparseCategoricalAccuracy()\r\n",
        "test_acc_metric2 = tf.keras.metrics.SparseCategoricalAccuracy()\r\n",
        "test_acc_metric3 = tf.keras.metrics.SparseCategoricalAccuracy()\r\n"
      ],
      "execution_count": 12,
      "outputs": []
    },
    {
      "cell_type": "markdown",
      "metadata": {
        "id": "yYuEwJHBOVoB"
      },
      "source": [
        "We set the weights of the last fully connected layer of our model with the weights obtained from CUDA-based ELM."
      ]
    },
    {
      "cell_type": "code",
      "metadata": {
        "id": "s4bMFkp6OXyy"
      },
      "source": [
        "model.head.set_weights([weights])"
      ],
      "execution_count": 13,
      "outputs": []
    },
    {
      "cell_type": "markdown",
      "metadata": {
        "id": "MaervE9tjBK0"
      },
      "source": [
        "## 5. Training the model"
      ]
    },
    {
      "cell_type": "markdown",
      "metadata": {
        "id": "OpHZiDlmOZkM"
      },
      "source": [
        "We are now evaluating the training accuracy."
      ]
    },
    {
      "cell_type": "code",
      "metadata": {
        "colab": {
          "base_uri": "https://localhost:8080/"
        },
        "id": "0txxrkYH9-a9",
        "outputId": "b4030e55-e4d6-41ea-94ef-bab71dff4f8a"
      },
      "source": [
        "# first run\r\n",
        "for x_batch_train, y_batch_train in trainSet_processFlow:\r\n",
        "    _, train_logits1 = model(x_batch_train, training=False)\r\n",
        "    train_acc_metric1.update_state(y_batch_train, train_logits1)\r\n",
        "train_acc1 = train_acc_metric1.result()\r\n",
        "train_acc_metric1.reset_states()\r\n",
        "print(\"Training accuracy for the first run: %.4f\" % (float(train_acc1),))"
      ],
      "execution_count": 14,
      "outputs": [
        {
          "output_type": "stream",
          "text": [
            "Training accuracy: 0.9313\n"
          ],
          "name": "stdout"
        }
      ]
    },
    {
      "cell_type": "code",
      "metadata": {
        "colab": {
          "base_uri": "https://localhost:8080/"
        },
        "id": "EgmqgiVP77ak",
        "outputId": "771afe85-5fb1-4adf-edfd-a195d499b663"
      },
      "source": [
        "# second run\r\n",
        "for x_batch_train, y_batch_train in trainSet_processFlow:\r\n",
        "    _, train_logits2 = model(x_batch_train, training=False)\r\n",
        "    train_acc_metric2.update_state(y_batch_train, train_logits2)\r\n",
        "train_acc2 = train_acc_metric2.result()\r\n",
        "train_acc_metric2.reset_states()\r\n",
        "print(\"Training accuracy for the second run: %.4f\" % (float(train_acc2),))"
      ],
      "execution_count": 15,
      "outputs": [
        {
          "output_type": "stream",
          "text": [
            "Training accuracy: 0.9318\n"
          ],
          "name": "stdout"
        }
      ]
    },
    {
      "cell_type": "code",
      "metadata": {
        "colab": {
          "base_uri": "https://localhost:8080/"
        },
        "id": "mD0qLDMD78Kw",
        "outputId": "c1fdbf5f-41d2-4d31-dc9e-1776352d4bfa"
      },
      "source": [
        "# third run\r\n",
        "for x_batch_train, y_batch_train in trainSet_processFlow:\r\n",
        "    _, train_logits3 = model(x_batch_train, training=False)\r\n",
        "    train_acc_metric3.update_state(y_batch_train, train_logits3)\r\n",
        "train_acc3 = train_acc_metric3.result()\r\n",
        "train_acc_metric3.reset_states()\r\n",
        "print(\"Training accuracy for the third run: %.4f\" % (float(train_acc3),))"
      ],
      "execution_count": 16,
      "outputs": [
        {
          "output_type": "stream",
          "text": [
            "Training accuracy: 0.9318\n"
          ],
          "name": "stdout"
        }
      ]
    },
    {
      "cell_type": "code",
      "metadata": {
        "colab": {
          "base_uri": "https://localhost:8080/"
        },
        "id": "cqrg3Akg8cKL",
        "outputId": "faee3f05-dd21-420e-b0ba-50678ac5db2c"
      },
      "source": [
        "# Average of the training accuracies\r\n",
        "print(\"Average Testing Accuracy: %.4f\" %(float((train_acc1+train_acc2+train_acc3)/3)*100))"
      ],
      "execution_count": 17,
      "outputs": [
        {
          "output_type": "stream",
          "text": [
            "Average Testing Accuracy: 93.1640\n"
          ],
          "name": "stdout"
        }
      ]
    },
    {
      "cell_type": "markdown",
      "metadata": {
        "id": "zoRBoZumSm22"
      },
      "source": [
        "## 6. Testing the model"
      ]
    },
    {
      "cell_type": "markdown",
      "metadata": {
        "id": "JsdfsxxYOdOZ"
      },
      "source": [
        "We are now evaluating the testing accuracy thrice and getting the average of it."
      ]
    },
    {
      "cell_type": "code",
      "metadata": {
        "colab": {
          "base_uri": "https://localhost:8080/"
        },
        "id": "QB1CG6eEOfDv",
        "outputId": "09e54f4c-6b51-45e4-c440-aea16fce1e1a"
      },
      "source": [
        "# test run 1\r\n",
        "for x_batch_test, y_batch_test in testSet_processFlow:\r\n",
        "    _, test_logits1 = model(x_batch_test, training=False)\r\n",
        "    test_acc_metric1.update_state(y_batch_test, test_logits1)\r\n",
        "test_acc1 = test_acc_metric1.result()\r\n",
        "test_acc_metric1.reset_states()\r\n",
        "print(\"Testing accuracy for the first run: %.4f\" % (float(test_acc1),))"
      ],
      "execution_count": 18,
      "outputs": [
        {
          "output_type": "stream",
          "text": [
            "Testing accuracy for the first run: 0.9184\n"
          ],
          "name": "stdout"
        }
      ]
    },
    {
      "cell_type": "code",
      "metadata": {
        "colab": {
          "base_uri": "https://localhost:8080/"
        },
        "id": "_uhvnSRmSgvu",
        "outputId": "fec91f1c-7420-4e18-c5a0-03264d028c48"
      },
      "source": [
        "# test run 2\r\n",
        "for x_batch_test, y_batch_test in testSet_processFlow:\r\n",
        "    _, test_logits2 = model(x_batch_test, training=False)\r\n",
        "    test_acc_metric2.update_state(y_batch_test, test_logits2)\r\n",
        "test_acc2 = test_acc_metric2.result()\r\n",
        "test_acc_metric2.reset_states()\r\n",
        "print(\"Testing accuracy  for the second run: %.4f\" % (float(test_acc2),))"
      ],
      "execution_count": 19,
      "outputs": [
        {
          "output_type": "stream",
          "text": [
            "Testing accuracy  for the second run: 0.9184\n"
          ],
          "name": "stdout"
        }
      ]
    },
    {
      "cell_type": "code",
      "metadata": {
        "colab": {
          "base_uri": "https://localhost:8080/"
        },
        "id": "4CJ3br4cSiOl",
        "outputId": "e7aab667-9b2a-464b-9747-deac98e5a8b4"
      },
      "source": [
        "# test run 3\r\n",
        "for x_batch_test, y_batch_test in testSet_processFlow:\r\n",
        "    _, test_logits3 = model(x_batch_test, training=False)\r\n",
        "    test_acc_metric3.update_state(y_batch_test, test_logits3)\r\n",
        "test_acc3 = test_acc_metric3.result()\r\n",
        "test_acc_metric3.reset_states()\r\n",
        "print(\"Testing accuracy  for the third run: %.4f\" % (float(test_acc3),))"
      ],
      "execution_count": 20,
      "outputs": [
        {
          "output_type": "stream",
          "text": [
            "Testing accuracy  for the third run: 0.9184\n"
          ],
          "name": "stdout"
        }
      ]
    },
    {
      "cell_type": "code",
      "metadata": {
        "colab": {
          "base_uri": "https://localhost:8080/"
        },
        "id": "ep-S5kV6Sj8-",
        "outputId": "0de538f5-bfc7-4dd8-e161-271f3339a27c"
      },
      "source": [
        "# Average of the testing accuracies\r\n",
        "print(\"Average Testing Accuracy: %.4f\" %(float((test_acc1+test_acc2+test_acc3)/3)*100))"
      ],
      "execution_count": 21,
      "outputs": [
        {
          "output_type": "stream",
          "text": [
            "Average Testing Accuracy: 91.8400\n"
          ],
          "name": "stdout"
        }
      ]
    },
    {
      "cell_type": "code",
      "metadata": {
        "colab": {
          "base_uri": "https://localhost:8080/"
        },
        "id": "a2rGMPlXKn5L",
        "outputId": "e6e3616b-bb1a-4d94-9073-8a467b0c9add"
      },
      "source": [
        "print(\"Accuracies for Cifar10\")\r\n",
        "print(\"Training accuracy for the first run: %.4f\" % (float((train_acc1),)*100))\r\n",
        "print(\"Training accuracy for the second run: %.4f\" % (float((train_acc2),)*100))\r\n",
        "print(\"Training accuracy for the third run: %.4f\" % (float((train_acc3),)*100))\r\n",
        "print(\"Average Testing Accuracy: %.4f\" %(float((train_acc1+train_acc2+train_acc3)/3)*100))\r\n",
        "print(\"Testing accuracy for the first run: %.4f\" % (float((test_acc1),)*100))\r\n",
        "print(\"Testing accuracy  for the second run: %.4f\" % (float((test_acc2),)*100))\r\n",
        "print(\"Testing accuracy  for the third run: %.4f\" % (float((test_acc3),)*100))\r\n",
        "print(\"Average Testing Accuracy: %.4f\" %(float((test_acc1+test_acc2+test_acc3)/3)*100))"
      ],
      "execution_count": 23,
      "outputs": [
        {
          "output_type": "stream",
          "text": [
            "Accuracies for Cifar10\n",
            "Training accuracy for the first run: 93.1260\n",
            "Training accuracy for the second run: 93.1840\n",
            "Training accuracy for the third run: 93.1820\n",
            "Average Testing Accuracy: 93.1640\n",
            "Testing accuracy for the first run: 91.8400\n",
            "Testing accuracy  for the second run: 91.8400\n",
            "Testing accuracy  for the third run: 91.8400\n",
            "Average Testing Accuracy: 91.8400\n"
          ],
          "name": "stdout"
        }
      ]
    }
  ]
}